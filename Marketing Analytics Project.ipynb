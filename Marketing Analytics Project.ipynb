{
 "cells": [
  {
   "cell_type": "markdown",
   "metadata": {},
   "source": [
    "# Hola Cece! <a class=\"tocSkip\"></a>\n",
    "\n",
    "Mi nombre es Oscar Flores y tengo el gusto de revisar tu proyecto. Si tienes algún comentario que quieras agregar en tus respuestas te puedes referir a mi como Oscar, no hay problema que me trates de tú.\n",
    "\n",
    "Si veo un error en la primera revisión solamente lo señalaré y dejaré que tú encuentres de qué se trata y cómo arreglarlo. Debo prepararte para que te desempeñes como especialista en Data, en un trabajo real, el responsable a cargo tuyo hará lo mismo. Si aún tienes dificultades para resolver esta tarea, te daré indicaciones más precisas en una siguiente iteración.\n",
    "\n",
    "Te dejaré mis comentarios más abajo - **por favor, no los muevas, modifiques o borres**\n",
    "\n",
    "Comenzaré mis comentarios con un resumen de los puntos que están bien, aquellos que debes corregir y aquellos que puedes mejorar. Luego deberás revisar todo el notebook para leer mis comentarios, los cuales estarán en rectángulos de color verde, amarillo o rojo como siguen:\n",
    "\n",
    "<div class=\"alert alert-block alert-success\">\n",
    "<b>Comentario de Reviewer</b> <a class=\"tocSkip\"></a>\n",
    "    \n",
    "Muy bien! Toda la respuesta fue lograda satisfactoriamente.\n",
    "</div>\n",
    "\n",
    "<div class=\"alert alert-block alert-warning\">\n",
    "<b>Comentario de Reviewer</b> <a class=\"tocSkip\"></a>\n",
    "\n",
    "Existen detalles a mejorar. Existen recomendaciones.\n",
    "</div>\n",
    "\n",
    "<div class=\"alert alert-block alert-danger\">\n",
    "\n",
    "<b>Comentario de Reviewer</b> <a class=\"tocSkip\"></a>\n",
    "\n",
    "Se necesitan correcciones en el bloque. El trabajo no puede ser aceptado con comentarios en rojo sin solucionar.\n",
    "</div>\n",
    "\n",
    "Cualquier comentario que quieras agregar entre iteraciones de revisión lo puedes hacer de la siguiente manera:\n",
    "\n",
    "<div class=\"alert alert-block alert-info\">\n",
    "<b>Respuesta estudiante.</b> <a class=\"tocSkip\"></a>\n",
    "</div>\n"
   ]
  },
  {
   "cell_type": "markdown",
   "metadata": {},
   "source": [
    "## Resumen de la revisión 1 <a class=\"tocSkip\"></a>"
   ]
  },
  {
   "cell_type": "markdown",
   "metadata": {},
   "source": [
    "<div class=\"alert alert-block alert-warning\">\n",
    "<b>Comentario de Reviewer</b> <a class=\"tocSkip\"></a>\n",
    "\n",
    "Si bien tu trabajo tiene varios puntos correctos, aún hay varios otros que trabajar. No te preocupes que en general no son tan difíciles y te voy a guiar para que los puedas completar. Por ahroa enfocate en corregir los detalles de las primeras partes, que están más relacionados a cómo se muestra la data y algunos cálculos simples. De las métricas importantes el LTV está correcto, el cac calculado es un poco simple y el romi es erróneo. \n",
    "    \n",
    "Corrige las partes indicadas en recuadros rojos, cualquier duda/comentario me los puedes dejar en recuadros azules.\n",
    "    \n",
    "Saludos!\n",
    "</div>"
   ]
  },
  {
   "cell_type": "markdown",
   "metadata": {},
   "source": [
    "## Resumen de la revisión 2 <a class=\"tocSkip\"></a>"
   ]
  },
  {
   "cell_type": "markdown",
   "metadata": {},
   "source": [
    "<div class=\"alert alert-block alert-warning\">\n",
    "<b>Comentario de Reviewer v2</b> <a class=\"tocSkip\"></a>\n",
    "\n",
    "Hola! Bien con las correcciones, aunque hay un par que falta mejorar. La parte del tiempo de conversión tiene un error de cómo estás haciendo la resta y cómo haces la conversión a días. Lo otro que falta corregir es el cac y el romi. En esas secciones dejé comentarios más detallados para las correcciones.\n",
    "\n",
    "Saludos!\n",
    "</div>"
   ]
  },
  {
   "cell_type": "markdown",
   "metadata": {},
   "source": [
    "## Resumen de la revisión 3 <a class=\"tocSkip\"></a>"
   ]
  },
  {
   "cell_type": "markdown",
   "metadata": {},
   "source": [
    "<div class=\"alert alert-block alert-warning\">\n",
    "<b>Comentario de Reviewer v3</b> <a class=\"tocSkip\"></a>\n",
    "\n",
    "Muy bien con todas las correcciones! Tan solo hay un pequeño detalle con el calculo del romi, hay una diferencia entre calcular el revenue de cada compra y dividirlo por el costo, a calcular el revenue de cada usuario a lo largo de su vida y dividirlo por el cac. Te indiqué cómo corregir eso.\n",
    "\n",
    "Saludos!\n",
    "</div>"
   ]
  },
  {
   "cell_type": "markdown",
   "metadata": {},
   "source": [
    "## Resumen de la revisión 4 <a class=\"tocSkip\"></a>"
   ]
  },
  {
   "cell_type": "markdown",
   "metadata": {},
   "source": [
    "<div class=\"alert alert-block alert-success\">\n",
    "<b>Comentario de Reviewer v4</b> <a class=\"tocSkip\"></a>\n",
    "\n",
    "Muy bien! Has completado lo necesario para terminar el proyecto, felicitaciones!\n",
    "\n",
    "Saludos!\n",
    "</div>"
   ]
  },
  {
   "cell_type": "markdown",
   "metadata": {},
   "source": [
    "----"
   ]
  },
  {
   "cell_type": "markdown",
   "metadata": {
    "toc": true
   },
   "source": [
    "<h1>Table of Contents<span class=\"tocSkip\"></span></h1>\n",
    "<div class=\"toc\"><ul class=\"toc-item\"><li><span><a href=\"#Inicialización\" data-toc-modified-id=\"Inicialización-1\"><span class=\"toc-item-num\">1&nbsp;&nbsp;</span>Inicialización</a></span></li><li><span><a href=\"#Cargar-datos\" data-toc-modified-id=\"Cargar-datos-2\"><span class=\"toc-item-num\">2&nbsp;&nbsp;</span>Cargar datos</a></span></li><li><span><a href=\"#Análisis-exploratorio-de-los-datos\" data-toc-modified-id=\"Análisis-exploratorio-de-los-datos-3\"><span class=\"toc-item-num\">3&nbsp;&nbsp;</span>Análisis exploratorio de los datos</a></span><ul class=\"toc-item\"><li><span><a href=\"#Modificar-nombre-de-columnas-en-los-datasets:\" data-toc-modified-id=\"Modificar-nombre-de-columnas-en-los-datasets:-3.1\"><span class=\"toc-item-num\">3.1&nbsp;&nbsp;</span>Modificar nombre de columnas en los datasets:</a></span></li><li><span><a href=\"#Convertir-columnas-a-tipo-de-datos-adecuado\" data-toc-modified-id=\"Convertir-columnas-a-tipo-de-datos-adecuado-3.2\"><span class=\"toc-item-num\">3.2&nbsp;&nbsp;</span>Convertir columnas a tipo de datos adecuado</a></span></li></ul></li><li><span><a href=\"#Calcular-Metrícas\" data-toc-modified-id=\"Calcular-Metrícas-4\"><span class=\"toc-item-num\">4&nbsp;&nbsp;</span>Calcular Metrícas</a></span><ul class=\"toc-item\"><li><span><a href=\"#Producto:\" data-toc-modified-id=\"Producto:-4.1\"><span class=\"toc-item-num\">4.1&nbsp;&nbsp;</span>Producto:</a></span><ul class=\"toc-item\"><li><span><a href=\"#Cantidad-de-Personas-que-Usan-el-Producto-cada-Día,-Semana-y-Mes:\" data-toc-modified-id=\"Cantidad-de-Personas-que-Usan-el-Producto-cada-Día,-Semana-y-Mes:-4.1.1\"><span class=\"toc-item-num\">4.1.1&nbsp;&nbsp;</span>Cantidad de Personas que Usan el Producto cada Día, Semana y Mes:</a></span></li><li><span><a href=\"#Sesiones-de-usuarios-por-dia\" data-toc-modified-id=\"Sesiones-de-usuarios-por-dia-4.1.2\"><span class=\"toc-item-num\">4.1.2&nbsp;&nbsp;</span>Sesiones de usuarios por dia</a></span></li><li><span><a href=\"#Duración-de-las-sesiones\" data-toc-modified-id=\"Duración-de-las-sesiones-4.1.3\"><span class=\"toc-item-num\">4.1.3&nbsp;&nbsp;</span>Duración de las sesiones</a></span></li><li><span><a href=\"#Frecuencia-de-los-usuarios\" data-toc-modified-id=\"Frecuencia-de-los-usuarios-4.1.4\"><span class=\"toc-item-num\">4.1.4&nbsp;&nbsp;</span>Frecuencia de los usuarios</a></span></li></ul></li><li><span><a href=\"#Ventas:\" data-toc-modified-id=\"Ventas:-4.2\"><span class=\"toc-item-num\">4.2&nbsp;&nbsp;</span>Ventas:</a></span><ul class=\"toc-item\"><li><span><a href=\"#Análisis-de-cuándo-la-gente-empieza-a-comprar-(Conversion-Time):\" data-toc-modified-id=\"Análisis-de-cuándo-la-gente-empieza-a-comprar-(Conversion-Time):-4.2.1\"><span class=\"toc-item-num\">4.2.1&nbsp;&nbsp;</span>Análisis de cuándo la gente empieza a comprar (Conversion Time):</a></span></li><li><span><a href=\"#Orders-por-periodo-de-tiempo\" data-toc-modified-id=\"Orders-por-periodo-de-tiempo-4.2.2\"><span class=\"toc-item-num\">4.2.2&nbsp;&nbsp;</span>Orders por periodo de tiempo</a></span></li><li><span><a href=\"#¿Cuál-es-el-tamaño-promedio-de-compra?\" data-toc-modified-id=\"¿Cuál-es-el-tamaño-promedio-de-compra?-4.2.3\"><span class=\"toc-item-num\">4.2.3&nbsp;&nbsp;</span>¿Cuál es el tamaño promedio de compra?</a></span></li><li><span><a href=\"#¿Cuánto-dinero-traen?-(LTV)\" data-toc-modified-id=\"¿Cuánto-dinero-traen?-(LTV)-4.2.4\"><span class=\"toc-item-num\">4.2.4&nbsp;&nbsp;</span>¿Cuánto dinero traen? (LTV)</a></span></li></ul></li><li><span><a href=\"#Marketing\" data-toc-modified-id=\"Marketing-4.3\"><span class=\"toc-item-num\">4.3&nbsp;&nbsp;</span>Marketing</a></span><ul class=\"toc-item\"><li><span><a href=\"#Agreguemos-los-datos-sobre-los-costos-al-informe-y-calculemos-el-CAC\" data-toc-modified-id=\"Agreguemos-los-datos-sobre-los-costos-al-informe-y-calculemos-el-CAC-4.3.1\"><span class=\"toc-item-num\">4.3.1&nbsp;&nbsp;</span>Agreguemos los datos sobre los costos al informe y calculemos el CAC</a></span></li><li><span><a href=\"#¿Cuán-rentables-eran-las-inversiones?-(ROMI)\" data-toc-modified-id=\"¿Cuán-rentables-eran-las-inversiones?-(ROMI)-4.3.2\"><span class=\"toc-item-num\">4.3.2&nbsp;&nbsp;</span>¿Cuán rentables eran las inversiones? (ROMI)</a></span></li></ul></li></ul></li></ul></div>"
   ]
  },
  {
   "cell_type": "markdown",
   "metadata": {},
   "source": [
    "# Descripción del proyecto\n",
    "\n",
    "Ayudar a optimizar los gastos de marketing.\n",
    "\n",
    "Lo que tienes:\n",
    "1. registros del servidor con datos sobre las visitas a Y.Afisha desde enero de 2017 hasta diciembre de 2018;\n",
    "2. archivo de volcado con todos los pedidos del período;\n",
    "3. estadísticas de gastos de marketing.\n",
    "\n",
    "Lo que vas a investigar:\n",
    "1. cómo la gente usa el producto;\n",
    "2. cuándo empiezan a comprar;\n",
    "3. cuánto dinero trae cada cliente;\n",
    "4. cuándo pagan."
   ]
  },
  {
   "cell_type": "markdown",
   "metadata": {},
   "source": [
    "## Inicialización\n",
    "\n",
    "A continuación cargaré las librerias necesarias para el desarrollo del proyecto."
   ]
  },
  {
   "cell_type": "code",
   "execution_count": 1,
   "metadata": {},
   "outputs": [],
   "source": [
    "## Importación de librerias\n",
    "\n",
    "import matplotlib.pyplot as plt\n",
    "import numpy as np\n",
    "import pandas as pd\n",
    "import seaborn as sns"
   ]
  },
  {
   "cell_type": "markdown",
   "metadata": {},
   "source": [
    "## Cargar datos"
   ]
  },
  {
   "cell_type": "code",
   "execution_count": 2,
   "metadata": {},
   "outputs": [],
   "source": [
    "## Importación de archivos\n",
    "\n",
    "visits = pd.read_csv('/datasets/visits_log_us.csv')\n",
    "orders = pd.read_csv('/datasets/orders_log_us.csv')\n",
    "costs  = pd.read_csv('/datasets/costs_us.csv')"
   ]
  },
  {
   "cell_type": "markdown",
   "metadata": {},
   "source": [
    "## Análisis exploratorio de los datos\n",
    "\n",
    "Comenzaré explorando los dataset 'visits', 'orders'y 'costs' para obtener una comprensión inicial de los datos y, si es necesario, realizar correcciones o ajustes para garantizar que estén en un formato adecuado para el análisis."
   ]
  },
  {
   "cell_type": "code",
   "execution_count": 3,
   "metadata": {},
   "outputs": [
    {
     "name": "stdout",
     "output_type": "stream",
     "text": [
      "<class 'pandas.core.frame.DataFrame'>\n",
      "RangeIndex: 359400 entries, 0 to 359399\n",
      "Data columns (total 5 columns):\n",
      " #   Column     Non-Null Count   Dtype \n",
      "---  ------     --------------   ----- \n",
      " 0   Device     359400 non-null  object\n",
      " 1   End Ts     359400 non-null  object\n",
      " 2   Source Id  359400 non-null  int64 \n",
      " 3   Start Ts   359400 non-null  object\n",
      " 4   Uid        359400 non-null  uint64\n",
      "dtypes: int64(1), object(3), uint64(1)\n",
      "memory usage: 13.7+ MB\n"
     ]
    },
    {
     "data": {
      "text/html": [
       "<div>\n",
       "<style scoped>\n",
       "    .dataframe tbody tr th:only-of-type {\n",
       "        vertical-align: middle;\n",
       "    }\n",
       "\n",
       "    .dataframe tbody tr th {\n",
       "        vertical-align: top;\n",
       "    }\n",
       "\n",
       "    .dataframe thead th {\n",
       "        text-align: right;\n",
       "    }\n",
       "</style>\n",
       "<table border=\"1\" class=\"dataframe\">\n",
       "  <thead>\n",
       "    <tr style=\"text-align: right;\">\n",
       "      <th></th>\n",
       "      <th>Source Id</th>\n",
       "      <th>Uid</th>\n",
       "    </tr>\n",
       "  </thead>\n",
       "  <tbody>\n",
       "    <tr>\n",
       "      <th>count</th>\n",
       "      <td>359400.000000</td>\n",
       "      <td>3.594000e+05</td>\n",
       "    </tr>\n",
       "    <tr>\n",
       "      <th>mean</th>\n",
       "      <td>3.750515</td>\n",
       "      <td>9.202557e+18</td>\n",
       "    </tr>\n",
       "    <tr>\n",
       "      <th>std</th>\n",
       "      <td>1.917116</td>\n",
       "      <td>5.298433e+18</td>\n",
       "    </tr>\n",
       "    <tr>\n",
       "      <th>min</th>\n",
       "      <td>1.000000</td>\n",
       "      <td>1.186350e+13</td>\n",
       "    </tr>\n",
       "    <tr>\n",
       "      <th>25%</th>\n",
       "      <td>3.000000</td>\n",
       "      <td>4.613407e+18</td>\n",
       "    </tr>\n",
       "    <tr>\n",
       "      <th>50%</th>\n",
       "      <td>4.000000</td>\n",
       "      <td>9.227413e+18</td>\n",
       "    </tr>\n",
       "    <tr>\n",
       "      <th>75%</th>\n",
       "      <td>5.000000</td>\n",
       "      <td>1.372824e+19</td>\n",
       "    </tr>\n",
       "    <tr>\n",
       "      <th>max</th>\n",
       "      <td>10.000000</td>\n",
       "      <td>1.844668e+19</td>\n",
       "    </tr>\n",
       "  </tbody>\n",
       "</table>\n",
       "</div>"
      ],
      "text/plain": [
       "           Source Id           Uid\n",
       "count  359400.000000  3.594000e+05\n",
       "mean        3.750515  9.202557e+18\n",
       "std         1.917116  5.298433e+18\n",
       "min         1.000000  1.186350e+13\n",
       "25%         3.000000  4.613407e+18\n",
       "50%         4.000000  9.227413e+18\n",
       "75%         5.000000  1.372824e+19\n",
       "max        10.000000  1.844668e+19"
      ]
     },
     "metadata": {},
     "output_type": "display_data"
    },
    {
     "data": {
      "text/html": [
       "<div>\n",
       "<style scoped>\n",
       "    .dataframe tbody tr th:only-of-type {\n",
       "        vertical-align: middle;\n",
       "    }\n",
       "\n",
       "    .dataframe tbody tr th {\n",
       "        vertical-align: top;\n",
       "    }\n",
       "\n",
       "    .dataframe thead th {\n",
       "        text-align: right;\n",
       "    }\n",
       "</style>\n",
       "<table border=\"1\" class=\"dataframe\">\n",
       "  <thead>\n",
       "    <tr style=\"text-align: right;\">\n",
       "      <th></th>\n",
       "      <th>Device</th>\n",
       "      <th>End Ts</th>\n",
       "      <th>Source Id</th>\n",
       "      <th>Start Ts</th>\n",
       "      <th>Uid</th>\n",
       "    </tr>\n",
       "  </thead>\n",
       "  <tbody>\n",
       "    <tr>\n",
       "      <th>0</th>\n",
       "      <td>touch</td>\n",
       "      <td>2017-12-20 17:38:00</td>\n",
       "      <td>4</td>\n",
       "      <td>2017-12-20 17:20:00</td>\n",
       "      <td>16879256277535980062</td>\n",
       "    </tr>\n",
       "    <tr>\n",
       "      <th>1</th>\n",
       "      <td>desktop</td>\n",
       "      <td>2018-02-19 17:21:00</td>\n",
       "      <td>2</td>\n",
       "      <td>2018-02-19 16:53:00</td>\n",
       "      <td>104060357244891740</td>\n",
       "    </tr>\n",
       "    <tr>\n",
       "      <th>2</th>\n",
       "      <td>touch</td>\n",
       "      <td>2017-07-01 01:54:00</td>\n",
       "      <td>5</td>\n",
       "      <td>2017-07-01 01:54:00</td>\n",
       "      <td>7459035603376831527</td>\n",
       "    </tr>\n",
       "    <tr>\n",
       "      <th>3</th>\n",
       "      <td>desktop</td>\n",
       "      <td>2018-05-20 11:23:00</td>\n",
       "      <td>9</td>\n",
       "      <td>2018-05-20 10:59:00</td>\n",
       "      <td>16174680259334210214</td>\n",
       "    </tr>\n",
       "    <tr>\n",
       "      <th>4</th>\n",
       "      <td>desktop</td>\n",
       "      <td>2017-12-27 14:06:00</td>\n",
       "      <td>3</td>\n",
       "      <td>2017-12-27 14:06:00</td>\n",
       "      <td>9969694820036681168</td>\n",
       "    </tr>\n",
       "  </tbody>\n",
       "</table>\n",
       "</div>"
      ],
      "text/plain": [
       "    Device               End Ts  Source Id             Start Ts  \\\n",
       "0    touch  2017-12-20 17:38:00          4  2017-12-20 17:20:00   \n",
       "1  desktop  2018-02-19 17:21:00          2  2018-02-19 16:53:00   \n",
       "2    touch  2017-07-01 01:54:00          5  2017-07-01 01:54:00   \n",
       "3  desktop  2018-05-20 11:23:00          9  2018-05-20 10:59:00   \n",
       "4  desktop  2017-12-27 14:06:00          3  2017-12-27 14:06:00   \n",
       "\n",
       "                    Uid  \n",
       "0  16879256277535980062  \n",
       "1    104060357244891740  \n",
       "2   7459035603376831527  \n",
       "3  16174680259334210214  \n",
       "4   9969694820036681168  "
      ]
     },
     "execution_count": 3,
     "metadata": {},
     "output_type": "execute_result"
    }
   ],
   "source": [
    "# Visits\n",
    "\n",
    "visits.info()\n",
    "display(visits.describe())\n",
    "visits.head()"
   ]
  },
  {
   "cell_type": "markdown",
   "metadata": {},
   "source": [
    "El dataset \"visits\" tiene 359,400 registros y 5 columnas.\n",
    "Las columnas incluyen \"Device,\" \"End Ts,\" \"Source Id,\" \"Start Ts,\" y \"Uid.\"\n",
    "Las columnas \"End Ts\" y \"Start Ts\" contienen fechas y horas en formato de objeto (string). Puede ser necesario convertirlas en un formato de fecha y hora adecuado para el análisis."
   ]
  },
  {
   "cell_type": "code",
   "execution_count": 4,
   "metadata": {},
   "outputs": [
    {
     "name": "stdout",
     "output_type": "stream",
     "text": [
      "<class 'pandas.core.frame.DataFrame'>\n",
      "RangeIndex: 50415 entries, 0 to 50414\n",
      "Data columns (total 3 columns):\n",
      " #   Column   Non-Null Count  Dtype  \n",
      "---  ------   --------------  -----  \n",
      " 0   Buy Ts   50415 non-null  object \n",
      " 1   Revenue  50415 non-null  float64\n",
      " 2   Uid      50415 non-null  uint64 \n",
      "dtypes: float64(1), object(1), uint64(1)\n",
      "memory usage: 1.2+ MB\n"
     ]
    },
    {
     "data": {
      "text/html": [
       "<div>\n",
       "<style scoped>\n",
       "    .dataframe tbody tr th:only-of-type {\n",
       "        vertical-align: middle;\n",
       "    }\n",
       "\n",
       "    .dataframe tbody tr th {\n",
       "        vertical-align: top;\n",
       "    }\n",
       "\n",
       "    .dataframe thead th {\n",
       "        text-align: right;\n",
       "    }\n",
       "</style>\n",
       "<table border=\"1\" class=\"dataframe\">\n",
       "  <thead>\n",
       "    <tr style=\"text-align: right;\">\n",
       "      <th></th>\n",
       "      <th>Revenue</th>\n",
       "      <th>Uid</th>\n",
       "    </tr>\n",
       "  </thead>\n",
       "  <tbody>\n",
       "    <tr>\n",
       "      <th>count</th>\n",
       "      <td>50415.000000</td>\n",
       "      <td>5.041500e+04</td>\n",
       "    </tr>\n",
       "    <tr>\n",
       "      <th>mean</th>\n",
       "      <td>4.999647</td>\n",
       "      <td>9.098161e+18</td>\n",
       "    </tr>\n",
       "    <tr>\n",
       "      <th>std</th>\n",
       "      <td>21.818359</td>\n",
       "      <td>5.285742e+18</td>\n",
       "    </tr>\n",
       "    <tr>\n",
       "      <th>min</th>\n",
       "      <td>0.000000</td>\n",
       "      <td>3.135781e+14</td>\n",
       "    </tr>\n",
       "    <tr>\n",
       "      <th>25%</th>\n",
       "      <td>1.220000</td>\n",
       "      <td>4.533567e+18</td>\n",
       "    </tr>\n",
       "    <tr>\n",
       "      <th>50%</th>\n",
       "      <td>2.500000</td>\n",
       "      <td>9.102274e+18</td>\n",
       "    </tr>\n",
       "    <tr>\n",
       "      <th>75%</th>\n",
       "      <td>4.890000</td>\n",
       "      <td>1.368290e+19</td>\n",
       "    </tr>\n",
       "    <tr>\n",
       "      <th>max</th>\n",
       "      <td>2633.280000</td>\n",
       "      <td>1.844617e+19</td>\n",
       "    </tr>\n",
       "  </tbody>\n",
       "</table>\n",
       "</div>"
      ],
      "text/plain": [
       "            Revenue           Uid\n",
       "count  50415.000000  5.041500e+04\n",
       "mean       4.999647  9.098161e+18\n",
       "std       21.818359  5.285742e+18\n",
       "min        0.000000  3.135781e+14\n",
       "25%        1.220000  4.533567e+18\n",
       "50%        2.500000  9.102274e+18\n",
       "75%        4.890000  1.368290e+19\n",
       "max     2633.280000  1.844617e+19"
      ]
     },
     "metadata": {},
     "output_type": "display_data"
    },
    {
     "data": {
      "text/html": [
       "<div>\n",
       "<style scoped>\n",
       "    .dataframe tbody tr th:only-of-type {\n",
       "        vertical-align: middle;\n",
       "    }\n",
       "\n",
       "    .dataframe tbody tr th {\n",
       "        vertical-align: top;\n",
       "    }\n",
       "\n",
       "    .dataframe thead th {\n",
       "        text-align: right;\n",
       "    }\n",
       "</style>\n",
       "<table border=\"1\" class=\"dataframe\">\n",
       "  <thead>\n",
       "    <tr style=\"text-align: right;\">\n",
       "      <th></th>\n",
       "      <th>Buy Ts</th>\n",
       "      <th>Revenue</th>\n",
       "      <th>Uid</th>\n",
       "    </tr>\n",
       "  </thead>\n",
       "  <tbody>\n",
       "    <tr>\n",
       "      <th>0</th>\n",
       "      <td>2017-06-01 00:10:00</td>\n",
       "      <td>17.00</td>\n",
       "      <td>10329302124590727494</td>\n",
       "    </tr>\n",
       "    <tr>\n",
       "      <th>1</th>\n",
       "      <td>2017-06-01 00:25:00</td>\n",
       "      <td>0.55</td>\n",
       "      <td>11627257723692907447</td>\n",
       "    </tr>\n",
       "    <tr>\n",
       "      <th>2</th>\n",
       "      <td>2017-06-01 00:27:00</td>\n",
       "      <td>0.37</td>\n",
       "      <td>17903680561304213844</td>\n",
       "    </tr>\n",
       "    <tr>\n",
       "      <th>3</th>\n",
       "      <td>2017-06-01 00:29:00</td>\n",
       "      <td>0.55</td>\n",
       "      <td>16109239769442553005</td>\n",
       "    </tr>\n",
       "    <tr>\n",
       "      <th>4</th>\n",
       "      <td>2017-06-01 07:58:00</td>\n",
       "      <td>0.37</td>\n",
       "      <td>14200605875248379450</td>\n",
       "    </tr>\n",
       "  </tbody>\n",
       "</table>\n",
       "</div>"
      ],
      "text/plain": [
       "                Buy Ts  Revenue                   Uid\n",
       "0  2017-06-01 00:10:00    17.00  10329302124590727494\n",
       "1  2017-06-01 00:25:00     0.55  11627257723692907447\n",
       "2  2017-06-01 00:27:00     0.37  17903680561304213844\n",
       "3  2017-06-01 00:29:00     0.55  16109239769442553005\n",
       "4  2017-06-01 07:58:00     0.37  14200605875248379450"
      ]
     },
     "execution_count": 4,
     "metadata": {},
     "output_type": "execute_result"
    }
   ],
   "source": [
    "# Orders\n",
    "\n",
    "orders.info()\n",
    "display(orders.describe())\n",
    "orders.head()"
   ]
  },
  {
   "cell_type": "markdown",
   "metadata": {},
   "source": [
    "El dataset \"orders\" tiene 50,415 registros y 3 columnas.\n",
    "Las columnas incluyen \"Buy Ts\" (fecha y hora de compra), \"Revenue\" (ingresos generados en la compra) y \"Uid\" (identificador numérico único de usuario).\n",
    "\"Buy Ts\" contiene fechas y horas en formato de objeto (string). Es necesario convertirla en un formato de fecha y hora adecuado para el análisis.\n",
    "\"Revenue\" contiene valores numéricos de tipo float que representan los ingresos generados en cada compra."
   ]
  },
  {
   "cell_type": "code",
   "execution_count": 5,
   "metadata": {},
   "outputs": [
    {
     "name": "stdout",
     "output_type": "stream",
     "text": [
      "<class 'pandas.core.frame.DataFrame'>\n",
      "RangeIndex: 2542 entries, 0 to 2541\n",
      "Data columns (total 3 columns):\n",
      " #   Column     Non-Null Count  Dtype  \n",
      "---  ------     --------------  -----  \n",
      " 0   source_id  2542 non-null   int64  \n",
      " 1   dt         2542 non-null   object \n",
      " 2   costs      2542 non-null   float64\n",
      "dtypes: float64(1), int64(1), object(1)\n",
      "memory usage: 59.7+ KB\n"
     ]
    },
    {
     "data": {
      "text/html": [
       "<div>\n",
       "<style scoped>\n",
       "    .dataframe tbody tr th:only-of-type {\n",
       "        vertical-align: middle;\n",
       "    }\n",
       "\n",
       "    .dataframe tbody tr th {\n",
       "        vertical-align: top;\n",
       "    }\n",
       "\n",
       "    .dataframe thead th {\n",
       "        text-align: right;\n",
       "    }\n",
       "</style>\n",
       "<table border=\"1\" class=\"dataframe\">\n",
       "  <thead>\n",
       "    <tr style=\"text-align: right;\">\n",
       "      <th></th>\n",
       "      <th>source_id</th>\n",
       "      <th>costs</th>\n",
       "    </tr>\n",
       "  </thead>\n",
       "  <tbody>\n",
       "    <tr>\n",
       "      <th>count</th>\n",
       "      <td>2542.000000</td>\n",
       "      <td>2542.000000</td>\n",
       "    </tr>\n",
       "    <tr>\n",
       "      <th>mean</th>\n",
       "      <td>4.857199</td>\n",
       "      <td>129.477427</td>\n",
       "    </tr>\n",
       "    <tr>\n",
       "      <th>std</th>\n",
       "      <td>3.181581</td>\n",
       "      <td>156.296628</td>\n",
       "    </tr>\n",
       "    <tr>\n",
       "      <th>min</th>\n",
       "      <td>1.000000</td>\n",
       "      <td>0.540000</td>\n",
       "    </tr>\n",
       "    <tr>\n",
       "      <th>25%</th>\n",
       "      <td>2.000000</td>\n",
       "      <td>21.945000</td>\n",
       "    </tr>\n",
       "    <tr>\n",
       "      <th>50%</th>\n",
       "      <td>4.000000</td>\n",
       "      <td>77.295000</td>\n",
       "    </tr>\n",
       "    <tr>\n",
       "      <th>75%</th>\n",
       "      <td>9.000000</td>\n",
       "      <td>170.065000</td>\n",
       "    </tr>\n",
       "    <tr>\n",
       "      <th>max</th>\n",
       "      <td>10.000000</td>\n",
       "      <td>1788.280000</td>\n",
       "    </tr>\n",
       "  </tbody>\n",
       "</table>\n",
       "</div>"
      ],
      "text/plain": [
       "         source_id        costs\n",
       "count  2542.000000  2542.000000\n",
       "mean      4.857199   129.477427\n",
       "std       3.181581   156.296628\n",
       "min       1.000000     0.540000\n",
       "25%       2.000000    21.945000\n",
       "50%       4.000000    77.295000\n",
       "75%       9.000000   170.065000\n",
       "max      10.000000  1788.280000"
      ]
     },
     "metadata": {},
     "output_type": "display_data"
    },
    {
     "data": {
      "text/html": [
       "<div>\n",
       "<style scoped>\n",
       "    .dataframe tbody tr th:only-of-type {\n",
       "        vertical-align: middle;\n",
       "    }\n",
       "\n",
       "    .dataframe tbody tr th {\n",
       "        vertical-align: top;\n",
       "    }\n",
       "\n",
       "    .dataframe thead th {\n",
       "        text-align: right;\n",
       "    }\n",
       "</style>\n",
       "<table border=\"1\" class=\"dataframe\">\n",
       "  <thead>\n",
       "    <tr style=\"text-align: right;\">\n",
       "      <th></th>\n",
       "      <th>source_id</th>\n",
       "      <th>dt</th>\n",
       "      <th>costs</th>\n",
       "    </tr>\n",
       "  </thead>\n",
       "  <tbody>\n",
       "    <tr>\n",
       "      <th>0</th>\n",
       "      <td>1</td>\n",
       "      <td>2017-06-01</td>\n",
       "      <td>75.20</td>\n",
       "    </tr>\n",
       "    <tr>\n",
       "      <th>1</th>\n",
       "      <td>1</td>\n",
       "      <td>2017-06-02</td>\n",
       "      <td>62.25</td>\n",
       "    </tr>\n",
       "    <tr>\n",
       "      <th>2</th>\n",
       "      <td>1</td>\n",
       "      <td>2017-06-03</td>\n",
       "      <td>36.53</td>\n",
       "    </tr>\n",
       "    <tr>\n",
       "      <th>3</th>\n",
       "      <td>1</td>\n",
       "      <td>2017-06-04</td>\n",
       "      <td>55.00</td>\n",
       "    </tr>\n",
       "    <tr>\n",
       "      <th>4</th>\n",
       "      <td>1</td>\n",
       "      <td>2017-06-05</td>\n",
       "      <td>57.08</td>\n",
       "    </tr>\n",
       "  </tbody>\n",
       "</table>\n",
       "</div>"
      ],
      "text/plain": [
       "   source_id          dt  costs\n",
       "0          1  2017-06-01  75.20\n",
       "1          1  2017-06-02  62.25\n",
       "2          1  2017-06-03  36.53\n",
       "3          1  2017-06-04  55.00\n",
       "4          1  2017-06-05  57.08"
      ]
     },
     "execution_count": 5,
     "metadata": {},
     "output_type": "execute_result"
    }
   ],
   "source": [
    "# Costs\n",
    "\n",
    "costs.info()\n",
    "display(costs.describe())\n",
    "costs.head()"
   ]
  },
  {
   "cell_type": "markdown",
   "metadata": {},
   "source": [
    "El dataset \"costs\" tiene 2,542 registros y 3 columnas.\n",
    "Las columnas incluyen \"source_id\" (identificador de fuente de marketing), \"dt\" (fecha) y \"costs\" (gastos de marketing).\n",
    "\"dt\" contiene fechas en formato de objeto (string). Es necesario convertirlas en un formato de fecha adecuado para el análisis.\n",
    "\"costs\" contiene valores numéricos de tipo float que representan los gastos de marketing.\n"
   ]
  },
  {
   "cell_type": "markdown",
   "metadata": {},
   "source": [
    "<div class=\"alert alert-block alert-success\">\n",
    "<b>Comentario de Reviewer</b> <a class=\"tocSkip\"></a>\n",
    "\n",
    "Bien con el análisis inicial de los datos.\n",
    "</div>"
   ]
  },
  {
   "cell_type": "markdown",
   "metadata": {},
   "source": [
    "### Modificar nombre de columnas en los datasets:\n"
   ]
  },
  {
   "cell_type": "code",
   "execution_count": 6,
   "metadata": {},
   "outputs": [
    {
     "name": "stdout",
     "output_type": "stream",
     "text": [
      "<class 'pandas.core.frame.DataFrame'>\n",
      "RangeIndex: 359400 entries, 0 to 359399\n",
      "Data columns (total 5 columns):\n",
      " #   Column     Non-Null Count   Dtype \n",
      "---  ------     --------------   ----- \n",
      " 0   device     359400 non-null  object\n",
      " 1   end_ts     359400 non-null  object\n",
      " 2   source_id  359400 non-null  int64 \n",
      " 3   start_ts   359400 non-null  object\n",
      " 4   uid        359400 non-null  uint64\n",
      "dtypes: int64(1), object(3), uint64(1)\n",
      "memory usage: 13.7+ MB\n"
     ]
    }
   ],
   "source": [
    "# Renombrar las columnas del DataFrame 'visits' en minúsculas y sin espacios\n",
    "visits.rename(columns=lambda x: x.strip().lower().replace(\" \", \"_\"), inplace=True)\n",
    "visits.info()\n"
   ]
  },
  {
   "cell_type": "code",
   "execution_count": 7,
   "metadata": {},
   "outputs": [
    {
     "name": "stdout",
     "output_type": "stream",
     "text": [
      "<class 'pandas.core.frame.DataFrame'>\n",
      "RangeIndex: 50415 entries, 0 to 50414\n",
      "Data columns (total 3 columns):\n",
      " #   Column   Non-Null Count  Dtype  \n",
      "---  ------   --------------  -----  \n",
      " 0   buy_ts   50415 non-null  object \n",
      " 1   revenue  50415 non-null  float64\n",
      " 2   uid      50415 non-null  uint64 \n",
      "dtypes: float64(1), object(1), uint64(1)\n",
      "memory usage: 1.2+ MB\n"
     ]
    }
   ],
   "source": [
    "# Renombrar las columnas del DataFrame 'orders' en minúsculas y sin espacios\n",
    "orders.rename(columns=lambda x: x.strip().lower().replace(\" \", \"_\"), inplace=True)\n",
    "orders.info()"
   ]
  },
  {
   "cell_type": "markdown",
   "metadata": {},
   "source": [
    "<div class=\"alert alert-block alert-success\">\n",
    "<b>Comentario de Reviewer</b> <a class=\"tocSkip\"></a>\n",
    "\n",
    "Muy bien!\n",
    "</div>"
   ]
  },
  {
   "cell_type": "markdown",
   "metadata": {},
   "source": [
    "### Convertir columnas a tipo de datos adecuado"
   ]
  },
  {
   "cell_type": "code",
   "execution_count": 8,
   "metadata": {},
   "outputs": [],
   "source": [
    "# Visits\n",
    "# Convierte la columna \"start_ts\" al formato de fecha\n",
    "visits['start_ts'] = pd.to_datetime(visits['start_ts'])\n",
    "\n",
    "# Convierte la columna \"end_ts\" al formato de fecha\n",
    "visits['end_ts'] = pd.to_datetime(visits['end_ts'])\n"
   ]
  },
  {
   "cell_type": "code",
   "execution_count": 9,
   "metadata": {},
   "outputs": [],
   "source": [
    "# Orders\n",
    "# Convierte la columna \"buy_ts\" al formato de fecha\n",
    "#orders['buy_ts'] = pd.to_datetime(orders['buy_ts'])\n",
    "orders['buy_ts'] = pd.to_datetime(orders['buy_ts']).dt.strftime('%Y-%m-%d')"
   ]
  },
  {
   "cell_type": "code",
   "execution_count": 10,
   "metadata": {},
   "outputs": [],
   "source": [
    "# Costs\n",
    "# Convierte la columna \"dt\" al formato de fecha\n",
    "costs['dt'] = pd.to_datetime(costs['dt'])\n"
   ]
  },
  {
   "cell_type": "code",
   "execution_count": 11,
   "metadata": {},
   "outputs": [
    {
     "name": "stdout",
     "output_type": "stream",
     "text": [
      "device               object\n",
      "end_ts       datetime64[ns]\n",
      "source_id             int64\n",
      "start_ts     datetime64[ns]\n",
      "uid                  uint64\n",
      "dtype: object\n",
      "buy_ts      object\n",
      "revenue    float64\n",
      "uid         uint64\n",
      "dtype: object\n",
      "source_id             int64\n",
      "dt           datetime64[ns]\n",
      "costs               float64\n",
      "dtype: object\n"
     ]
    }
   ],
   "source": [
    "#Verificando cambios\n",
    "for df in [visits, orders, costs]:\n",
    "  print(df.dtypes)"
   ]
  },
  {
   "cell_type": "markdown",
   "metadata": {},
   "source": [
    "<div class=\"alert alert-block alert-success\">\n",
    "<b>Comentario de Reviewer</b> <a class=\"tocSkip\"></a>\n",
    "\n",
    "Correcto\n",
    "</div>"
   ]
  },
  {
   "cell_type": "markdown",
   "metadata": {},
   "source": [
    "## Calcular Metrícas"
   ]
  },
  {
   "cell_type": "markdown",
   "metadata": {},
   "source": [
    "### Producto:"
   ]
  },
  {
   "cell_type": "markdown",
   "metadata": {},
   "source": [
    "Para calcular la actividad semanal y mensual, primero crearé columnas separadas para los valores de año, mes y semana."
   ]
  },
  {
   "cell_type": "code",
   "execution_count": 12,
   "metadata": {},
   "outputs": [
    {
     "data": {
      "text/html": [
       "<div>\n",
       "<style scoped>\n",
       "    .dataframe tbody tr th:only-of-type {\n",
       "        vertical-align: middle;\n",
       "    }\n",
       "\n",
       "    .dataframe tbody tr th {\n",
       "        vertical-align: top;\n",
       "    }\n",
       "\n",
       "    .dataframe thead th {\n",
       "        text-align: right;\n",
       "    }\n",
       "</style>\n",
       "<table border=\"1\" class=\"dataframe\">\n",
       "  <thead>\n",
       "    <tr style=\"text-align: right;\">\n",
       "      <th></th>\n",
       "      <th>device</th>\n",
       "      <th>end_ts</th>\n",
       "      <th>source_id</th>\n",
       "      <th>start_ts</th>\n",
       "      <th>uid</th>\n",
       "      <th>year</th>\n",
       "      <th>month</th>\n",
       "      <th>week</th>\n",
       "      <th>date</th>\n",
       "    </tr>\n",
       "  </thead>\n",
       "  <tbody>\n",
       "    <tr>\n",
       "      <th>0</th>\n",
       "      <td>touch</td>\n",
       "      <td>2017-12-20 17:38:00</td>\n",
       "      <td>4</td>\n",
       "      <td>2017-12-20 17:20:00</td>\n",
       "      <td>16879256277535980062</td>\n",
       "      <td>2017</td>\n",
       "      <td>2017-12-01</td>\n",
       "      <td>2017-12-14</td>\n",
       "      <td>2017-12-20</td>\n",
       "    </tr>\n",
       "    <tr>\n",
       "      <th>1</th>\n",
       "      <td>desktop</td>\n",
       "      <td>2018-02-19 17:21:00</td>\n",
       "      <td>2</td>\n",
       "      <td>2018-02-19 16:53:00</td>\n",
       "      <td>104060357244891740</td>\n",
       "      <td>2018</td>\n",
       "      <td>2018-02-01</td>\n",
       "      <td>2018-02-15</td>\n",
       "      <td>2018-02-19</td>\n",
       "    </tr>\n",
       "    <tr>\n",
       "      <th>2</th>\n",
       "      <td>touch</td>\n",
       "      <td>2017-07-01 01:54:00</td>\n",
       "      <td>5</td>\n",
       "      <td>2017-07-01 01:54:00</td>\n",
       "      <td>7459035603376831527</td>\n",
       "      <td>2017</td>\n",
       "      <td>2017-07-01</td>\n",
       "      <td>2017-06-29</td>\n",
       "      <td>2017-07-01</td>\n",
       "    </tr>\n",
       "    <tr>\n",
       "      <th>3</th>\n",
       "      <td>desktop</td>\n",
       "      <td>2018-05-20 11:23:00</td>\n",
       "      <td>9</td>\n",
       "      <td>2018-05-20 10:59:00</td>\n",
       "      <td>16174680259334210214</td>\n",
       "      <td>2018</td>\n",
       "      <td>2018-05-01</td>\n",
       "      <td>2018-05-17</td>\n",
       "      <td>2018-05-20</td>\n",
       "    </tr>\n",
       "    <tr>\n",
       "      <th>4</th>\n",
       "      <td>desktop</td>\n",
       "      <td>2017-12-27 14:06:00</td>\n",
       "      <td>3</td>\n",
       "      <td>2017-12-27 14:06:00</td>\n",
       "      <td>9969694820036681168</td>\n",
       "      <td>2017</td>\n",
       "      <td>2017-12-01</td>\n",
       "      <td>2017-12-21</td>\n",
       "      <td>2017-12-27</td>\n",
       "    </tr>\n",
       "  </tbody>\n",
       "</table>\n",
       "</div>"
      ],
      "text/plain": [
       "    device              end_ts  source_id            start_ts  \\\n",
       "0    touch 2017-12-20 17:38:00          4 2017-12-20 17:20:00   \n",
       "1  desktop 2018-02-19 17:21:00          2 2018-02-19 16:53:00   \n",
       "2    touch 2017-07-01 01:54:00          5 2017-07-01 01:54:00   \n",
       "3  desktop 2018-05-20 11:23:00          9 2018-05-20 10:59:00   \n",
       "4  desktop 2017-12-27 14:06:00          3 2017-12-27 14:06:00   \n",
       "\n",
       "                    uid  year      month       week        date  \n",
       "0  16879256277535980062  2017 2017-12-01 2017-12-14  2017-12-20  \n",
       "1    104060357244891740  2018 2018-02-01 2018-02-15  2018-02-19  \n",
       "2   7459035603376831527  2017 2017-07-01 2017-06-29  2017-07-01  \n",
       "3  16174680259334210214  2018 2018-05-01 2018-05-17  2018-05-20  \n",
       "4   9969694820036681168  2017 2017-12-01 2017-12-21  2017-12-27  "
      ]
     },
     "execution_count": 12,
     "metadata": {},
     "output_type": "execute_result"
    }
   ],
   "source": [
    "# crear nuevas columnas 'year', 'month' y 'day'\n",
    "visits['year']   = visits['start_ts'].dt.year\n",
    "visits['month']  = visits['start_ts'].astype('datetime64[M]')\n",
    "visits['week']   = visits['start_ts'].astype('datetime64[W]')\n",
    "visits['date']   = visits['start_ts'].dt.date\n",
    "visits.head()"
   ]
  },
  {
   "cell_type": "markdown",
   "metadata": {},
   "source": [
    "<div class=\"alert alert-block alert-warning\">\n",
    "<b>Comentario de Reviewer</b> <a class=\"tocSkip\"></a>\n",
    "\n",
    "Las columnas están bien, pero ojo con algunos errores que podrían surgir con mes y semana. Si la data contiene fechas de más de un año, entonces hay que usar la columna año y mes para diferenciar meses de años diferentes. Otra forma de crear la columna mes, que no tiene este problema, es usar .astype('datetime64[M]') (para semana .astype('datetime64[W]'))\n",
    "</div>"
   ]
  },
  {
   "cell_type": "markdown",
   "metadata": {},
   "source": [
    "#### Cantidad de Personas que Usan el Producto cada Día, Semana y Mes:\n",
    "\n",
    "Calculemos las métricas para encontrar la cantidad de usuarios activos por días, semana y mes."
   ]
  },
  {
   "cell_type": "code",
   "execution_count": 13,
   "metadata": {},
   "outputs": [
    {
     "name": "stdout",
     "output_type": "stream",
     "text": [
      "Usuarios activos por mes 23228\n",
      "Usuarios activos por dia 907\n",
      "Usuarios activos por semana 5621\n"
     ]
    }
   ],
   "source": [
    "# mau (Número de usuarios activos mensuales)\n",
    "mau_total = (\n",
    "    visits.groupby(['year', 'month'])\n",
    "    .agg({'uid': 'nunique'})\n",
    "    .mean()\n",
    ")\n",
    "\n",
    "# dau (Número de usuarios activos diarios)\n",
    "dau_total = visits.groupby('date').agg({'uid': 'nunique'}).mean()\n",
    "\n",
    "# wau (Número de usuarios activos semanales)\n",
    "wau_total = (\n",
    "    visits.groupby(['year', 'week'])\n",
    "    .agg({'uid': 'nunique'})\n",
    "    .mean()\n",
    ")\n",
    "\n",
    "print('Usuarios activos por mes',int(mau_total))\n",
    "print('Usuarios activos por dia',int(dau_total))\n",
    "print('Usuarios activos por semana',int(wau_total))"
   ]
  },
  {
   "cell_type": "markdown",
   "metadata": {},
   "source": [
    "<div class=\"alert alert-block alert-success\">\n",
    "<b>Comentario de Reviewer</b> <a class=\"tocSkip\"></a>\n",
    "\n",
    "Muy bien, correcto\n",
    "</div>"
   ]
  },
  {
   "cell_type": "code",
   "execution_count": 14,
   "metadata": {},
   "outputs": [
    {
     "name": "stdout",
     "output_type": "stream",
     "text": [
      "Average users by date: 907.9918\n"
     ]
    },
    {
     "data": {
      "image/png": "[encoded data removed]",
      "text/plain": [
       "<Figure size 1080x288 with 1 Axes>"
      ]
     },
     "metadata": {
      "needs_background": "light"
     },
     "output_type": "display_data"
    },
    {
     "name": "stdout",
     "output_type": "stream",
     "text": [
      "Average users by week: 5724.4151\n"
     ]
    },
    {
     "data": {
      "image/png": "[encoded data removed]",
      "text/plain": [
       "<Figure size 1080x288 with 1 Axes>"
      ]
     },
     "metadata": {
      "needs_background": "light"
     },
     "output_type": "display_data"
    },
    {
     "name": "stdout",
     "output_type": "stream",
     "text": [
      "Average users by month: 23228.4167\n"
     ]
    },
    {
     "data": {
      "image/png": "[encoded data removed]",
      "text/plain": [
       "<Figure size 1080x288 with 1 Axes>"
      ]
     },
     "metadata": {
      "needs_background": "light"
     },
     "output_type": "display_data"
    }
   ],
   "source": [
    "for granularity in [\"date\", \"week\", \"month\"]:\n",
    "  tmp_data = visits.groupby(granularity)[\"uid\"].nunique()\n",
    "\n",
    "  print(f\"Average users by {granularity}: {round(tmp_data.mean(), 4)}\")\n",
    "  plt.title(f\"Users by {granularity}\")\n",
    "\n",
    "  tmp_data.plot(figsize=(15, 4))\n",
    "  plt.show()"
   ]
  },
  {
   "cell_type": "markdown",
   "metadata": {},
   "source": [
    "<div class=\"alert alert-block alert-danger\">\n",
    "<b>Comentario de Reviewer</b> <a class=\"tocSkip\"></a>\n",
    "\n",
    "El gráfico no tiene sentido, pues los números que comparas no son comparables. La cantidad de usuarios activos en un día no es comparable con la cantidad de usuarios activos en la semana puesto que son periodos de tiempo diferente, siempre serán más o iguales los de la semana que los de un día. Ídem para el mes. El gráfico de torta sugiere que las 3 variables se suman para crear un 100% de algo, pero no hace sentido sumarlas puesto que no tiene interpretación su suma (¿sería la cantidad de usuarios activos en un año, un mes y un día? eso tampoco tiene mucho sentido)\n",
    "    \n",
    "En esta parte te sugiero mostrar gráficos de línea que muestren para los días, semanas y meses, la cantidad de usuarios.\n",
    "</div>"
   ]
  },
  {
   "cell_type": "markdown",
   "metadata": {},
   "source": [
    "<div class=\"alert alert-block alert-warning\">\n",
    "<b>Comentario de Reviewer v2</b> <a class=\"tocSkip\"></a>\n",
    "\n",
    "Ahora que no están en un gráfico circular no se confunden tanto, pero de todos modos es mejor graficar cada una de estas métricas a lo largo del tiempo, tal como hiciste más adelante con las ordenes.\n",
    "\n",
    "</div>"
   ]
  },
  {
   "cell_type": "markdown",
   "metadata": {},
   "source": [
    "####  Sesiones de usuarios por dia"
   ]
  },
  {
   "cell_type": "code",
   "execution_count": 15,
   "metadata": {},
   "outputs": [
    {
     "data": {
      "text/plain": [
       "n_sessions           987.362637\n",
       "n_users              907.991758\n",
       "sessions_per_user      1.082170\n",
       "dtype: float64"
      ]
     },
     "execution_count": 15,
     "metadata": {},
     "output_type": "execute_result"
    }
   ],
   "source": [
    "# Calcular el numero de sesiones por dia\n",
    "sessions_per_user = visits.groupby(['year', 'date']).agg(\n",
    "    {'uid': ['count', 'nunique']}\n",
    ")\n",
    "sessions_per_user.columns = ['n_sessions', 'n_users']\n",
    "sessions_per_user['sessions_per_user'] = (\n",
    "    sessions_per_user['n_sessions'] / sessions_per_user['n_users']\n",
    ")\n",
    "sessions_per_user.mean()"
   ]
  },
  {
   "cell_type": "markdown",
   "metadata": {},
   "source": [
    "En promedio, un usuario participa en alrededor de 1.08 sesiones por día. Cada usuario tiene como máximo 1 sesión por mes."
   ]
  },
  {
   "cell_type": "markdown",
   "metadata": {},
   "source": [
    "<div class=\"alert alert-block alert-success\">\n",
    "<b>Comentario de Reviewer</b> <a class=\"tocSkip\"></a>\n",
    "\n",
    "Correcto!\n",
    "</div>"
   ]
  },
  {
   "cell_type": "markdown",
   "metadata": {},
   "source": [
    "#### Duración de las sesiones"
   ]
  },
  {
   "cell_type": "code",
   "execution_count": 16,
   "metadata": {},
   "outputs": [
    {
     "data": {
      "text/html": [
       "<div>\n",
       "<style scoped>\n",
       "    .dataframe tbody tr th:only-of-type {\n",
       "        vertical-align: middle;\n",
       "    }\n",
       "\n",
       "    .dataframe tbody tr th {\n",
       "        vertical-align: top;\n",
       "    }\n",
       "\n",
       "    .dataframe thead th {\n",
       "        text-align: right;\n",
       "    }\n",
       "</style>\n",
       "<table border=\"1\" class=\"dataframe\">\n",
       "  <thead>\n",
       "    <tr style=\"text-align: right;\">\n",
       "      <th></th>\n",
       "      <th>device</th>\n",
       "      <th>end_ts</th>\n",
       "      <th>source_id</th>\n",
       "      <th>start_ts</th>\n",
       "      <th>uid</th>\n",
       "      <th>year</th>\n",
       "      <th>month</th>\n",
       "      <th>week</th>\n",
       "      <th>date</th>\n",
       "      <th>duration</th>\n",
       "    </tr>\n",
       "  </thead>\n",
       "  <tbody>\n",
       "    <tr>\n",
       "      <th>0</th>\n",
       "      <td>touch</td>\n",
       "      <td>2017-12-20 17:38:00</td>\n",
       "      <td>4</td>\n",
       "      <td>2017-12-20 17:20:00</td>\n",
       "      <td>16879256277535980062</td>\n",
       "      <td>2017</td>\n",
       "      <td>2017-12-01</td>\n",
       "      <td>2017-12-14</td>\n",
       "      <td>2017-12-20</td>\n",
       "      <td>1080.0</td>\n",
       "    </tr>\n",
       "    <tr>\n",
       "      <th>1</th>\n",
       "      <td>desktop</td>\n",
       "      <td>2018-02-19 17:21:00</td>\n",
       "      <td>2</td>\n",
       "      <td>2018-02-19 16:53:00</td>\n",
       "      <td>104060357244891740</td>\n",
       "      <td>2018</td>\n",
       "      <td>2018-02-01</td>\n",
       "      <td>2018-02-15</td>\n",
       "      <td>2018-02-19</td>\n",
       "      <td>1680.0</td>\n",
       "    </tr>\n",
       "    <tr>\n",
       "      <th>2</th>\n",
       "      <td>touch</td>\n",
       "      <td>2017-07-01 01:54:00</td>\n",
       "      <td>5</td>\n",
       "      <td>2017-07-01 01:54:00</td>\n",
       "      <td>7459035603376831527</td>\n",
       "      <td>2017</td>\n",
       "      <td>2017-07-01</td>\n",
       "      <td>2017-06-29</td>\n",
       "      <td>2017-07-01</td>\n",
       "      <td>0.0</td>\n",
       "    </tr>\n",
       "    <tr>\n",
       "      <th>3</th>\n",
       "      <td>desktop</td>\n",
       "      <td>2018-05-20 11:23:00</td>\n",
       "      <td>9</td>\n",
       "      <td>2018-05-20 10:59:00</td>\n",
       "      <td>16174680259334210214</td>\n",
       "      <td>2018</td>\n",
       "      <td>2018-05-01</td>\n",
       "      <td>2018-05-17</td>\n",
       "      <td>2018-05-20</td>\n",
       "      <td>1440.0</td>\n",
       "    </tr>\n",
       "    <tr>\n",
       "      <th>4</th>\n",
       "      <td>desktop</td>\n",
       "      <td>2017-12-27 14:06:00</td>\n",
       "      <td>3</td>\n",
       "      <td>2017-12-27 14:06:00</td>\n",
       "      <td>9969694820036681168</td>\n",
       "      <td>2017</td>\n",
       "      <td>2017-12-01</td>\n",
       "      <td>2017-12-21</td>\n",
       "      <td>2017-12-27</td>\n",
       "      <td>0.0</td>\n",
       "    </tr>\n",
       "  </tbody>\n",
       "</table>\n",
       "</div>"
      ],
      "text/plain": [
       "    device              end_ts  source_id            start_ts  \\\n",
       "0    touch 2017-12-20 17:38:00          4 2017-12-20 17:20:00   \n",
       "1  desktop 2018-02-19 17:21:00          2 2018-02-19 16:53:00   \n",
       "2    touch 2017-07-01 01:54:00          5 2017-07-01 01:54:00   \n",
       "3  desktop 2018-05-20 11:23:00          9 2018-05-20 10:59:00   \n",
       "4  desktop 2017-12-27 14:06:00          3 2017-12-27 14:06:00   \n",
       "\n",
       "                    uid  year      month       week        date  duration  \n",
       "0  16879256277535980062  2017 2017-12-01 2017-12-14  2017-12-20    1080.0  \n",
       "1    104060357244891740  2018 2018-02-01 2018-02-15  2018-02-19    1680.0  \n",
       "2   7459035603376831527  2017 2017-07-01 2017-06-29  2017-07-01       0.0  \n",
       "3  16174680259334210214  2018 2018-05-01 2018-05-17  2018-05-20    1440.0  \n",
       "4   9969694820036681168  2017 2017-12-01 2017-12-21  2017-12-27       0.0  "
      ]
     },
     "execution_count": 16,
     "metadata": {},
     "output_type": "execute_result"
    }
   ],
   "source": [
    "visits['duration'] = (visits['end_ts'] - visits['start_ts']).dt.total_seconds()\n",
    "\n",
    "visits.head()"
   ]
  },
  {
   "cell_type": "code",
   "execution_count": 17,
   "metadata": {
    "scrolled": false
   },
   "outputs": [
    {
     "data": {
      "image/png": "[encoded data removed]",
      "text/plain": [
       "<Figure size 576x432 with 1 Axes>"
      ]
     },
     "metadata": {
      "needs_background": "light"
     },
     "output_type": "display_data"
    }
   ],
   "source": [
    "# Eliminar las sesiones de duración cero, ya que pueden distorsionar la visualización\n",
    "sessions_duration = visits[visits['duration'] > 0]['duration']\n",
    "\n",
    "# Crear el histograma\n",
    "plt.figure(figsize=(8, 6))\n",
    "plt.hist(sessions_duration, bins=50, color='skyblue', edgecolor='black')\n",
    "plt.title('Distribución de la Duración de Sesiones')\n",
    "plt.xlabel('Duración de la Sesión (segundos)')\n",
    "plt.ylabel('Frecuencia')\n",
    "plt.grid(True)\n",
    "plt.tight_layout()\n",
    "\n",
    "# Mostrar el histograma\n",
    "plt.show()"
   ]
  },
  {
   "cell_type": "code",
   "execution_count": 18,
   "metadata": {},
   "outputs": [
    {
     "name": "stdout",
     "output_type": "stream",
     "text": [
      "Average duration: 643.0256872565387\n"
     ]
    },
    {
     "data": {
      "image/png": "[encoded data removed]",
      "text/plain": [
       "<Figure size 432x288 with 1 Axes>"
      ]
     },
     "metadata": {
      "needs_background": "light"
     },
     "output_type": "display_data"
    }
   ],
   "source": [
    "print(f\"Average duration: {visits['duration'].mean()}\")\n",
    "visits[\"duration\"].hist(bins=50)\n",
    "plt.axvline(x=visits['duration'].mean(), color=\"red\", ls=\"--\")\n",
    "plt.show()"
   ]
  },
  {
   "cell_type": "markdown",
   "metadata": {},
   "source": [
    "<div class=\"alert alert-block alert-danger\">\n",
    "<b>Comentario de Reviewer</b> <a class=\"tocSkip\"></a>\n",
    "\n",
    "Muy bien con el histograma. Nos muestra que las sesiones son en su mayoría más cortas que 1000 segundos más o menos. Sin embargo, falta agregar la media o mediana y algunos percentiles (p25,p50 y p75 por ejemplo\n",
    "</div>"
   ]
  },
  {
   "cell_type": "markdown",
   "metadata": {},
   "source": [
    "<div class=\"alert alert-block alert-success\">\n",
    "<b>Comentario de Reviewer v2</b> <a class=\"tocSkip\"></a>\n",
    "\n",
    "Ok, mejor\n",
    "\n",
    "</div>"
   ]
  },
  {
   "cell_type": "markdown",
   "metadata": {},
   "source": [
    "#### Frecuencia de los usuarios \n",
    "\n",
    "Calcularé el sticky factor (factor de adherencia) para verificar cuántos usuarios regresan con frecuencia en relación con el tamaño de la audiencia total."
   ]
  },
  {
   "cell_type": "code",
   "execution_count": 19,
   "metadata": {},
   "outputs": [
    {
     "name": "stdout",
     "output_type": "stream",
     "text": [
      "uid    16.151541\n",
      "dtype: float64\n",
      "uid    3.90897\n",
      "dtype: float64\n"
     ]
    }
   ],
   "source": [
    "# Sticky factor semanal\n",
    "sticky_wau = dau_total / wau_total * 100\n",
    "print(sticky_wau)\n",
    "\n",
    "#Sticky factor mensual\n",
    "sticky_mau = dau_total / mau_total * 100\n",
    "print(sticky_mau)"
   ]
  },
  {
   "cell_type": "code",
   "execution_count": 20,
   "metadata": {},
   "outputs": [
    {
     "data": {
      "image/png": "[encoded data removed]",
      "text/plain": [
       "<Figure size 576x432 with 1 Axes>"
      ]
     },
     "metadata": {
      "needs_background": "light"
     },
     "output_type": "display_data"
    }
   ],
   "source": [
    "# Datos para el gráfico\n",
    "sticky_factors = [15.88, 3.91]  # Valores de sticky factor semanal y mensual\n",
    "periods = ['Semanal', 'Mensual']  # Etiquetas para el eje x\n",
    "\n",
    "# Crear el gráfico de barras\n",
    "plt.figure(figsize=(8, 6))\n",
    "plt.bar(periods, sticky_factors, color=['skyblue', 'lightgreen'])\n",
    "plt.title('Factor de Adherencia Semanal vs Mensual')\n",
    "plt.ylabel('Factor de Adherencia (%)')\n",
    "plt.ylim(0, 20) \n",
    "plt.tight_layout()\n",
    "\n",
    "# Mostrar el gráfico\n",
    "plt.show()"
   ]
  },
  {
   "cell_type": "markdown",
   "metadata": {},
   "source": [
    "1. Sticky factor semanal: El sticky factor semanal es del 15.88%. Esto significa que, en promedio, el 15.88% de los usuarios regresan semanalmente. Esto indica una buena tasa de retención semanal.\n",
    "\n",
    "2. Sticky factor mensual: El sticky factor mensual es del 3.91%. Esto significa que, en promedio, el 3.91% de los usuarios regresan mensualmente. Esta tasa de retención mensual es más baja que la semanal, lo que sugiere que algunos usuarios regresan con más frecuencia que otros."
   ]
  },
  {
   "cell_type": "markdown",
   "metadata": {},
   "source": [
    "<div class=\"alert alert-block alert-success\">\n",
    "<b>Comentario de Reviewer</b> <a class=\"tocSkip\"></a>\n",
    "\n",
    "Correcto! Me parece muy bien la comparación de ambas métricas de esta manera, las conclusiones son correctas\n",
    "</div>"
   ]
  },
  {
   "cell_type": "markdown",
   "metadata": {},
   "source": [
    "### Ventas:"
   ]
  },
  {
   "cell_type": "code",
   "execution_count": 21,
   "metadata": {},
   "outputs": [
    {
     "data": {
      "text/plain": [
       "count          50415\n",
       "unique           364\n",
       "top       2017-11-24\n",
       "freq             814\n",
       "Name: buy_ts, dtype: object"
      ]
     },
     "execution_count": 21,
     "metadata": {},
     "output_type": "execute_result"
    }
   ],
   "source": [
    "# Verificar la distribución de las fechas de pedidos.\n",
    "\n",
    "orders['buy_ts'].describe() "
   ]
  },
  {
   "cell_type": "markdown",
   "metadata": {},
   "source": [
    "Vemos que la primera compra se realizó el 01 de Junio de 2017 y la última el 01 de Junio de 2018\n",
    "Hay datos de un año. Será mejor hacer cohortes mensuales. Capturemos los meses a partir de las fechas en las tablas de pedidos y costos."
   ]
  },
  {
   "cell_type": "markdown",
   "metadata": {},
   "source": [
    "#### Análisis de cuándo la gente empieza a comprar (Conversion Time):"
   ]
  },
  {
   "cell_type": "code",
   "execution_count": 22,
   "metadata": {},
   "outputs": [],
   "source": [
    "orders[\"buy_ts\"] = pd.to_datetime(orders[\"buy_ts\"])\n",
    "first_order = orders.groupby(\"uid\")[\"buy_ts\"].min().reset_index()\n",
    "first_visits = visits.groupby(\"uid\")[\"start_ts\"].min().reset_index()"
   ]
  },
  {
   "cell_type": "code",
   "execution_count": 23,
   "metadata": {},
   "outputs": [
    {
     "data": {
      "text/html": [
       "<div>\n",
       "<style scoped>\n",
       "    .dataframe tbody tr th:only-of-type {\n",
       "        vertical-align: middle;\n",
       "    }\n",
       "\n",
       "    .dataframe tbody tr th {\n",
       "        vertical-align: top;\n",
       "    }\n",
       "\n",
       "    .dataframe thead th {\n",
       "        text-align: right;\n",
       "    }\n",
       "</style>\n",
       "<table border=\"1\" class=\"dataframe\">\n",
       "  <thead>\n",
       "    <tr style=\"text-align: right;\">\n",
       "      <th></th>\n",
       "      <th>uid</th>\n",
       "      <th>start_ts</th>\n",
       "      <th>buy_ts</th>\n",
       "    </tr>\n",
       "  </thead>\n",
       "  <tbody>\n",
       "    <tr>\n",
       "      <th>0</th>\n",
       "      <td>11863502262781</td>\n",
       "      <td>2018-03-01 17:27:00</td>\n",
       "      <td>NaT</td>\n",
       "    </tr>\n",
       "    <tr>\n",
       "      <th>1</th>\n",
       "      <td>49537067089222</td>\n",
       "      <td>2018-02-06 15:55:00</td>\n",
       "      <td>NaT</td>\n",
       "    </tr>\n",
       "    <tr>\n",
       "      <th>2</th>\n",
       "      <td>297729379853735</td>\n",
       "      <td>2017-06-07 18:47:00</td>\n",
       "      <td>NaT</td>\n",
       "    </tr>\n",
       "    <tr>\n",
       "      <th>3</th>\n",
       "      <td>313578113262317</td>\n",
       "      <td>2017-09-18 22:49:00</td>\n",
       "      <td>2018-01-03</td>\n",
       "    </tr>\n",
       "    <tr>\n",
       "      <th>4</th>\n",
       "      <td>325320750514679</td>\n",
       "      <td>2017-09-30 14:29:00</td>\n",
       "      <td>NaT</td>\n",
       "    </tr>\n",
       "    <tr>\n",
       "      <th>...</th>\n",
       "      <td>...</td>\n",
       "      <td>...</td>\n",
       "      <td>...</td>\n",
       "    </tr>\n",
       "    <tr>\n",
       "      <th>228164</th>\n",
       "      <td>18446403737806311543</td>\n",
       "      <td>2017-11-30 03:36:00</td>\n",
       "      <td>NaT</td>\n",
       "    </tr>\n",
       "    <tr>\n",
       "      <th>228165</th>\n",
       "      <td>18446424184725333426</td>\n",
       "      <td>2017-12-06 20:32:00</td>\n",
       "      <td>NaT</td>\n",
       "    </tr>\n",
       "    <tr>\n",
       "      <th>228166</th>\n",
       "      <td>18446556406699109058</td>\n",
       "      <td>2018-01-01 16:29:00</td>\n",
       "      <td>NaT</td>\n",
       "    </tr>\n",
       "    <tr>\n",
       "      <th>228167</th>\n",
       "      <td>18446621818809592527</td>\n",
       "      <td>2017-12-27 13:27:00</td>\n",
       "      <td>NaT</td>\n",
       "    </tr>\n",
       "    <tr>\n",
       "      <th>228168</th>\n",
       "      <td>18446676030785672386</td>\n",
       "      <td>2017-10-04 16:01:00</td>\n",
       "      <td>NaT</td>\n",
       "    </tr>\n",
       "  </tbody>\n",
       "</table>\n",
       "<p>228169 rows × 3 columns</p>\n",
       "</div>"
      ],
      "text/plain": [
       "                         uid            start_ts     buy_ts\n",
       "0             11863502262781 2018-03-01 17:27:00        NaT\n",
       "1             49537067089222 2018-02-06 15:55:00        NaT\n",
       "2            297729379853735 2017-06-07 18:47:00        NaT\n",
       "3            313578113262317 2017-09-18 22:49:00 2018-01-03\n",
       "4            325320750514679 2017-09-30 14:29:00        NaT\n",
       "...                      ...                 ...        ...\n",
       "228164  18446403737806311543 2017-11-30 03:36:00        NaT\n",
       "228165  18446424184725333426 2017-12-06 20:32:00        NaT\n",
       "228166  18446556406699109058 2018-01-01 16:29:00        NaT\n",
       "228167  18446621818809592527 2017-12-27 13:27:00        NaT\n",
       "228168  18446676030785672386 2017-10-04 16:01:00        NaT\n",
       "\n",
       "[228169 rows x 3 columns]"
      ]
     },
     "execution_count": 23,
     "metadata": {},
     "output_type": "execute_result"
    }
   ],
   "source": [
    "conversion_times = first_visits.merge(first_order, on=\"uid\", how=\"left\")\n",
    "conversion_times"
   ]
  },
  {
   "cell_type": "code",
   "execution_count": 24,
   "metadata": {},
   "outputs": [
    {
     "data": {
      "text/html": [
       "<div>\n",
       "<style scoped>\n",
       "    .dataframe tbody tr th:only-of-type {\n",
       "        vertical-align: middle;\n",
       "    }\n",
       "\n",
       "    .dataframe tbody tr th {\n",
       "        vertical-align: top;\n",
       "    }\n",
       "\n",
       "    .dataframe thead th {\n",
       "        text-align: right;\n",
       "    }\n",
       "</style>\n",
       "<table border=\"1\" class=\"dataframe\">\n",
       "  <thead>\n",
       "    <tr style=\"text-align: right;\">\n",
       "      <th></th>\n",
       "      <th>cohort</th>\n",
       "      <th>conversion_0d</th>\n",
       "      <th>conversion_1d</th>\n",
       "      <th>conversion_1d+</th>\n",
       "    </tr>\n",
       "  </thead>\n",
       "  <tbody>\n",
       "    <tr>\n",
       "      <th>0</th>\n",
       "      <td>2017-06-01</td>\n",
       "      <td>0.138547</td>\n",
       "      <td>0.002715</td>\n",
       "      <td>0.079191</td>\n",
       "    </tr>\n",
       "    <tr>\n",
       "      <th>1</th>\n",
       "      <td>2017-07-01</td>\n",
       "      <td>0.119178</td>\n",
       "      <td>0.002740</td>\n",
       "      <td>0.065145</td>\n",
       "    </tr>\n",
       "    <tr>\n",
       "      <th>2</th>\n",
       "      <td>2017-08-01</td>\n",
       "      <td>0.109321</td>\n",
       "      <td>0.002063</td>\n",
       "      <td>0.057656</td>\n",
       "    </tr>\n",
       "    <tr>\n",
       "      <th>3</th>\n",
       "      <td>2017-09-01</td>\n",
       "      <td>0.120750</td>\n",
       "      <td>0.002514</td>\n",
       "      <td>0.059806</td>\n",
       "    </tr>\n",
       "    <tr>\n",
       "      <th>4</th>\n",
       "      <td>2017-10-01</td>\n",
       "      <td>0.130077</td>\n",
       "      <td>0.003234</td>\n",
       "      <td>0.046772</td>\n",
       "    </tr>\n",
       "    <tr>\n",
       "      <th>5</th>\n",
       "      <td>2017-11-01</td>\n",
       "      <td>0.108485</td>\n",
       "      <td>0.003523</td>\n",
       "      <td>0.044407</td>\n",
       "    </tr>\n",
       "    <tr>\n",
       "      <th>6</th>\n",
       "      <td>2017-12-01</td>\n",
       "      <td>0.121300</td>\n",
       "      <td>0.003641</td>\n",
       "      <td>0.036291</td>\n",
       "    </tr>\n",
       "    <tr>\n",
       "      <th>7</th>\n",
       "      <td>2018-01-01</td>\n",
       "      <td>0.105110</td>\n",
       "      <td>0.003271</td>\n",
       "      <td>0.029482</td>\n",
       "    </tr>\n",
       "    <tr>\n",
       "      <th>8</th>\n",
       "      <td>2018-02-01</td>\n",
       "      <td>0.114610</td>\n",
       "      <td>0.003154</td>\n",
       "      <td>0.025769</td>\n",
       "    </tr>\n",
       "    <tr>\n",
       "      <th>9</th>\n",
       "      <td>2018-03-01</td>\n",
       "      <td>0.117684</td>\n",
       "      <td>0.002526</td>\n",
       "      <td>0.017631</td>\n",
       "    </tr>\n",
       "    <tr>\n",
       "      <th>10</th>\n",
       "      <td>2018-04-01</td>\n",
       "      <td>0.101534</td>\n",
       "      <td>0.002228</td>\n",
       "      <td>0.016551</td>\n",
       "    </tr>\n",
       "    <tr>\n",
       "      <th>11</th>\n",
       "      <td>2018-05-01</td>\n",
       "      <td>0.139593</td>\n",
       "      <td>0.003077</td>\n",
       "      <td>0.008970</td>\n",
       "    </tr>\n",
       "  </tbody>\n",
       "</table>\n",
       "</div>"
      ],
      "text/plain": [
       "       cohort  conversion_0d  conversion_1d  conversion_1d+\n",
       "0  2017-06-01       0.138547       0.002715        0.079191\n",
       "1  2017-07-01       0.119178       0.002740        0.065145\n",
       "2  2017-08-01       0.109321       0.002063        0.057656\n",
       "3  2017-09-01       0.120750       0.002514        0.059806\n",
       "4  2017-10-01       0.130077       0.003234        0.046772\n",
       "5  2017-11-01       0.108485       0.003523        0.044407\n",
       "6  2017-12-01       0.121300       0.003641        0.036291\n",
       "7  2018-01-01       0.105110       0.003271        0.029482\n",
       "8  2018-02-01       0.114610       0.003154        0.025769\n",
       "9  2018-03-01       0.117684       0.002526        0.017631\n",
       "10 2018-04-01       0.101534       0.002228        0.016551\n",
       "11 2018-05-01       0.139593       0.003077        0.008970"
      ]
     },
     "execution_count": 24,
     "metadata": {},
     "output_type": "execute_result"
    }
   ],
   "source": [
    "\n",
    "conversion_times[\"time_to_convert\"] = (conversion_times[\"buy_ts\"] - conversion_times[\"start_ts\"]).dt.days\n",
    "conversion_times[\"cohort\"] = conversion_times[\"start_ts\"].dt.to_period(\"M\").dt.start_time\n",
    "\n",
    "conversion_times[\"conversion_0d\"] = conversion_times[\"time_to_convert\"] < 1\n",
    "conversion_times[\"conversion_1d\"] = (conversion_times[\"time_to_convert\"] < 2) & (conversion_times[\"time_to_convert\"] >= 1)\n",
    "conversion_times[\"conversion_1d+\"] = conversion_times[\"time_to_convert\"] >= 2\n",
    "conversion_result = conversion_times.groupby(\"cohort\")[[\"conversion_0d\", \"conversion_1d\", \"conversion_1d+\"]].mean().reset_index()\n",
    "conversion_result\n"
   ]
  },
  {
   "cell_type": "markdown",
   "metadata": {},
   "source": [
    "<div class=\"alert alert-block alert-danger\">\n",
    "<b>Comentario de Reviewer v2</b> <a class=\"tocSkip\"></a>\n",
    "\n",
    "El tiempo de conversión calculado es incorrecto. Cuando obtienes los segundos con dt.seconds, no transforma los días a segundos sino que obtiene la diferencia de segundos de ambos datetime (o sea si uno es 01-01-2023 15:00:00 y el otro es 21-8-2023 15:00:10, dt.seconds obtiene 10). Además, la diferencia debe ser el datetime de compra menos el datetime de visita. Para convertir esa diferencia a días te recomiendo usar simplemente dt.days\n",
    "</div>"
   ]
  },
  {
   "cell_type": "markdown",
   "metadata": {},
   "source": [
    "<div class=\"alert alert-block alert-success\">\n",
    "<b>Comentario de Reviewer v3</b> <a class=\"tocSkip\"></a>\n",
    "\n",
    "Muy bien, corregido!\n",
    "</div>"
   ]
  },
  {
   "cell_type": "code",
   "execution_count": 25,
   "metadata": {},
   "outputs": [
    {
     "data": {
      "image/png": "[encoded data removed]",
      "text/plain": [
       "<Figure size 576x432 with 1 Axes>"
      ]
     },
     "metadata": {
      "needs_background": "light"
     },
     "output_type": "display_data"
    }
   ],
   "source": [
    "plt.figure(figsize=(8, 6))\n",
    "plt.hist(conversion_times['time_to_convert'].dropna(), bins=30, color='skyblue', edgecolor='black')\n",
    "plt.title('Distribución de Tiempos de Conversión')\n",
    "plt.xlabel('Tiempo de Conversión (días)')\n",
    "plt.ylabel('Frecuencia')\n",
    "plt.grid(True)\n",
    "plt.tight_layout()\n",
    "\n",
    "plt.show()"
   ]
  },
  {
   "cell_type": "markdown",
   "metadata": {},
   "source": [
    "* Se observa una estabilidad en la tasa de conversión de usuarios que realizan la acción de compra dentro del primer día. Estos valores no varían considerablemente a lo largo de las distintas cohortes.\n",
    "* La tasa de conversión en periodos de tiempo más largos, como más de un día, muestra una tendencia a disminuir a lo largo del tiempo, lo que podría indicar que una menor proporción de usuarios convierte después de un día."
   ]
  },
  {
   "cell_type": "markdown",
   "metadata": {},
   "source": [
    "<div class=\"alert alert-block alert-danger\">\n",
    "<b>Comentario de Reviewer</b> <a class=\"tocSkip\"></a>\n",
    "\n",
    "En esta parte falta responder a esta pregunta (tiempo de conversión). Por cada usuario calcula el momento de su primera visita y el momento de su primera orden, une ambos resultados, resta esos momentos y tendrás los días entre la primera visita y la primera compra. Realiza un histograma de esto.\n",
    "</div>"
   ]
  },
  {
   "cell_type": "markdown",
   "metadata": {},
   "source": [
    "<div class=\"alert alert-block alert-success\">\n",
    "<b>Comentario de Reviewer v3</b> <a class=\"tocSkip\"></a>\n",
    "\n",
    "Muy bien, corregido!\n",
    "</div>"
   ]
  },
  {
   "cell_type": "code",
   "execution_count": 26,
   "metadata": {},
   "outputs": [
    {
     "data": {
      "text/html": [
       "<div>\n",
       "<style scoped>\n",
       "    .dataframe tbody tr th:only-of-type {\n",
       "        vertical-align: middle;\n",
       "    }\n",
       "\n",
       "    .dataframe tbody tr th {\n",
       "        vertical-align: top;\n",
       "    }\n",
       "\n",
       "    .dataframe thead th {\n",
       "        text-align: right;\n",
       "    }\n",
       "</style>\n",
       "<table border=\"1\" class=\"dataframe\">\n",
       "  <thead>\n",
       "    <tr style=\"text-align: right;\">\n",
       "      <th></th>\n",
       "      <th>buy_ts</th>\n",
       "      <th>revenue</th>\n",
       "      <th>uid</th>\n",
       "    </tr>\n",
       "  </thead>\n",
       "  <tbody>\n",
       "    <tr>\n",
       "      <th>0</th>\n",
       "      <td>2017-06-01</td>\n",
       "      <td>17.00</td>\n",
       "      <td>10329302124590727494</td>\n",
       "    </tr>\n",
       "    <tr>\n",
       "      <th>1</th>\n",
       "      <td>2017-06-01</td>\n",
       "      <td>0.55</td>\n",
       "      <td>11627257723692907447</td>\n",
       "    </tr>\n",
       "    <tr>\n",
       "      <th>2</th>\n",
       "      <td>2017-06-01</td>\n",
       "      <td>0.37</td>\n",
       "      <td>17903680561304213844</td>\n",
       "    </tr>\n",
       "    <tr>\n",
       "      <th>3</th>\n",
       "      <td>2017-06-01</td>\n",
       "      <td>0.55</td>\n",
       "      <td>16109239769442553005</td>\n",
       "    </tr>\n",
       "    <tr>\n",
       "      <th>4</th>\n",
       "      <td>2017-06-01</td>\n",
       "      <td>0.37</td>\n",
       "      <td>14200605875248379450</td>\n",
       "    </tr>\n",
       "  </tbody>\n",
       "</table>\n",
       "</div>"
      ],
      "text/plain": [
       "      buy_ts  revenue                   uid\n",
       "0 2017-06-01    17.00  10329302124590727494\n",
       "1 2017-06-01     0.55  11627257723692907447\n",
       "2 2017-06-01     0.37  17903680561304213844\n",
       "3 2017-06-01     0.55  16109239769442553005\n",
       "4 2017-06-01     0.37  14200605875248379450"
      ]
     },
     "execution_count": 26,
     "metadata": {},
     "output_type": "execute_result"
    }
   ],
   "source": [
    "orders.head()\n"
   ]
  },
  {
   "cell_type": "code",
   "execution_count": 27,
   "metadata": {
    "scrolled": true
   },
   "outputs": [],
   "source": [
    "# Crear una columna 'order_month' para el mes de la compra\n",
    "orders['order_month'] = orders['buy_ts'].astype('datetime64[M]')\n",
    "costs['month']        = costs['dt'].astype('datetime64[M]')"
   ]
  },
  {
   "cell_type": "code",
   "execution_count": 28,
   "metadata": {
    "scrolled": true
   },
   "outputs": [
    {
     "data": {
      "text/html": [
       "<div>\n",
       "<style scoped>\n",
       "    .dataframe tbody tr th:only-of-type {\n",
       "        vertical-align: middle;\n",
       "    }\n",
       "\n",
       "    .dataframe tbody tr th {\n",
       "        vertical-align: top;\n",
       "    }\n",
       "\n",
       "    .dataframe thead th {\n",
       "        text-align: right;\n",
       "    }\n",
       "</style>\n",
       "<table border=\"1\" class=\"dataframe\">\n",
       "  <thead>\n",
       "    <tr style=\"text-align: right;\">\n",
       "      <th></th>\n",
       "      <th>uid</th>\n",
       "      <th>first_order_month</th>\n",
       "    </tr>\n",
       "  </thead>\n",
       "  <tbody>\n",
       "    <tr>\n",
       "      <th>0</th>\n",
       "      <td>313578113262317</td>\n",
       "      <td>2018-01-01</td>\n",
       "    </tr>\n",
       "    <tr>\n",
       "      <th>1</th>\n",
       "      <td>1575281904278712</td>\n",
       "      <td>2017-06-01</td>\n",
       "    </tr>\n",
       "    <tr>\n",
       "      <th>2</th>\n",
       "      <td>2429014661409475</td>\n",
       "      <td>2017-10-01</td>\n",
       "    </tr>\n",
       "    <tr>\n",
       "      <th>3</th>\n",
       "      <td>2464366381792757</td>\n",
       "      <td>2018-01-01</td>\n",
       "    </tr>\n",
       "    <tr>\n",
       "      <th>4</th>\n",
       "      <td>2551852515556206</td>\n",
       "      <td>2017-11-01</td>\n",
       "    </tr>\n",
       "  </tbody>\n",
       "</table>\n",
       "</div>"
      ],
      "text/plain": [
       "                uid first_order_month\n",
       "0   313578113262317        2018-01-01\n",
       "1  1575281904278712        2017-06-01\n",
       "2  2429014661409475        2017-10-01\n",
       "3  2464366381792757        2018-01-01\n",
       "4  2551852515556206        2017-11-01"
      ]
     },
     "execution_count": 28,
     "metadata": {},
     "output_type": "execute_result"
    }
   ],
   "source": [
    "# Encontrar la fecha de la primera compra de cada cliente\n",
    "\n",
    "first_orders = orders.groupby('uid').agg({'order_month':'min'}).reset_index()\n",
    "first_orders.columns= ['uid','first_order_month']\n",
    "first_orders.head()\n"
   ]
  },
  {
   "cell_type": "code",
   "execution_count": 29,
   "metadata": {
    "scrolled": true
   },
   "outputs": [
    {
     "data": {
      "text/html": [
       "<div>\n",
       "<style scoped>\n",
       "    .dataframe tbody tr th:only-of-type {\n",
       "        vertical-align: middle;\n",
       "    }\n",
       "\n",
       "    .dataframe tbody tr th {\n",
       "        vertical-align: top;\n",
       "    }\n",
       "\n",
       "    .dataframe thead th {\n",
       "        text-align: right;\n",
       "    }\n",
       "</style>\n",
       "<table border=\"1\" class=\"dataframe\">\n",
       "  <thead>\n",
       "    <tr style=\"text-align: right;\">\n",
       "      <th></th>\n",
       "      <th>first_order_month</th>\n",
       "      <th>n_buyers</th>\n",
       "    </tr>\n",
       "  </thead>\n",
       "  <tbody>\n",
       "    <tr>\n",
       "      <th>0</th>\n",
       "      <td>2017-06-01</td>\n",
       "      <td>2023</td>\n",
       "    </tr>\n",
       "    <tr>\n",
       "      <th>1</th>\n",
       "      <td>2017-07-01</td>\n",
       "      <td>1923</td>\n",
       "    </tr>\n",
       "    <tr>\n",
       "      <th>2</th>\n",
       "      <td>2017-08-01</td>\n",
       "      <td>1370</td>\n",
       "    </tr>\n",
       "    <tr>\n",
       "      <th>3</th>\n",
       "      <td>2017-09-01</td>\n",
       "      <td>2581</td>\n",
       "    </tr>\n",
       "    <tr>\n",
       "      <th>4</th>\n",
       "      <td>2017-10-01</td>\n",
       "      <td>4340</td>\n",
       "    </tr>\n",
       "  </tbody>\n",
       "</table>\n",
       "</div>"
      ],
      "text/plain": [
       "  first_order_month  n_buyers\n",
       "0        2017-06-01      2023\n",
       "1        2017-07-01      1923\n",
       "2        2017-08-01      1370\n",
       "3        2017-09-01      2581\n",
       "4        2017-10-01      4340"
      ]
     },
     "execution_count": 29,
     "metadata": {},
     "output_type": "execute_result"
    }
   ],
   "source": [
    "# Calcular el numero de Nuevos clientes \n",
    "\n",
    "cohort_sizes = first_orders.groupby('first_order_month').agg({'uid': 'nunique'}).reset_index()\n",
    "cohort_sizes.columns = ['first_order_month', 'n_buyers']\n",
    "cohort_sizes.head() "
   ]
  },
  {
   "cell_type": "code",
   "execution_count": 30,
   "metadata": {
    "scrolled": true
   },
   "outputs": [
    {
     "data": {
      "text/html": [
       "<div>\n",
       "<style scoped>\n",
       "    .dataframe tbody tr th:only-of-type {\n",
       "        vertical-align: middle;\n",
       "    }\n",
       "\n",
       "    .dataframe tbody tr th {\n",
       "        vertical-align: top;\n",
       "    }\n",
       "\n",
       "    .dataframe thead th {\n",
       "        text-align: right;\n",
       "    }\n",
       "</style>\n",
       "<table border=\"1\" class=\"dataframe\">\n",
       "  <thead>\n",
       "    <tr style=\"text-align: right;\">\n",
       "      <th></th>\n",
       "      <th>buy_ts</th>\n",
       "      <th>revenue</th>\n",
       "      <th>uid</th>\n",
       "      <th>order_month</th>\n",
       "      <th>first_order_month</th>\n",
       "    </tr>\n",
       "  </thead>\n",
       "  <tbody>\n",
       "    <tr>\n",
       "      <th>0</th>\n",
       "      <td>2017-06-01</td>\n",
       "      <td>17.00</td>\n",
       "      <td>10329302124590727494</td>\n",
       "      <td>2017-06-01</td>\n",
       "      <td>2017-06-01</td>\n",
       "    </tr>\n",
       "    <tr>\n",
       "      <th>1</th>\n",
       "      <td>2017-06-01</td>\n",
       "      <td>0.55</td>\n",
       "      <td>11627257723692907447</td>\n",
       "      <td>2017-06-01</td>\n",
       "      <td>2017-06-01</td>\n",
       "    </tr>\n",
       "    <tr>\n",
       "      <th>2</th>\n",
       "      <td>2017-06-01</td>\n",
       "      <td>0.37</td>\n",
       "      <td>17903680561304213844</td>\n",
       "      <td>2017-06-01</td>\n",
       "      <td>2017-06-01</td>\n",
       "    </tr>\n",
       "    <tr>\n",
       "      <th>3</th>\n",
       "      <td>2017-06-01</td>\n",
       "      <td>0.55</td>\n",
       "      <td>16109239769442553005</td>\n",
       "      <td>2017-06-01</td>\n",
       "      <td>2017-06-01</td>\n",
       "    </tr>\n",
       "    <tr>\n",
       "      <th>4</th>\n",
       "      <td>2017-06-01</td>\n",
       "      <td>0.37</td>\n",
       "      <td>14200605875248379450</td>\n",
       "      <td>2017-06-01</td>\n",
       "      <td>2017-06-01</td>\n",
       "    </tr>\n",
       "    <tr>\n",
       "      <th>5</th>\n",
       "      <td>2017-06-01</td>\n",
       "      <td>0.18</td>\n",
       "      <td>10402394430196413321</td>\n",
       "      <td>2017-06-01</td>\n",
       "      <td>2017-06-01</td>\n",
       "    </tr>\n",
       "    <tr>\n",
       "      <th>6</th>\n",
       "      <td>2017-06-01</td>\n",
       "      <td>1.83</td>\n",
       "      <td>12464626743129688638</td>\n",
       "      <td>2017-06-01</td>\n",
       "      <td>2017-06-01</td>\n",
       "    </tr>\n",
       "    <tr>\n",
       "      <th>7</th>\n",
       "      <td>2017-06-05</td>\n",
       "      <td>7.33</td>\n",
       "      <td>12464626743129688638</td>\n",
       "      <td>2017-06-01</td>\n",
       "      <td>2017-06-01</td>\n",
       "    </tr>\n",
       "    <tr>\n",
       "      <th>8</th>\n",
       "      <td>2017-06-01</td>\n",
       "      <td>1.22</td>\n",
       "      <td>3644482766749211722</td>\n",
       "      <td>2017-06-01</td>\n",
       "      <td>2017-06-01</td>\n",
       "    </tr>\n",
       "    <tr>\n",
       "      <th>9</th>\n",
       "      <td>2017-06-02</td>\n",
       "      <td>0.85</td>\n",
       "      <td>3644482766749211722</td>\n",
       "      <td>2017-06-01</td>\n",
       "      <td>2017-06-01</td>\n",
       "    </tr>\n",
       "  </tbody>\n",
       "</table>\n",
       "</div>"
      ],
      "text/plain": [
       "      buy_ts  revenue                   uid order_month first_order_month\n",
       "0 2017-06-01    17.00  10329302124590727494  2017-06-01        2017-06-01\n",
       "1 2017-06-01     0.55  11627257723692907447  2017-06-01        2017-06-01\n",
       "2 2017-06-01     0.37  17903680561304213844  2017-06-01        2017-06-01\n",
       "3 2017-06-01     0.55  16109239769442553005  2017-06-01        2017-06-01\n",
       "4 2017-06-01     0.37  14200605875248379450  2017-06-01        2017-06-01\n",
       "5 2017-06-01     0.18  10402394430196413321  2017-06-01        2017-06-01\n",
       "6 2017-06-01     1.83  12464626743129688638  2017-06-01        2017-06-01\n",
       "7 2017-06-05     7.33  12464626743129688638  2017-06-01        2017-06-01\n",
       "8 2017-06-01     1.22   3644482766749211722  2017-06-01        2017-06-01\n",
       "9 2017-06-02     0.85   3644482766749211722  2017-06-01        2017-06-01"
      ]
     },
     "execution_count": 30,
     "metadata": {},
     "output_type": "execute_result"
    }
   ],
   "source": [
    "# Agregar los meses de la primera compra de clientes al dataset de 'Orders'\n",
    "orders1 = pd.merge(orders,first_orders, on='uid')\n",
    "orders1.head(10)"
   ]
  },
  {
   "cell_type": "markdown",
   "metadata": {},
   "source": [
    "El DataFrame de 'orders' ahora incluye la información del mes en que cada cliente realizó su primera compra. Esto me permitirá realizar un análisis y segmentación de clientes según el mes de su primera compra."
   ]
  },
  {
   "cell_type": "code",
   "execution_count": 31,
   "metadata": {},
   "outputs": [
    {
     "data": {
      "text/html": [
       "<div>\n",
       "<style scoped>\n",
       "    .dataframe tbody tr th:only-of-type {\n",
       "        vertical-align: middle;\n",
       "    }\n",
       "\n",
       "    .dataframe tbody tr th {\n",
       "        vertical-align: top;\n",
       "    }\n",
       "\n",
       "    .dataframe thead th {\n",
       "        text-align: right;\n",
       "    }\n",
       "</style>\n",
       "<table border=\"1\" class=\"dataframe\">\n",
       "  <thead>\n",
       "    <tr style=\"text-align: right;\">\n",
       "      <th></th>\n",
       "      <th>first_order_month</th>\n",
       "      <th>order_month</th>\n",
       "      <th>revenue</th>\n",
       "    </tr>\n",
       "  </thead>\n",
       "  <tbody>\n",
       "    <tr>\n",
       "      <th>0</th>\n",
       "      <td>2017-06-01</td>\n",
       "      <td>2017-06-01</td>\n",
       "      <td>9557.49</td>\n",
       "    </tr>\n",
       "    <tr>\n",
       "      <th>1</th>\n",
       "      <td>2017-06-01</td>\n",
       "      <td>2017-07-01</td>\n",
       "      <td>981.82</td>\n",
       "    </tr>\n",
       "    <tr>\n",
       "      <th>2</th>\n",
       "      <td>2017-06-01</td>\n",
       "      <td>2017-08-01</td>\n",
       "      <td>885.34</td>\n",
       "    </tr>\n",
       "    <tr>\n",
       "      <th>3</th>\n",
       "      <td>2017-06-01</td>\n",
       "      <td>2017-09-01</td>\n",
       "      <td>1931.30</td>\n",
       "    </tr>\n",
       "    <tr>\n",
       "      <th>4</th>\n",
       "      <td>2017-06-01</td>\n",
       "      <td>2017-10-01</td>\n",
       "      <td>2068.58</td>\n",
       "    </tr>\n",
       "  </tbody>\n",
       "</table>\n",
       "</div>"
      ],
      "text/plain": [
       "  first_order_month order_month  revenue\n",
       "0        2017-06-01  2017-06-01  9557.49\n",
       "1        2017-06-01  2017-07-01   981.82\n",
       "2        2017-06-01  2017-08-01   885.34\n",
       "3        2017-06-01  2017-09-01  1931.30\n",
       "4        2017-06-01  2017-10-01  2068.58"
      ]
     },
     "execution_count": 31,
     "metadata": {},
     "output_type": "execute_result"
    }
   ],
   "source": [
    "# Totalizar ingresos\n",
    "\n",
    "cohorts = orders1.groupby(['first_order_month','order_month']).agg({'revenue': 'sum'}).reset_index()\n",
    "cohorts.head()"
   ]
  },
  {
   "cell_type": "markdown",
   "metadata": {},
   "source": [
    "Se evidencia las ventas (ingresos) mensuales para clientes que realizaron su primera compra en junio de 2017, donde cada fila representa el mes en que se realizó la compra y los ingresos generados en ese mes por esos clientes específicos."
   ]
  },
  {
   "cell_type": "markdown",
   "metadata": {},
   "source": [
    "<div class=\"alert alert-block alert-success\">\n",
    "<b>Comentario de Reviewer</b> <a class=\"tocSkip\"></a>\n",
    "\n",
    "Ok, eso está bien\n",
    "</div>"
   ]
  },
  {
   "cell_type": "code",
   "execution_count": 32,
   "metadata": {},
   "outputs": [
    {
     "data": {
      "text/html": [
       "<div>\n",
       "<style scoped>\n",
       "    .dataframe tbody tr th:only-of-type {\n",
       "        vertical-align: middle;\n",
       "    }\n",
       "\n",
       "    .dataframe tbody tr th {\n",
       "        vertical-align: top;\n",
       "    }\n",
       "\n",
       "    .dataframe thead th {\n",
       "        text-align: right;\n",
       "    }\n",
       "</style>\n",
       "<table border=\"1\" class=\"dataframe\">\n",
       "  <thead>\n",
       "    <tr style=\"text-align: right;\">\n",
       "      <th></th>\n",
       "      <th>first_order_month</th>\n",
       "      <th>n_buyers</th>\n",
       "      <th>order_month</th>\n",
       "      <th>revenue</th>\n",
       "    </tr>\n",
       "  </thead>\n",
       "  <tbody>\n",
       "    <tr>\n",
       "      <th>0</th>\n",
       "      <td>2017-06-01</td>\n",
       "      <td>2023</td>\n",
       "      <td>2017-06-01</td>\n",
       "      <td>9557.49</td>\n",
       "    </tr>\n",
       "    <tr>\n",
       "      <th>1</th>\n",
       "      <td>2017-06-01</td>\n",
       "      <td>2023</td>\n",
       "      <td>2017-07-01</td>\n",
       "      <td>981.82</td>\n",
       "    </tr>\n",
       "    <tr>\n",
       "      <th>2</th>\n",
       "      <td>2017-06-01</td>\n",
       "      <td>2023</td>\n",
       "      <td>2017-08-01</td>\n",
       "      <td>885.34</td>\n",
       "    </tr>\n",
       "    <tr>\n",
       "      <th>3</th>\n",
       "      <td>2017-06-01</td>\n",
       "      <td>2023</td>\n",
       "      <td>2017-09-01</td>\n",
       "      <td>1931.30</td>\n",
       "    </tr>\n",
       "    <tr>\n",
       "      <th>4</th>\n",
       "      <td>2017-06-01</td>\n",
       "      <td>2023</td>\n",
       "      <td>2017-10-01</td>\n",
       "      <td>2068.58</td>\n",
       "    </tr>\n",
       "  </tbody>\n",
       "</table>\n",
       "</div>"
      ],
      "text/plain": [
       "  first_order_month  n_buyers order_month  revenue\n",
       "0        2017-06-01      2023  2017-06-01  9557.49\n",
       "1        2017-06-01      2023  2017-07-01   981.82\n",
       "2        2017-06-01      2023  2017-08-01   885.34\n",
       "3        2017-06-01      2023  2017-09-01  1931.30\n",
       "4        2017-06-01      2023  2017-10-01  2068.58"
      ]
     },
     "execution_count": 32,
     "metadata": {},
     "output_type": "execute_result"
    }
   ],
   "source": [
    "# Agreguemos datos sobre cuántos usuarios realizaron sus primeras compras en cada mes a la tabla cohorts\n",
    "\n",
    "report = pd.merge(cohort_sizes, cohorts, on='first_order_month')\n",
    "\n",
    "report.head() "
   ]
  },
  {
   "cell_type": "markdown",
   "metadata": {},
   "source": [
    " Este informe muestra el número de nuevos clientes y los ingresos por mes de la primera compra."
   ]
  },
  {
   "cell_type": "markdown",
   "metadata": {},
   "source": [
    "#### Orders por periodo de tiempo"
   ]
  },
  {
   "cell_type": "code",
   "execution_count": 33,
   "metadata": {},
   "outputs": [
    {
     "name": "stdout",
     "output_type": "stream",
     "text": [
      "<class 'pandas.core.frame.DataFrame'>\n",
      "RangeIndex: 50415 entries, 0 to 50414\n",
      "Data columns (total 4 columns):\n",
      " #   Column       Non-Null Count  Dtype         \n",
      "---  ------       --------------  -----         \n",
      " 0   buy_ts       50415 non-null  datetime64[ns]\n",
      " 1   revenue      50415 non-null  float64       \n",
      " 2   uid          50415 non-null  uint64        \n",
      " 3   order_month  50415 non-null  datetime64[ns]\n",
      "dtypes: datetime64[ns](2), float64(1), uint64(1)\n",
      "memory usage: 1.5 MB\n"
     ]
    }
   ],
   "source": [
    "orders.info()"
   ]
  },
  {
   "cell_type": "code",
   "execution_count": 34,
   "metadata": {},
   "outputs": [],
   "source": [
    "orders['buy_ts'] = pd.to_datetime(orders['buy_ts'])"
   ]
  },
  {
   "cell_type": "code",
   "execution_count": 35,
   "metadata": {},
   "outputs": [
    {
     "name": "stdout",
     "output_type": "stream",
     "text": [
      "Avg. orders by date: 138.5027\n"
     ]
    },
    {
     "data": {
      "image/png": "[encoded data removed]",
      "text/plain": [
       "<Figure size 1080x288 with 1 Axes>"
      ]
     },
     "metadata": {
      "needs_background": "light"
     },
     "output_type": "display_data"
    },
    {
     "name": "stdout",
     "output_type": "stream",
     "text": [
      "Avg. orders by week: 951.2264\n"
     ]
    },
    {
     "data": {
      "image/png": "[encoded data removed]",
      "text/plain": [
       "<Figure size 1080x288 with 1 Axes>"
      ]
     },
     "metadata": {
      "needs_background": "light"
     },
     "output_type": "display_data"
    },
    {
     "name": "stdout",
     "output_type": "stream",
     "text": [
      "Avg. orders by month: 3878.0769\n"
     ]
    },
    {
     "data": {
      "image/png": "[encoded data removed]",
      "text/plain": [
       "<Figure size 1080x288 with 1 Axes>"
      ]
     },
     "metadata": {
      "needs_background": "light"
     },
     "output_type": "display_data"
    }
   ],
   "source": [
    "orders['date']  = orders['buy_ts'].dt.to_period('D').dt.to_timestamp()\n",
    "orders['week']  = orders['buy_ts'].dt.to_period('W').dt.to_timestamp()\n",
    "orders['month'] = orders['buy_ts'].dt.to_period('M').dt.to_timestamp()\n",
    "\n",
    "for granularity in [\"date\", \"week\", \"month\"]:\n",
    "    tmp_data = orders.groupby(granularity)[\"uid\"].count()\n",
    "    print(f\"Avg. orders by {granularity}: {round(tmp_data.mean(), 4)}\")\n",
    "    plt.title(f\"Orders by {granularity}\")\n",
    "    tmp_data.plot(figsize=(15, 4))\n",
    "    plt.show()"
   ]
  },
  {
   "cell_type": "markdown",
   "metadata": {},
   "source": [
    "<div class=\"alert alert-block alert-danger\">\n",
    "<b>Comentario de Reviewer</b> <a class=\"tocSkip\"></a>\n",
    "\n",
    "Falta responder a la pregunta de cuántas ordenes se realizan en un periodo de tiempo. Te recomiendo calcular la cantidad de compras realizadas diariamente y mostrar ese dato en un gráfico.\n",
    "</div>"
   ]
  },
  {
   "cell_type": "markdown",
   "metadata": {},
   "source": [
    "<div class=\"alert alert-block alert-success\">\n",
    "<b>Comentario de Reviewer v2</b> <a class=\"tocSkip\"></a>\n",
    "\n",
    "Muy bien, correcto\n",
    "</div>"
   ]
  },
  {
   "cell_type": "markdown",
   "metadata": {},
   "source": [
    "#### ¿Cuál es el tamaño promedio de compra?"
   ]
  },
  {
   "cell_type": "code",
   "execution_count": 36,
   "metadata": {},
   "outputs": [
    {
     "data": {
      "text/plain": [
       "order_month\n",
       "2017-06-01    4.060106\n",
       "2017-07-01    5.306589\n",
       "2017-08-01    4.847139\n",
       "2017-09-01    5.416448\n",
       "2017-10-01    4.928280\n",
       "2017-11-01    4.783518\n",
       "2017-12-01    5.852139\n",
       "2018-01-01    4.112927\n",
       "2018-02-01    4.840095\n",
       "2018-03-01    5.413930\n",
       "2018-04-01    5.150645\n",
       "2018-05-01    4.771279\n",
       "2018-06-01    3.420000\n",
       "Name: revenue, dtype: float64"
      ]
     },
     "execution_count": 36,
     "metadata": {},
     "output_type": "execute_result"
    }
   ],
   "source": [
    "# Calcular el promedio mensual de revenue\n",
    "avg_revenue = orders.groupby('order_month')['revenue'].mean()\n",
    "avg_revenue "
   ]
  },
  {
   "cell_type": "code",
   "execution_count": 37,
   "metadata": {},
   "outputs": [
    {
     "data": {
      "image/png": "[encoded data removed]",
      "text/plain": [
       "<Figure size 720x432 with 1 Axes>"
      ]
     },
     "metadata": {
      "needs_background": "light"
     },
     "output_type": "display_data"
    }
   ],
   "source": [
    " # Crear un gráfico de línea para visualizar la variación a lo largo del tiempo\n",
    "plt.figure(figsize=(10, 6))\n",
    "avg_revenue.plot(title='Promedio Mensual de Compras', xlabel='Mes', ylabel='Promedio de Compras', grid=True)\n",
    "plt.show()"
   ]
  },
  {
   "cell_type": "markdown",
   "metadata": {},
   "source": [
    "Se observa una variación mensual en los ingresos promedio. Algunos meses tienen ingresos promedio más altos que otros. Por ejemplo, diciembre de 2017 registró el valor más alto de ingresos promedio, mientras que junio de 2018 muestra el valor más bajo."
   ]
  },
  {
   "cell_type": "markdown",
   "metadata": {},
   "source": [
    "<div class=\"alert alert-block alert-danger\">\n",
    "<b>Comentario de Reviewer</b> <a class=\"tocSkip\"></a>\n",
    "\n",
    "El resultado es incorrecto, calculaste el promedio mensual de revenue. Te recomiendo tomar el dataframe de ordenes y calcular ahí el promedio total de las ordenes. Más informativo sería agrupar por mes las ordenes y calcular el promedio mensual y mostrar en un gráfico de línea para ver cómo varia a través del tiempo.\n",
    "</div>"
   ]
  },
  {
   "cell_type": "markdown",
   "metadata": {},
   "source": [
    "<div class=\"alert alert-block alert-success\">\n",
    "<b>Comentario de Reviewer v2</b> <a class=\"tocSkip\"></a>\n",
    "\n",
    "Muy bien, correcto\n",
    "</div>"
   ]
  },
  {
   "cell_type": "markdown",
   "metadata": {},
   "source": [
    "#### ¿Cuánto dinero traen? (LTV)"
   ]
  },
  {
   "cell_type": "code",
   "execution_count": 38,
   "metadata": {},
   "outputs": [],
   "source": [
    "cohorts2 = orders1.groupby(['first_order_month','order_month']).agg({'revenue': 'sum'}).reset_index()\n",
    "cohort_sizes = (first_orders.groupby('first_order_month').agg({'uid': 'nunique'}).reset_index())\n",
    "cohort_sizes.columns = ['first_order_month', 'n_clients']\n"
   ]
  },
  {
   "cell_type": "code",
   "execution_count": 39,
   "metadata": {
    "scrolled": false
   },
   "outputs": [
    {
     "data": {
      "text/html": [
       "<div>\n",
       "<style scoped>\n",
       "    .dataframe tbody tr th:only-of-type {\n",
       "        vertical-align: middle;\n",
       "    }\n",
       "\n",
       "    .dataframe tbody tr th {\n",
       "        vertical-align: top;\n",
       "    }\n",
       "\n",
       "    .dataframe thead th {\n",
       "        text-align: right;\n",
       "    }\n",
       "</style>\n",
       "<table border=\"1\" class=\"dataframe\">\n",
       "  <thead>\n",
       "    <tr style=\"text-align: right;\">\n",
       "      <th></th>\n",
       "      <th>first_order_month</th>\n",
       "      <th>n_clients</th>\n",
       "      <th>order_month</th>\n",
       "      <th>revenue</th>\n",
       "    </tr>\n",
       "  </thead>\n",
       "  <tbody>\n",
       "    <tr>\n",
       "      <th>0</th>\n",
       "      <td>2017-06-01</td>\n",
       "      <td>2023</td>\n",
       "      <td>2017-06-01</td>\n",
       "      <td>9557.49</td>\n",
       "    </tr>\n",
       "    <tr>\n",
       "      <th>1</th>\n",
       "      <td>2017-06-01</td>\n",
       "      <td>2023</td>\n",
       "      <td>2017-07-01</td>\n",
       "      <td>981.82</td>\n",
       "    </tr>\n",
       "    <tr>\n",
       "      <th>2</th>\n",
       "      <td>2017-06-01</td>\n",
       "      <td>2023</td>\n",
       "      <td>2017-08-01</td>\n",
       "      <td>885.34</td>\n",
       "    </tr>\n",
       "    <tr>\n",
       "      <th>3</th>\n",
       "      <td>2017-06-01</td>\n",
       "      <td>2023</td>\n",
       "      <td>2017-09-01</td>\n",
       "      <td>1931.30</td>\n",
       "    </tr>\n",
       "    <tr>\n",
       "      <th>4</th>\n",
       "      <td>2017-06-01</td>\n",
       "      <td>2023</td>\n",
       "      <td>2017-10-01</td>\n",
       "      <td>2068.58</td>\n",
       "    </tr>\n",
       "  </tbody>\n",
       "</table>\n",
       "</div>"
      ],
      "text/plain": [
       "  first_order_month  n_clients order_month  revenue\n",
       "0        2017-06-01       2023  2017-06-01  9557.49\n",
       "1        2017-06-01       2023  2017-07-01   981.82\n",
       "2        2017-06-01       2023  2017-08-01   885.34\n",
       "3        2017-06-01       2023  2017-09-01  1931.30\n",
       "4        2017-06-01       2023  2017-10-01  2068.58"
      ]
     },
     "execution_count": 39,
     "metadata": {},
     "output_type": "execute_result"
    }
   ],
   "source": [
    "report = pd.merge(cohort_sizes, cohorts2, on='first_order_month')\n",
    "\n",
    "report.head()"
   ]
  },
  {
   "cell_type": "code",
   "execution_count": 40,
   "metadata": {},
   "outputs": [],
   "source": [
    "report['first_order_month'] = report['first_order_month'].astype('datetime64[ns]')\n",
    "report['gp'] = report['revenue']\n",
    "report['age'] = ((report['order_month'] - report['first_order_month']) / np.timedelta64(1, 'M')).round().astype('int')\n",
    "report['ltv'] = report['gp'] / report['n_clients']"
   ]
  },
  {
   "cell_type": "code",
   "execution_count": 41,
   "metadata": {},
   "outputs": [
    {
     "data": {
      "text/html": [
       "<div>\n",
       "<style scoped>\n",
       "    .dataframe tbody tr th:only-of-type {\n",
       "        vertical-align: middle;\n",
       "    }\n",
       "\n",
       "    .dataframe tbody tr th {\n",
       "        vertical-align: top;\n",
       "    }\n",
       "\n",
       "    .dataframe thead th {\n",
       "        text-align: right;\n",
       "    }\n",
       "</style>\n",
       "<table border=\"1\" class=\"dataframe\">\n",
       "  <thead>\n",
       "    <tr style=\"text-align: right;\">\n",
       "      <th>age</th>\n",
       "      <th>0</th>\n",
       "      <th>1</th>\n",
       "      <th>2</th>\n",
       "      <th>3</th>\n",
       "      <th>4</th>\n",
       "      <th>5</th>\n",
       "      <th>6</th>\n",
       "      <th>7</th>\n",
       "      <th>8</th>\n",
       "      <th>9</th>\n",
       "      <th>10</th>\n",
       "      <th>11</th>\n",
       "    </tr>\n",
       "    <tr>\n",
       "      <th>first_order_month</th>\n",
       "      <th></th>\n",
       "      <th></th>\n",
       "      <th></th>\n",
       "      <th></th>\n",
       "      <th></th>\n",
       "      <th></th>\n",
       "      <th></th>\n",
       "      <th></th>\n",
       "      <th></th>\n",
       "      <th></th>\n",
       "      <th></th>\n",
       "      <th></th>\n",
       "    </tr>\n",
       "  </thead>\n",
       "  <tbody>\n",
       "    <tr>\n",
       "      <th>2017-06-01</th>\n",
       "      <td>4.724414</td>\n",
       "      <td>5.209743</td>\n",
       "      <td>5.64738</td>\n",
       "      <td>6.602051</td>\n",
       "      <td>7.624582</td>\n",
       "      <td>8.360084</td>\n",
       "      <td>9.310524</td>\n",
       "      <td>9.892116</td>\n",
       "      <td>10.445329</td>\n",
       "      <td>11.051117</td>\n",
       "      <td>11.622378</td>\n",
       "      <td>11.879234</td>\n",
       "    </tr>\n",
       "    <tr>\n",
       "      <th>2017-07-01</th>\n",
       "      <td>6.010218</td>\n",
       "      <td>6.345429</td>\n",
       "      <td>6.96896</td>\n",
       "      <td>7.327936</td>\n",
       "      <td>7.504727</td>\n",
       "      <td>7.660775</td>\n",
       "      <td>7.780983</td>\n",
       "      <td>7.922803</td>\n",
       "      <td>8.084035</td>\n",
       "      <td>8.23118</td>\n",
       "      <td>8.386854</td>\n",
       "      <td></td>\n",
       "    </tr>\n",
       "    <tr>\n",
       "      <th>2017-08-01</th>\n",
       "      <td>5.276518</td>\n",
       "      <td>5.748511</td>\n",
       "      <td>6.206993</td>\n",
       "      <td>6.59827</td>\n",
       "      <td>7.092321</td>\n",
       "      <td>7.375861</td>\n",
       "      <td>7.586526</td>\n",
       "      <td>7.991533</td>\n",
       "      <td>8.283745</td>\n",
       "      <td>8.471723</td>\n",
       "      <td></td>\n",
       "      <td></td>\n",
       "    </tr>\n",
       "    <tr>\n",
       "      <th>2017-09-01</th>\n",
       "      <td>5.644529</td>\n",
       "      <td>6.762115</td>\n",
       "      <td>7.283045</td>\n",
       "      <td>11.258838</td>\n",
       "      <td>11.659396</td>\n",
       "      <td>12.306463</td>\n",
       "      <td>13.008071</td>\n",
       "      <td>13.25122</td>\n",
       "      <td>13.435227</td>\n",
       "      <td></td>\n",
       "      <td></td>\n",
       "      <td></td>\n",
       "    </tr>\n",
       "    <tr>\n",
       "      <th>2017-10-01</th>\n",
       "      <td>5.003733</td>\n",
       "      <td>5.539495</td>\n",
       "      <td>5.730889</td>\n",
       "      <td>5.888035</td>\n",
       "      <td>6.039594</td>\n",
       "      <td>6.159956</td>\n",
       "      <td>6.244772</td>\n",
       "      <td>6.360242</td>\n",
       "      <td></td>\n",
       "      <td></td>\n",
       "      <td></td>\n",
       "      <td></td>\n",
       "    </tr>\n",
       "    <tr>\n",
       "      <th>2017-11-01</th>\n",
       "      <td>5.154683</td>\n",
       "      <td>5.553916</td>\n",
       "      <td>5.753472</td>\n",
       "      <td>6.078424</td>\n",
       "      <td>6.226437</td>\n",
       "      <td>6.280316</td>\n",
       "      <td>6.395244</td>\n",
       "      <td></td>\n",
       "      <td></td>\n",
       "      <td></td>\n",
       "      <td></td>\n",
       "      <td></td>\n",
       "    </tr>\n",
       "    <tr>\n",
       "      <th>2017-12-01</th>\n",
       "      <td>4.738191</td>\n",
       "      <td>4.998565</td>\n",
       "      <td>5.923662</td>\n",
       "      <td>6.988937</td>\n",
       "      <td>7.301866</td>\n",
       "      <td>7.639913</td>\n",
       "      <td></td>\n",
       "      <td></td>\n",
       "      <td></td>\n",
       "      <td></td>\n",
       "      <td></td>\n",
       "      <td></td>\n",
       "    </tr>\n",
       "    <tr>\n",
       "      <th>2018-01-01</th>\n",
       "      <td>4.135636</td>\n",
       "      <td>4.430394</td>\n",
       "      <td>4.734675</td>\n",
       "      <td>4.877453</td>\n",
       "      <td>4.940151</td>\n",
       "      <td></td>\n",
       "      <td></td>\n",
       "      <td></td>\n",
       "      <td></td>\n",
       "      <td></td>\n",
       "      <td></td>\n",
       "      <td></td>\n",
       "    </tr>\n",
       "    <tr>\n",
       "      <th>2018-02-01</th>\n",
       "      <td>4.156987</td>\n",
       "      <td>4.435262</td>\n",
       "      <td>4.513777</td>\n",
       "      <td>4.587921</td>\n",
       "      <td></td>\n",
       "      <td></td>\n",
       "      <td></td>\n",
       "      <td></td>\n",
       "      <td></td>\n",
       "      <td></td>\n",
       "      <td></td>\n",
       "      <td></td>\n",
       "    </tr>\n",
       "    <tr>\n",
       "      <th>2018-03-01</th>\n",
       "      <td>4.838803</td>\n",
       "      <td>5.139694</td>\n",
       "      <td>5.455253</td>\n",
       "      <td></td>\n",
       "      <td></td>\n",
       "      <td></td>\n",
       "      <td></td>\n",
       "      <td></td>\n",
       "      <td></td>\n",
       "      <td></td>\n",
       "      <td></td>\n",
       "      <td></td>\n",
       "    </tr>\n",
       "    <tr>\n",
       "      <th>2018-04-01</th>\n",
       "      <td>4.657597</td>\n",
       "      <td>5.189196</td>\n",
       "      <td></td>\n",
       "      <td></td>\n",
       "      <td></td>\n",
       "      <td></td>\n",
       "      <td></td>\n",
       "      <td></td>\n",
       "      <td></td>\n",
       "      <td></td>\n",
       "      <td></td>\n",
       "      <td></td>\n",
       "    </tr>\n",
       "    <tr>\n",
       "      <th>2018-05-01</th>\n",
       "      <td>4.660562</td>\n",
       "      <td></td>\n",
       "      <td></td>\n",
       "      <td></td>\n",
       "      <td></td>\n",
       "      <td></td>\n",
       "      <td></td>\n",
       "      <td></td>\n",
       "      <td></td>\n",
       "      <td></td>\n",
       "      <td></td>\n",
       "      <td></td>\n",
       "    </tr>\n",
       "    <tr>\n",
       "      <th>2018-06-01</th>\n",
       "      <td>3.420000</td>\n",
       "      <td></td>\n",
       "      <td></td>\n",
       "      <td></td>\n",
       "      <td></td>\n",
       "      <td></td>\n",
       "      <td></td>\n",
       "      <td></td>\n",
       "      <td></td>\n",
       "      <td></td>\n",
       "      <td></td>\n",
       "      <td></td>\n",
       "    </tr>\n",
       "  </tbody>\n",
       "</table>\n",
       "</div>"
      ],
      "text/plain": [
       "age                      0         1         2          3          4   \\\n",
       "first_order_month                                                       \n",
       "2017-06-01         4.724414  5.209743   5.64738   6.602051   7.624582   \n",
       "2017-07-01         6.010218  6.345429   6.96896   7.327936   7.504727   \n",
       "2017-08-01         5.276518  5.748511  6.206993    6.59827   7.092321   \n",
       "2017-09-01         5.644529  6.762115  7.283045  11.258838  11.659396   \n",
       "2017-10-01         5.003733  5.539495  5.730889   5.888035   6.039594   \n",
       "2017-11-01         5.154683  5.553916  5.753472   6.078424   6.226437   \n",
       "2017-12-01         4.738191  4.998565  5.923662   6.988937   7.301866   \n",
       "2018-01-01         4.135636  4.430394  4.734675   4.877453   4.940151   \n",
       "2018-02-01         4.156987  4.435262  4.513777   4.587921              \n",
       "2018-03-01         4.838803  5.139694  5.455253                         \n",
       "2018-04-01         4.657597  5.189196                                   \n",
       "2018-05-01         4.660562                                             \n",
       "2018-06-01         3.420000                                             \n",
       "\n",
       "age                       5          6         7          8          9   \\\n",
       "first_order_month                                                         \n",
       "2017-06-01          8.360084   9.310524  9.892116  10.445329  11.051117   \n",
       "2017-07-01          7.660775   7.780983  7.922803   8.084035    8.23118   \n",
       "2017-08-01          7.375861   7.586526  7.991533   8.283745   8.471723   \n",
       "2017-09-01         12.306463  13.008071  13.25122  13.435227              \n",
       "2017-10-01          6.159956   6.244772  6.360242                         \n",
       "2017-11-01          6.280316   6.395244                                   \n",
       "2017-12-01          7.639913                                              \n",
       "2018-01-01                                                                \n",
       "2018-02-01                                                                \n",
       "2018-03-01                                                                \n",
       "2018-04-01                                                                \n",
       "2018-05-01                                                                \n",
       "2018-06-01                                                                \n",
       "\n",
       "age                       10         11  \n",
       "first_order_month                        \n",
       "2017-06-01         11.622378  11.879234  \n",
       "2017-07-01          8.386854             \n",
       "2017-08-01                               \n",
       "2017-09-01                               \n",
       "2017-10-01                               \n",
       "2017-11-01                               \n",
       "2017-12-01                               \n",
       "2018-01-01                               \n",
       "2018-02-01                               \n",
       "2018-03-01                               \n",
       "2018-04-01                               \n",
       "2018-05-01                               \n",
       "2018-06-01                               "
      ]
     },
     "execution_count": 41,
     "metadata": {},
     "output_type": "execute_result"
    }
   ],
   "source": [
    "result = report.pivot_table(\n",
    "    index   = 'first_order_month',\n",
    "    columns = 'age',\n",
    "    values  = 'ltv',\n",
    "    aggfunc = 'mean')\n",
    "result = result.cumsum(axis=1)\n",
    "result.fillna('')"
   ]
  },
  {
   "cell_type": "code",
   "execution_count": 42,
   "metadata": {},
   "outputs": [
    {
     "data": {
      "image/png": "[encoded data removed]",
      "text/plain": [
       "<Figure size 1008x576 with 2 Axes>"
      ]
     },
     "metadata": {
      "needs_background": "light"
     },
     "output_type": "display_data"
    }
   ],
   "source": [
    "\n",
    "result.index = pd.to_datetime(result.index).strftime('%Y-%m-%d')\n",
    "\n",
    "plt.figure(figsize=(14, 8))\n",
    "sns.heatmap(result, annot=True, fmt='.2f', cmap='plasma')\n",
    "plt.title('LTV')\n",
    "plt.xlabel('Edad')\n",
    "plt.ylabel('first_order_month')\n",
    "plt.show()"
   ]
  },
  {
   "cell_type": "markdown",
   "metadata": {},
   "source": [
    "Se observa que el LTV tiende a aumentar a medida que el tiempo aumenta. Las cohortes iniciales (por ejemplo, junio de 2017) comienzan con un LTV más bajo (edad 0), que aumenta con el tiempo (por ejemplo, a 6, 9, 12 meses)\n",
    "n la cohorte que comienza en septiembre de 2017, se observa un patrón particular en el LTV a lo largo del tiempo desde la primera compra:\n",
    "\n",
    "El Cohorte de 2017-09-01 por ejemplo, muestra un aumento significativo durante los primeros meses desde la primera compra. Comienza en 5.64 (a la primera compra) y experimenta un crecimiento notorio en los primeros tres meses, alcanzando un valor de 11.26. Esto indica que estos clientes específicos están generando más ingresos durante los primeros tres meses,"
   ]
  },
  {
   "cell_type": "markdown",
   "metadata": {},
   "source": [
    "<div class=\"alert alert-block alert-success\">\n",
    "<b>Comentario de Reviewer</b> <a class=\"tocSkip\"></a>\n",
    "\n",
    "Muy bien! El mapa de calor del LTV es correcto y está muy bien detallado.\n",
    "</div>"
   ]
  },
  {
   "cell_type": "markdown",
   "metadata": {},
   "source": [
    "<div class=\"alert alert-block alert-danger\">\n",
    "<b>Comentario de Reviewer</b> <a class=\"tocSkip\"></a>\n",
    "\n",
    "Por favor incluye alguna interpretación de la tabla de LTV\n",
    "</div>"
   ]
  },
  {
   "cell_type": "markdown",
   "metadata": {},
   "source": [
    "<div class=\"alert alert-block alert-success\">\n",
    "<b>Comentario de Reviewer v2</b> <a class=\"tocSkip\"></a>\n",
    "\n",
    "Muy bien, correcto! \n",
    "</div>"
   ]
  },
  {
   "cell_type": "markdown",
   "metadata": {},
   "source": [
    "### Marketing\n",
    "\n",
    "Realizaré un análisis sobre cuánto dinero se gastó, cuánto costó la adquisición de clientes por fuente y cuán rentables fueron las inversione."
   ]
  },
  {
   "cell_type": "code",
   "execution_count": 43,
   "metadata": {},
   "outputs": [
    {
     "name": "stdout",
     "output_type": "stream",
     "text": [
      "<class 'pandas.core.frame.DataFrame'>\n",
      "RangeIndex: 2542 entries, 0 to 2541\n",
      "Data columns (total 4 columns):\n",
      " #   Column     Non-Null Count  Dtype         \n",
      "---  ------     --------------  -----         \n",
      " 0   source_id  2542 non-null   int64         \n",
      " 1   dt         2542 non-null   datetime64[ns]\n",
      " 2   costs      2542 non-null   float64       \n",
      " 3   month      2542 non-null   datetime64[ns]\n",
      "dtypes: datetime64[ns](2), float64(1), int64(1)\n",
      "memory usage: 79.6 KB\n"
     ]
    },
    {
     "data": {
      "text/html": [
       "<div>\n",
       "<style scoped>\n",
       "    .dataframe tbody tr th:only-of-type {\n",
       "        vertical-align: middle;\n",
       "    }\n",
       "\n",
       "    .dataframe tbody tr th {\n",
       "        vertical-align: top;\n",
       "    }\n",
       "\n",
       "    .dataframe thead th {\n",
       "        text-align: right;\n",
       "    }\n",
       "</style>\n",
       "<table border=\"1\" class=\"dataframe\">\n",
       "  <thead>\n",
       "    <tr style=\"text-align: right;\">\n",
       "      <th></th>\n",
       "      <th>source_id</th>\n",
       "      <th>costs</th>\n",
       "    </tr>\n",
       "  </thead>\n",
       "  <tbody>\n",
       "    <tr>\n",
       "      <th>count</th>\n",
       "      <td>2542.000000</td>\n",
       "      <td>2542.000000</td>\n",
       "    </tr>\n",
       "    <tr>\n",
       "      <th>mean</th>\n",
       "      <td>4.857199</td>\n",
       "      <td>129.477427</td>\n",
       "    </tr>\n",
       "    <tr>\n",
       "      <th>std</th>\n",
       "      <td>3.181581</td>\n",
       "      <td>156.296628</td>\n",
       "    </tr>\n",
       "    <tr>\n",
       "      <th>min</th>\n",
       "      <td>1.000000</td>\n",
       "      <td>0.540000</td>\n",
       "    </tr>\n",
       "    <tr>\n",
       "      <th>25%</th>\n",
       "      <td>2.000000</td>\n",
       "      <td>21.945000</td>\n",
       "    </tr>\n",
       "    <tr>\n",
       "      <th>50%</th>\n",
       "      <td>4.000000</td>\n",
       "      <td>77.295000</td>\n",
       "    </tr>\n",
       "    <tr>\n",
       "      <th>75%</th>\n",
       "      <td>9.000000</td>\n",
       "      <td>170.065000</td>\n",
       "    </tr>\n",
       "    <tr>\n",
       "      <th>max</th>\n",
       "      <td>10.000000</td>\n",
       "      <td>1788.280000</td>\n",
       "    </tr>\n",
       "  </tbody>\n",
       "</table>\n",
       "</div>"
      ],
      "text/plain": [
       "         source_id        costs\n",
       "count  2542.000000  2542.000000\n",
       "mean      4.857199   129.477427\n",
       "std       3.181581   156.296628\n",
       "min       1.000000     0.540000\n",
       "25%       2.000000    21.945000\n",
       "50%       4.000000    77.295000\n",
       "75%       9.000000   170.065000\n",
       "max      10.000000  1788.280000"
      ]
     },
     "metadata": {},
     "output_type": "display_data"
    }
   ],
   "source": [
    "costs.info()\n",
    "display(costs.describe())"
   ]
  },
  {
   "cell_type": "code",
   "execution_count": 44,
   "metadata": {},
   "outputs": [
    {
     "data": {
      "image/png": "[encoded data removed]",
      "text/plain": [
       "<Figure size 720x288 with 1 Axes>"
      ]
     },
     "metadata": {
      "needs_background": "light"
     },
     "output_type": "display_data"
    }
   ],
   "source": [
    "costs[\"month\"] = costs[\"dt\"].dt.to_period('M').dt.to_timestamp()\n",
    "\n",
    "costs.pivot_table(\n",
    "    index=\"month\",\n",
    "    columns=\"source_id\",\n",
    "    values=\"costs\",\n",
    "    aggfunc=\"sum\"\n",
    ").fillna(0).plot(kind=\"line\", figsize=(10, 4))\n",
    "plt.show()\n"
   ]
  },
  {
   "cell_type": "code",
   "execution_count": 45,
   "metadata": {},
   "outputs": [
    {
     "data": {
      "text/plain": [
       "month\n",
       "2017-06-01    18015.00\n",
       "2017-07-01    18240.59\n",
       "2017-08-01    14790.54\n",
       "2017-09-01    24368.91\n",
       "2017-10-01    36322.88\n",
       "Name: costs, dtype: float64"
      ]
     },
     "execution_count": 45,
     "metadata": {},
     "output_type": "execute_result"
    }
   ],
   "source": [
    "monthly_costs = costs.groupby('month')['costs'].sum()\n",
    "monthly_costs.head()"
   ]
  },
  {
   "cell_type": "markdown",
   "metadata": {},
   "source": [
    "Observamos. los costos totales para cada mes, indicando la cantidad gastada en fuentes de anuncios para cada mes durante un período de tiempo específico. Cada fila refleja el gasto en publicidad para un mes particular a lo largo de diferentes años.\n",
    "\n",
    "Por ejemplo, el mes de junio de 2017 tuvo un gasto de 18,015.00, julio de 2017 con 18,240.59, agosto de 2017 con 14,790.54, septiembre de 2017 con 24,368.91 y octubre de 2017 con 36,322.88. "
   ]
  },
  {
   "cell_type": "markdown",
   "metadata": {},
   "source": [
    "<div class=\"alert alert-block alert-success\">\n",
    "<b>Comentario de Reviewer</b> <a class=\"tocSkip\"></a>\n",
    "\n",
    "Correcto!\n",
    "</div>"
   ]
  },
  {
   "cell_type": "markdown",
   "metadata": {},
   "source": [
    "#### Agreguemos los datos sobre los costos al informe y calculemos el CAC"
   ]
  },
  {
   "cell_type": "code",
   "execution_count": 46,
   "metadata": {},
   "outputs": [
    {
     "data": {
      "text/html": [
       "<div>\n",
       "<style scoped>\n",
       "    .dataframe tbody tr th:only-of-type {\n",
       "        vertical-align: middle;\n",
       "    }\n",
       "\n",
       "    .dataframe tbody tr th {\n",
       "        vertical-align: top;\n",
       "    }\n",
       "\n",
       "    .dataframe thead th {\n",
       "        text-align: right;\n",
       "    }\n",
       "</style>\n",
       "<table border=\"1\" class=\"dataframe\">\n",
       "  <thead>\n",
       "    <tr style=\"text-align: right;\">\n",
       "      <th></th>\n",
       "      <th>first_order_month</th>\n",
       "      <th>n_clients</th>\n",
       "      <th>order_month</th>\n",
       "      <th>revenue</th>\n",
       "      <th>gp</th>\n",
       "      <th>age</th>\n",
       "      <th>ltv</th>\n",
       "      <th>costs</th>\n",
       "      <th>cac_monthly</th>\n",
       "    </tr>\n",
       "  </thead>\n",
       "  <tbody>\n",
       "    <tr>\n",
       "      <th>0</th>\n",
       "      <td>2017-06-01</td>\n",
       "      <td>2023</td>\n",
       "      <td>2017-06-01</td>\n",
       "      <td>9557.49</td>\n",
       "      <td>9557.49</td>\n",
       "      <td>0</td>\n",
       "      <td>4.724414</td>\n",
       "      <td>18015.0</td>\n",
       "      <td>8.905091</td>\n",
       "    </tr>\n",
       "    <tr>\n",
       "      <th>1</th>\n",
       "      <td>2017-06-01</td>\n",
       "      <td>2023</td>\n",
       "      <td>2017-07-01</td>\n",
       "      <td>981.82</td>\n",
       "      <td>981.82</td>\n",
       "      <td>1</td>\n",
       "      <td>0.485329</td>\n",
       "      <td>18015.0</td>\n",
       "      <td>8.905091</td>\n",
       "    </tr>\n",
       "    <tr>\n",
       "      <th>2</th>\n",
       "      <td>2017-06-01</td>\n",
       "      <td>2023</td>\n",
       "      <td>2017-08-01</td>\n",
       "      <td>885.34</td>\n",
       "      <td>885.34</td>\n",
       "      <td>2</td>\n",
       "      <td>0.437637</td>\n",
       "      <td>18015.0</td>\n",
       "      <td>8.905091</td>\n",
       "    </tr>\n",
       "    <tr>\n",
       "      <th>3</th>\n",
       "      <td>2017-06-01</td>\n",
       "      <td>2023</td>\n",
       "      <td>2017-09-01</td>\n",
       "      <td>1931.30</td>\n",
       "      <td>1931.30</td>\n",
       "      <td>3</td>\n",
       "      <td>0.954671</td>\n",
       "      <td>18015.0</td>\n",
       "      <td>8.905091</td>\n",
       "    </tr>\n",
       "    <tr>\n",
       "      <th>4</th>\n",
       "      <td>2017-06-01</td>\n",
       "      <td>2023</td>\n",
       "      <td>2017-10-01</td>\n",
       "      <td>2068.58</td>\n",
       "      <td>2068.58</td>\n",
       "      <td>4</td>\n",
       "      <td>1.022531</td>\n",
       "      <td>18015.0</td>\n",
       "      <td>8.905091</td>\n",
       "    </tr>\n",
       "  </tbody>\n",
       "</table>\n",
       "</div>"
      ],
      "text/plain": [
       "  first_order_month  n_clients order_month  revenue       gp  age       ltv  \\\n",
       "0        2017-06-01       2023  2017-06-01  9557.49  9557.49    0  4.724414   \n",
       "1        2017-06-01       2023  2017-07-01   981.82   981.82    1  0.485329   \n",
       "2        2017-06-01       2023  2017-08-01   885.34   885.34    2  0.437637   \n",
       "3        2017-06-01       2023  2017-09-01  1931.30  1931.30    3  0.954671   \n",
       "4        2017-06-01       2023  2017-10-01  2068.58  2068.58    4  1.022531   \n",
       "\n",
       "     costs  cac_monthly  \n",
       "0  18015.0     8.905091  \n",
       "1  18015.0     8.905091  \n",
       "2  18015.0     8.905091  \n",
       "3  18015.0     8.905091  \n",
       "4  18015.0     8.905091  "
      ]
     },
     "execution_count": 46,
     "metadata": {},
     "output_type": "execute_result"
    }
   ],
   "source": [
    "report1 = pd.merge(report, monthly_costs, left_on='first_order_month', right_on='month')\n",
    "report1['cac_monthly'] = report1['costs'] / report1['n_clients']\n",
    "report1.head() "
   ]
  },
  {
   "cell_type": "markdown",
   "metadata": {},
   "source": [
    "<div class=\"alert alert-block alert-success\">\n",
    "<b>Comentario de Reviewer</b> <a class=\"tocSkip\"></a>\n",
    "\n",
    "Correcto, el cac calculado es una especie de promedio mensual, puesto que no considera la fuente por la que ocurren los gastos. Para el cálculo del romi será necesario hacer esta diferencia.\n",
    "</div>"
   ]
  },
  {
   "cell_type": "code",
   "execution_count": 47,
   "metadata": {},
   "outputs": [
    {
     "data": {
      "text/html": [
       "<div>\n",
       "<style scoped>\n",
       "    .dataframe tbody tr th:only-of-type {\n",
       "        vertical-align: middle;\n",
       "    }\n",
       "\n",
       "    .dataframe tbody tr th {\n",
       "        vertical-align: top;\n",
       "    }\n",
       "\n",
       "    .dataframe thead th {\n",
       "        text-align: right;\n",
       "    }\n",
       "</style>\n",
       "<table border=\"1\" class=\"dataframe\">\n",
       "  <thead>\n",
       "    <tr style=\"text-align: right;\">\n",
       "      <th></th>\n",
       "      <th>source_id</th>\n",
       "      <th>month</th>\n",
       "      <th>source_cost</th>\n",
       "    </tr>\n",
       "  </thead>\n",
       "  <tbody>\n",
       "    <tr>\n",
       "      <th>0</th>\n",
       "      <td>1</td>\n",
       "      <td>2017-06-01</td>\n",
       "      <td>1125.61</td>\n",
       "    </tr>\n",
       "    <tr>\n",
       "      <th>1</th>\n",
       "      <td>1</td>\n",
       "      <td>2017-07-01</td>\n",
       "      <td>1072.88</td>\n",
       "    </tr>\n",
       "    <tr>\n",
       "      <th>2</th>\n",
       "      <td>1</td>\n",
       "      <td>2017-08-01</td>\n",
       "      <td>951.81</td>\n",
       "    </tr>\n",
       "    <tr>\n",
       "      <th>3</th>\n",
       "      <td>1</td>\n",
       "      <td>2017-09-01</td>\n",
       "      <td>1502.01</td>\n",
       "    </tr>\n",
       "    <tr>\n",
       "      <th>4</th>\n",
       "      <td>1</td>\n",
       "      <td>2017-10-01</td>\n",
       "      <td>2315.75</td>\n",
       "    </tr>\n",
       "    <tr>\n",
       "      <th>...</th>\n",
       "      <td>...</td>\n",
       "      <td>...</td>\n",
       "      <td>...</td>\n",
       "    </tr>\n",
       "    <tr>\n",
       "      <th>79</th>\n",
       "      <td>10</td>\n",
       "      <td>2018-01-01</td>\n",
       "      <td>614.35</td>\n",
       "    </tr>\n",
       "    <tr>\n",
       "      <th>80</th>\n",
       "      <td>10</td>\n",
       "      <td>2018-02-01</td>\n",
       "      <td>480.88</td>\n",
       "    </tr>\n",
       "    <tr>\n",
       "      <th>81</th>\n",
       "      <td>10</td>\n",
       "      <td>2018-03-01</td>\n",
       "      <td>526.41</td>\n",
       "    </tr>\n",
       "    <tr>\n",
       "      <th>82</th>\n",
       "      <td>10</td>\n",
       "      <td>2018-04-01</td>\n",
       "      <td>388.25</td>\n",
       "    </tr>\n",
       "    <tr>\n",
       "      <th>83</th>\n",
       "      <td>10</td>\n",
       "      <td>2018-05-01</td>\n",
       "      <td>409.86</td>\n",
       "    </tr>\n",
       "  </tbody>\n",
       "</table>\n",
       "<p>84 rows × 3 columns</p>\n",
       "</div>"
      ],
      "text/plain": [
       "    source_id      month  source_cost\n",
       "0           1 2017-06-01      1125.61\n",
       "1           1 2017-07-01      1072.88\n",
       "2           1 2017-08-01       951.81\n",
       "3           1 2017-09-01      1502.01\n",
       "4           1 2017-10-01      2315.75\n",
       "..        ...        ...          ...\n",
       "79         10 2018-01-01       614.35\n",
       "80         10 2018-02-01       480.88\n",
       "81         10 2018-03-01       526.41\n",
       "82         10 2018-04-01       388.25\n",
       "83         10 2018-05-01       409.86\n",
       "\n",
       "[84 rows x 3 columns]"
      ]
     },
     "execution_count": 47,
     "metadata": {},
     "output_type": "execute_result"
    }
   ],
   "source": [
    "# Costos por fuente y mes\n",
    "source_cost = costs.groupby(['source_id', 'month'])['costs'].sum().reset_index()\n",
    "source_cost = source_cost.rename(columns={'costs': 'source_cost'})\n",
    "source_cost"
   ]
  },
  {
   "cell_type": "markdown",
   "metadata": {},
   "source": [
    "<div class=\"alert alert-block alert-danger\">\n",
    "<b>Comentario de Reviewer v2</b> <a class=\"tocSkip\"></a>\n",
    "\n",
    "Esto va por buen camino, pero el resultado es incorrecto en esta parte puesto que los costos hay que unirlos no solo por mes sino que por fecha y fuente, más adelante te muestro cómo calcularlo correctamente.\n",
    "\n",
    "</div>"
   ]
  },
  {
   "cell_type": "code",
   "execution_count": 48,
   "metadata": {},
   "outputs": [
    {
     "data": {
      "text/html": [
       "<div>\n",
       "<style scoped>\n",
       "    .dataframe tbody tr th:only-of-type {\n",
       "        vertical-align: middle;\n",
       "    }\n",
       "\n",
       "    .dataframe tbody tr th {\n",
       "        vertical-align: top;\n",
       "    }\n",
       "\n",
       "    .dataframe thead th {\n",
       "        text-align: right;\n",
       "    }\n",
       "</style>\n",
       "<table border=\"1\" class=\"dataframe\">\n",
       "  <thead>\n",
       "    <tr style=\"text-align: right;\">\n",
       "      <th></th>\n",
       "      <th>date</th>\n",
       "      <th>source_id</th>\n",
       "      <th>source_cost</th>\n",
       "    </tr>\n",
       "  </thead>\n",
       "  <tbody>\n",
       "    <tr>\n",
       "      <th>0</th>\n",
       "      <td>2017-06-01</td>\n",
       "      <td>1</td>\n",
       "      <td>75.20</td>\n",
       "    </tr>\n",
       "    <tr>\n",
       "      <th>1</th>\n",
       "      <td>2017-06-01</td>\n",
       "      <td>2</td>\n",
       "      <td>132.56</td>\n",
       "    </tr>\n",
       "    <tr>\n",
       "      <th>2</th>\n",
       "      <td>2017-06-01</td>\n",
       "      <td>3</td>\n",
       "      <td>349.38</td>\n",
       "    </tr>\n",
       "    <tr>\n",
       "      <th>3</th>\n",
       "      <td>2017-06-01</td>\n",
       "      <td>4</td>\n",
       "      <td>76.74</td>\n",
       "    </tr>\n",
       "    <tr>\n",
       "      <th>4</th>\n",
       "      <td>2017-06-01</td>\n",
       "      <td>5</td>\n",
       "      <td>73.24</td>\n",
       "    </tr>\n",
       "    <tr>\n",
       "      <th>...</th>\n",
       "      <td>...</td>\n",
       "      <td>...</td>\n",
       "      <td>...</td>\n",
       "    </tr>\n",
       "    <tr>\n",
       "      <th>2537</th>\n",
       "      <td>2018-05-31</td>\n",
       "      <td>3</td>\n",
       "      <td>822.30</td>\n",
       "    </tr>\n",
       "    <tr>\n",
       "      <th>2538</th>\n",
       "      <td>2018-05-31</td>\n",
       "      <td>4</td>\n",
       "      <td>492.54</td>\n",
       "    </tr>\n",
       "    <tr>\n",
       "      <th>2539</th>\n",
       "      <td>2018-05-31</td>\n",
       "      <td>5</td>\n",
       "      <td>398.04</td>\n",
       "    </tr>\n",
       "    <tr>\n",
       "      <th>2540</th>\n",
       "      <td>2018-05-31</td>\n",
       "      <td>9</td>\n",
       "      <td>27.37</td>\n",
       "    </tr>\n",
       "    <tr>\n",
       "      <th>2541</th>\n",
       "      <td>2018-05-31</td>\n",
       "      <td>10</td>\n",
       "      <td>17.60</td>\n",
       "    </tr>\n",
       "  </tbody>\n",
       "</table>\n",
       "<p>2542 rows × 3 columns</p>\n",
       "</div>"
      ],
      "text/plain": [
       "           date  source_id  source_cost\n",
       "0    2017-06-01          1        75.20\n",
       "1    2017-06-01          2       132.56\n",
       "2    2017-06-01          3       349.38\n",
       "3    2017-06-01          4        76.74\n",
       "4    2017-06-01          5        73.24\n",
       "...         ...        ...          ...\n",
       "2537 2018-05-31          3       822.30\n",
       "2538 2018-05-31          4       492.54\n",
       "2539 2018-05-31          5       398.04\n",
       "2540 2018-05-31          9        27.37\n",
       "2541 2018-05-31         10        17.60\n",
       "\n",
       "[2542 rows x 3 columns]"
      ]
     },
     "execution_count": 48,
     "metadata": {},
     "output_type": "execute_result"
    }
   ],
   "source": [
    "# Calcula el gasto total por fuente y día\n",
    "costs_by_source_date = costs.groupby(['dt', 'source_id'])['costs'].sum().reset_index()\n",
    "costs_by_source_date = costs_by_source_date.rename(columns={'costs': 'source_cost','dt':'date'})\n",
    "costs_by_source_date"
   ]
  },
  {
   "cell_type": "markdown",
   "metadata": {},
   "source": [
    "<div class=\"alert alert-block alert-warning\">\n",
    "<b>Comentario de Reviewer v3</b> <a class=\"tocSkip\"></a>\n",
    "\n",
    "Tuve que editar un poco esta celda, había un error\n",
    "\n",
    "</div>"
   ]
  },
  {
   "cell_type": "markdown",
   "metadata": {},
   "source": [
    "<div class=\"alert alert-block alert-danger\">\n",
    "<b>Comentario de Reviewer</b> <a class=\"tocSkip\"></a>\n",
    "\n",
    "Calcula un cac diario y por fuente, es similar lo realizado anteriormente pero debes agrupar por día y fuente en los costos y en las ordenes.\n",
    "</div>"
   ]
  },
  {
   "cell_type": "markdown",
   "metadata": {},
   "source": [
    "<div class=\"alert alert-block alert-danger\">\n",
    "<b>Comentario de Reviewer v2</b> <a class=\"tocSkip\"></a>\n",
    "\n",
    "Lo que falta es tener un dataframe con las ordenes y los detalles de la primera fuente y compra de cada usuario, te indico como calcular esto y agregarlo:\n",
    "</div>"
   ]
  },
  {
   "cell_type": "code",
   "execution_count": 49,
   "metadata": {},
   "outputs": [
    {
     "data": {
      "text/html": [
       "<div>\n",
       "<style scoped>\n",
       "    .dataframe tbody tr th:only-of-type {\n",
       "        vertical-align: middle;\n",
       "    }\n",
       "\n",
       "    .dataframe tbody tr th {\n",
       "        vertical-align: top;\n",
       "    }\n",
       "\n",
       "    .dataframe thead th {\n",
       "        text-align: right;\n",
       "    }\n",
       "</style>\n",
       "<table border=\"1\" class=\"dataframe\">\n",
       "  <thead>\n",
       "    <tr style=\"text-align: right;\">\n",
       "      <th></th>\n",
       "      <th>uid</th>\n",
       "      <th>first_order_month</th>\n",
       "    </tr>\n",
       "  </thead>\n",
       "  <tbody>\n",
       "    <tr>\n",
       "      <th>0</th>\n",
       "      <td>313578113262317</td>\n",
       "      <td>2018-01-01</td>\n",
       "    </tr>\n",
       "    <tr>\n",
       "      <th>1</th>\n",
       "      <td>1575281904278712</td>\n",
       "      <td>2017-06-01</td>\n",
       "    </tr>\n",
       "    <tr>\n",
       "      <th>2</th>\n",
       "      <td>2429014661409475</td>\n",
       "      <td>2017-10-01</td>\n",
       "    </tr>\n",
       "    <tr>\n",
       "      <th>3</th>\n",
       "      <td>2464366381792757</td>\n",
       "      <td>2018-01-01</td>\n",
       "    </tr>\n",
       "    <tr>\n",
       "      <th>4</th>\n",
       "      <td>2551852515556206</td>\n",
       "      <td>2017-11-01</td>\n",
       "    </tr>\n",
       "    <tr>\n",
       "      <th>...</th>\n",
       "      <td>...</td>\n",
       "      <td>...</td>\n",
       "    </tr>\n",
       "    <tr>\n",
       "      <th>36518</th>\n",
       "      <td>18445147675727495770</td>\n",
       "      <td>2017-11-01</td>\n",
       "    </tr>\n",
       "    <tr>\n",
       "      <th>36519</th>\n",
       "      <td>18445407535914413204</td>\n",
       "      <td>2017-09-01</td>\n",
       "    </tr>\n",
       "    <tr>\n",
       "      <th>36520</th>\n",
       "      <td>18445601152732270159</td>\n",
       "      <td>2018-03-01</td>\n",
       "    </tr>\n",
       "    <tr>\n",
       "      <th>36521</th>\n",
       "      <td>18446156210226471712</td>\n",
       "      <td>2018-02-01</td>\n",
       "    </tr>\n",
       "    <tr>\n",
       "      <th>36522</th>\n",
       "      <td>18446167067214817906</td>\n",
       "      <td>2017-10-01</td>\n",
       "    </tr>\n",
       "  </tbody>\n",
       "</table>\n",
       "<p>36523 rows × 2 columns</p>\n",
       "</div>"
      ],
      "text/plain": [
       "                        uid first_order_month\n",
       "0           313578113262317        2018-01-01\n",
       "1          1575281904278712        2017-06-01\n",
       "2          2429014661409475        2017-10-01\n",
       "3          2464366381792757        2018-01-01\n",
       "4          2551852515556206        2017-11-01\n",
       "...                     ...               ...\n",
       "36518  18445147675727495770        2017-11-01\n",
       "36519  18445407535914413204        2017-09-01\n",
       "36520  18445601152732270159        2018-03-01\n",
       "36521  18446156210226471712        2018-02-01\n",
       "36522  18446167067214817906        2017-10-01\n",
       "\n",
       "[36523 rows x 2 columns]"
      ]
     },
     "execution_count": 49,
     "metadata": {},
     "output_type": "execute_result"
    }
   ],
   "source": [
    "#CÓDIGO REVISOR\n",
    "users_first_order = (\n",
    "    orders\n",
    "    .sort_values('buy_ts')\n",
    "    .groupby('uid')\n",
    "    .first()\n",
    "    .reset_index()[['uid','order_month']]\n",
    "    .rename(columns={'order_month':'first_order_month'})\n",
    ")\n",
    "users_first_order"
   ]
  },
  {
   "cell_type": "code",
   "execution_count": 50,
   "metadata": {},
   "outputs": [
    {
     "data": {
      "text/html": [
       "<div>\n",
       "<style scoped>\n",
       "    .dataframe tbody tr th:only-of-type {\n",
       "        vertical-align: middle;\n",
       "    }\n",
       "\n",
       "    .dataframe tbody tr th {\n",
       "        vertical-align: top;\n",
       "    }\n",
       "\n",
       "    .dataframe thead th {\n",
       "        text-align: right;\n",
       "    }\n",
       "</style>\n",
       "<table border=\"1\" class=\"dataframe\">\n",
       "  <thead>\n",
       "    <tr style=\"text-align: right;\">\n",
       "      <th></th>\n",
       "      <th>uid</th>\n",
       "      <th>source_id</th>\n",
       "    </tr>\n",
       "  </thead>\n",
       "  <tbody>\n",
       "    <tr>\n",
       "      <th>0</th>\n",
       "      <td>11863502262781</td>\n",
       "      <td>3</td>\n",
       "    </tr>\n",
       "    <tr>\n",
       "      <th>1</th>\n",
       "      <td>49537067089222</td>\n",
       "      <td>2</td>\n",
       "    </tr>\n",
       "    <tr>\n",
       "      <th>2</th>\n",
       "      <td>297729379853735</td>\n",
       "      <td>3</td>\n",
       "    </tr>\n",
       "    <tr>\n",
       "      <th>3</th>\n",
       "      <td>313578113262317</td>\n",
       "      <td>2</td>\n",
       "    </tr>\n",
       "    <tr>\n",
       "      <th>4</th>\n",
       "      <td>325320750514679</td>\n",
       "      <td>5</td>\n",
       "    </tr>\n",
       "    <tr>\n",
       "      <th>...</th>\n",
       "      <td>...</td>\n",
       "      <td>...</td>\n",
       "    </tr>\n",
       "    <tr>\n",
       "      <th>228164</th>\n",
       "      <td>18446403737806311543</td>\n",
       "      <td>5</td>\n",
       "    </tr>\n",
       "    <tr>\n",
       "      <th>228165</th>\n",
       "      <td>18446424184725333426</td>\n",
       "      <td>4</td>\n",
       "    </tr>\n",
       "    <tr>\n",
       "      <th>228166</th>\n",
       "      <td>18446556406699109058</td>\n",
       "      <td>3</td>\n",
       "    </tr>\n",
       "    <tr>\n",
       "      <th>228167</th>\n",
       "      <td>18446621818809592527</td>\n",
       "      <td>4</td>\n",
       "    </tr>\n",
       "    <tr>\n",
       "      <th>228168</th>\n",
       "      <td>18446676030785672386</td>\n",
       "      <td>3</td>\n",
       "    </tr>\n",
       "  </tbody>\n",
       "</table>\n",
       "<p>228169 rows × 2 columns</p>\n",
       "</div>"
      ],
      "text/plain": [
       "                         uid  source_id\n",
       "0             11863502262781          3\n",
       "1             49537067089222          2\n",
       "2            297729379853735          3\n",
       "3            313578113262317          2\n",
       "4            325320750514679          5\n",
       "...                      ...        ...\n",
       "228164  18446403737806311543          5\n",
       "228165  18446424184725333426          4\n",
       "228166  18446556406699109058          3\n",
       "228167  18446621818809592527          4\n",
       "228168  18446676030785672386          3\n",
       "\n",
       "[228169 rows x 2 columns]"
      ]
     },
     "execution_count": 50,
     "metadata": {},
     "output_type": "execute_result"
    }
   ],
   "source": [
    "#CÓDIGO REVISOR\n",
    "users_first_visit = (\n",
    "    visits\n",
    "    .sort_values('start_ts')\n",
    "    .groupby('uid')\n",
    "    .first()\n",
    "    .reset_index()[['uid','source_id']]\n",
    ")\n",
    "users_first_visit"
   ]
  },
  {
   "cell_type": "code",
   "execution_count": 51,
   "metadata": {},
   "outputs": [
    {
     "data": {
      "text/html": [
       "<div>\n",
       "<style scoped>\n",
       "    .dataframe tbody tr th:only-of-type {\n",
       "        vertical-align: middle;\n",
       "    }\n",
       "\n",
       "    .dataframe tbody tr th {\n",
       "        vertical-align: top;\n",
       "    }\n",
       "\n",
       "    .dataframe thead th {\n",
       "        text-align: right;\n",
       "    }\n",
       "</style>\n",
       "<table border=\"1\" class=\"dataframe\">\n",
       "  <thead>\n",
       "    <tr style=\"text-align: right;\">\n",
       "      <th></th>\n",
       "      <th>uid</th>\n",
       "      <th>first_order_month</th>\n",
       "      <th>source_id</th>\n",
       "    </tr>\n",
       "  </thead>\n",
       "  <tbody>\n",
       "    <tr>\n",
       "      <th>0</th>\n",
       "      <td>313578113262317</td>\n",
       "      <td>2018-01-01</td>\n",
       "      <td>2</td>\n",
       "    </tr>\n",
       "    <tr>\n",
       "      <th>1</th>\n",
       "      <td>1575281904278712</td>\n",
       "      <td>2017-06-01</td>\n",
       "      <td>10</td>\n",
       "    </tr>\n",
       "    <tr>\n",
       "      <th>2</th>\n",
       "      <td>2429014661409475</td>\n",
       "      <td>2017-10-01</td>\n",
       "      <td>3</td>\n",
       "    </tr>\n",
       "    <tr>\n",
       "      <th>3</th>\n",
       "      <td>2464366381792757</td>\n",
       "      <td>2018-01-01</td>\n",
       "      <td>5</td>\n",
       "    </tr>\n",
       "    <tr>\n",
       "      <th>4</th>\n",
       "      <td>2551852515556206</td>\n",
       "      <td>2017-11-01</td>\n",
       "      <td>5</td>\n",
       "    </tr>\n",
       "    <tr>\n",
       "      <th>...</th>\n",
       "      <td>...</td>\n",
       "      <td>...</td>\n",
       "      <td>...</td>\n",
       "    </tr>\n",
       "    <tr>\n",
       "      <th>36518</th>\n",
       "      <td>18445147675727495770</td>\n",
       "      <td>2017-11-01</td>\n",
       "      <td>5</td>\n",
       "    </tr>\n",
       "    <tr>\n",
       "      <th>36519</th>\n",
       "      <td>18445407535914413204</td>\n",
       "      <td>2017-09-01</td>\n",
       "      <td>3</td>\n",
       "    </tr>\n",
       "    <tr>\n",
       "      <th>36520</th>\n",
       "      <td>18445601152732270159</td>\n",
       "      <td>2018-03-01</td>\n",
       "      <td>2</td>\n",
       "    </tr>\n",
       "    <tr>\n",
       "      <th>36521</th>\n",
       "      <td>18446156210226471712</td>\n",
       "      <td>2018-02-01</td>\n",
       "      <td>3</td>\n",
       "    </tr>\n",
       "    <tr>\n",
       "      <th>36522</th>\n",
       "      <td>18446167067214817906</td>\n",
       "      <td>2017-10-01</td>\n",
       "      <td>5</td>\n",
       "    </tr>\n",
       "  </tbody>\n",
       "</table>\n",
       "<p>36523 rows × 3 columns</p>\n",
       "</div>"
      ],
      "text/plain": [
       "                        uid first_order_month  source_id\n",
       "0           313578113262317        2018-01-01          2\n",
       "1          1575281904278712        2017-06-01         10\n",
       "2          2429014661409475        2017-10-01          3\n",
       "3          2464366381792757        2018-01-01          5\n",
       "4          2551852515556206        2017-11-01          5\n",
       "...                     ...               ...        ...\n",
       "36518  18445147675727495770        2017-11-01          5\n",
       "36519  18445407535914413204        2017-09-01          3\n",
       "36520  18445601152732270159        2018-03-01          2\n",
       "36521  18446156210226471712        2018-02-01          3\n",
       "36522  18446167067214817906        2017-10-01          5\n",
       "\n",
       "[36523 rows x 3 columns]"
      ]
     },
     "execution_count": 51,
     "metadata": {},
     "output_type": "execute_result"
    }
   ],
   "source": [
    "#CÓDIGO REVISOR\n",
    "user_first_data = pd.merge(users_first_order,\n",
    "                           users_first_visit,\n",
    "                           on='uid'\n",
    "                          )\n",
    "user_first_data"
   ]
  },
  {
   "cell_type": "code",
   "execution_count": 52,
   "metadata": {},
   "outputs": [
    {
     "data": {
      "text/html": [
       "<div>\n",
       "<style scoped>\n",
       "    .dataframe tbody tr th:only-of-type {\n",
       "        vertical-align: middle;\n",
       "    }\n",
       "\n",
       "    .dataframe tbody tr th {\n",
       "        vertical-align: top;\n",
       "    }\n",
       "\n",
       "    .dataframe thead th {\n",
       "        text-align: right;\n",
       "    }\n",
       "</style>\n",
       "<table border=\"1\" class=\"dataframe\">\n",
       "  <thead>\n",
       "    <tr style=\"text-align: right;\">\n",
       "      <th></th>\n",
       "      <th>buy_ts</th>\n",
       "      <th>revenue</th>\n",
       "      <th>uid</th>\n",
       "      <th>order_month</th>\n",
       "      <th>date</th>\n",
       "      <th>week</th>\n",
       "      <th>month</th>\n",
       "      <th>first_order_month</th>\n",
       "      <th>source_id</th>\n",
       "    </tr>\n",
       "  </thead>\n",
       "  <tbody>\n",
       "    <tr>\n",
       "      <th>0</th>\n",
       "      <td>2017-06-01</td>\n",
       "      <td>17.00</td>\n",
       "      <td>10329302124590727494</td>\n",
       "      <td>2017-06-01</td>\n",
       "      <td>2017-06-01</td>\n",
       "      <td>2017-05-29</td>\n",
       "      <td>2017-06-01</td>\n",
       "      <td>2017-06-01</td>\n",
       "      <td>1</td>\n",
       "    </tr>\n",
       "    <tr>\n",
       "      <th>1</th>\n",
       "      <td>2017-06-01</td>\n",
       "      <td>0.55</td>\n",
       "      <td>11627257723692907447</td>\n",
       "      <td>2017-06-01</td>\n",
       "      <td>2017-06-01</td>\n",
       "      <td>2017-05-29</td>\n",
       "      <td>2017-06-01</td>\n",
       "      <td>2017-06-01</td>\n",
       "      <td>2</td>\n",
       "    </tr>\n",
       "    <tr>\n",
       "      <th>2</th>\n",
       "      <td>2017-06-01</td>\n",
       "      <td>0.37</td>\n",
       "      <td>17903680561304213844</td>\n",
       "      <td>2017-06-01</td>\n",
       "      <td>2017-06-01</td>\n",
       "      <td>2017-05-29</td>\n",
       "      <td>2017-06-01</td>\n",
       "      <td>2017-06-01</td>\n",
       "      <td>2</td>\n",
       "    </tr>\n",
       "    <tr>\n",
       "      <th>3</th>\n",
       "      <td>2017-06-01</td>\n",
       "      <td>0.55</td>\n",
       "      <td>16109239769442553005</td>\n",
       "      <td>2017-06-01</td>\n",
       "      <td>2017-06-01</td>\n",
       "      <td>2017-05-29</td>\n",
       "      <td>2017-06-01</td>\n",
       "      <td>2017-06-01</td>\n",
       "      <td>2</td>\n",
       "    </tr>\n",
       "    <tr>\n",
       "      <th>4</th>\n",
       "      <td>2017-06-01</td>\n",
       "      <td>0.37</td>\n",
       "      <td>14200605875248379450</td>\n",
       "      <td>2017-06-01</td>\n",
       "      <td>2017-06-01</td>\n",
       "      <td>2017-05-29</td>\n",
       "      <td>2017-06-01</td>\n",
       "      <td>2017-06-01</td>\n",
       "      <td>3</td>\n",
       "    </tr>\n",
       "    <tr>\n",
       "      <th>...</th>\n",
       "      <td>...</td>\n",
       "      <td>...</td>\n",
       "      <td>...</td>\n",
       "      <td>...</td>\n",
       "      <td>...</td>\n",
       "      <td>...</td>\n",
       "      <td>...</td>\n",
       "      <td>...</td>\n",
       "      <td>...</td>\n",
       "    </tr>\n",
       "    <tr>\n",
       "      <th>50410</th>\n",
       "      <td>2018-05-31</td>\n",
       "      <td>4.64</td>\n",
       "      <td>12296626599487328624</td>\n",
       "      <td>2018-05-01</td>\n",
       "      <td>2018-05-31</td>\n",
       "      <td>2018-05-28</td>\n",
       "      <td>2018-05-01</td>\n",
       "      <td>2018-05-01</td>\n",
       "      <td>4</td>\n",
       "    </tr>\n",
       "    <tr>\n",
       "      <th>50411</th>\n",
       "      <td>2018-05-31</td>\n",
       "      <td>5.80</td>\n",
       "      <td>11369640365507475976</td>\n",
       "      <td>2018-05-01</td>\n",
       "      <td>2018-05-31</td>\n",
       "      <td>2018-05-28</td>\n",
       "      <td>2018-05-01</td>\n",
       "      <td>2018-05-01</td>\n",
       "      <td>10</td>\n",
       "    </tr>\n",
       "    <tr>\n",
       "      <th>50412</th>\n",
       "      <td>2018-05-31</td>\n",
       "      <td>0.30</td>\n",
       "      <td>1786462140797698849</td>\n",
       "      <td>2018-05-01</td>\n",
       "      <td>2018-05-31</td>\n",
       "      <td>2018-05-28</td>\n",
       "      <td>2018-05-01</td>\n",
       "      <td>2018-05-01</td>\n",
       "      <td>3</td>\n",
       "    </tr>\n",
       "    <tr>\n",
       "      <th>50413</th>\n",
       "      <td>2018-05-31</td>\n",
       "      <td>3.67</td>\n",
       "      <td>3993697860786194247</td>\n",
       "      <td>2018-05-01</td>\n",
       "      <td>2018-05-31</td>\n",
       "      <td>2018-05-28</td>\n",
       "      <td>2018-05-01</td>\n",
       "      <td>2018-05-01</td>\n",
       "      <td>3</td>\n",
       "    </tr>\n",
       "    <tr>\n",
       "      <th>50414</th>\n",
       "      <td>2018-06-01</td>\n",
       "      <td>3.42</td>\n",
       "      <td>83872787173869366</td>\n",
       "      <td>2018-06-01</td>\n",
       "      <td>2018-06-01</td>\n",
       "      <td>2018-05-28</td>\n",
       "      <td>2018-06-01</td>\n",
       "      <td>2018-06-01</td>\n",
       "      <td>4</td>\n",
       "    </tr>\n",
       "  </tbody>\n",
       "</table>\n",
       "<p>50415 rows × 9 columns</p>\n",
       "</div>"
      ],
      "text/plain": [
       "          buy_ts  revenue                   uid order_month       date  \\\n",
       "0     2017-06-01    17.00  10329302124590727494  2017-06-01 2017-06-01   \n",
       "1     2017-06-01     0.55  11627257723692907447  2017-06-01 2017-06-01   \n",
       "2     2017-06-01     0.37  17903680561304213844  2017-06-01 2017-06-01   \n",
       "3     2017-06-01     0.55  16109239769442553005  2017-06-01 2017-06-01   \n",
       "4     2017-06-01     0.37  14200605875248379450  2017-06-01 2017-06-01   \n",
       "...          ...      ...                   ...         ...        ...   \n",
       "50410 2018-05-31     4.64  12296626599487328624  2018-05-01 2018-05-31   \n",
       "50411 2018-05-31     5.80  11369640365507475976  2018-05-01 2018-05-31   \n",
       "50412 2018-05-31     0.30   1786462140797698849  2018-05-01 2018-05-31   \n",
       "50413 2018-05-31     3.67   3993697860786194247  2018-05-01 2018-05-31   \n",
       "50414 2018-06-01     3.42     83872787173869366  2018-06-01 2018-06-01   \n",
       "\n",
       "            week      month first_order_month  source_id  \n",
       "0     2017-05-29 2017-06-01        2017-06-01          1  \n",
       "1     2017-05-29 2017-06-01        2017-06-01          2  \n",
       "2     2017-05-29 2017-06-01        2017-06-01          2  \n",
       "3     2017-05-29 2017-06-01        2017-06-01          2  \n",
       "4     2017-05-29 2017-06-01        2017-06-01          3  \n",
       "...          ...        ...               ...        ...  \n",
       "50410 2018-05-28 2018-05-01        2018-05-01          4  \n",
       "50411 2018-05-28 2018-05-01        2018-05-01         10  \n",
       "50412 2018-05-28 2018-05-01        2018-05-01          3  \n",
       "50413 2018-05-28 2018-05-01        2018-05-01          3  \n",
       "50414 2018-05-28 2018-06-01        2018-06-01          4  \n",
       "\n",
       "[50415 rows x 9 columns]"
      ]
     },
     "execution_count": 52,
     "metadata": {},
     "output_type": "execute_result"
    }
   ],
   "source": [
    "#CÓDIGO REVISOR\n",
    "orders_with_user_firsts = pd.merge(orders,\n",
    "                                   user_first_data,\n",
    "                                   on='uid'\n",
    "                                  )\n",
    "orders_with_user_firsts"
   ]
  },
  {
   "cell_type": "code",
   "execution_count": 53,
   "metadata": {},
   "outputs": [
    {
     "data": {
      "text/html": [
       "<div>\n",
       "<style scoped>\n",
       "    .dataframe tbody tr th:only-of-type {\n",
       "        vertical-align: middle;\n",
       "    }\n",
       "\n",
       "    .dataframe tbody tr th {\n",
       "        vertical-align: top;\n",
       "    }\n",
       "\n",
       "    .dataframe thead th {\n",
       "        text-align: right;\n",
       "    }\n",
       "</style>\n",
       "<table border=\"1\" class=\"dataframe\">\n",
       "  <thead>\n",
       "    <tr style=\"text-align: right;\">\n",
       "      <th></th>\n",
       "      <th>date</th>\n",
       "      <th>source_id</th>\n",
       "      <th>buyers</th>\n",
       "    </tr>\n",
       "  </thead>\n",
       "  <tbody>\n",
       "    <tr>\n",
       "      <th>0</th>\n",
       "      <td>2017-06-01</td>\n",
       "      <td>1</td>\n",
       "      <td>14</td>\n",
       "    </tr>\n",
       "    <tr>\n",
       "      <th>1</th>\n",
       "      <td>2017-06-01</td>\n",
       "      <td>2</td>\n",
       "      <td>11</td>\n",
       "    </tr>\n",
       "    <tr>\n",
       "      <th>2</th>\n",
       "      <td>2017-06-01</td>\n",
       "      <td>3</td>\n",
       "      <td>33</td>\n",
       "    </tr>\n",
       "    <tr>\n",
       "      <th>3</th>\n",
       "      <td>2017-06-01</td>\n",
       "      <td>4</td>\n",
       "      <td>10</td>\n",
       "    </tr>\n",
       "    <tr>\n",
       "      <th>4</th>\n",
       "      <td>2017-06-01</td>\n",
       "      <td>5</td>\n",
       "      <td>13</td>\n",
       "    </tr>\n",
       "    <tr>\n",
       "      <th>...</th>\n",
       "      <td>...</td>\n",
       "      <td>...</td>\n",
       "      <td>...</td>\n",
       "    </tr>\n",
       "    <tr>\n",
       "      <th>2470</th>\n",
       "      <td>2018-05-31</td>\n",
       "      <td>4</td>\n",
       "      <td>97</td>\n",
       "    </tr>\n",
       "    <tr>\n",
       "      <th>2471</th>\n",
       "      <td>2018-05-31</td>\n",
       "      <td>5</td>\n",
       "      <td>49</td>\n",
       "    </tr>\n",
       "    <tr>\n",
       "      <th>2472</th>\n",
       "      <td>2018-05-31</td>\n",
       "      <td>9</td>\n",
       "      <td>8</td>\n",
       "    </tr>\n",
       "    <tr>\n",
       "      <th>2473</th>\n",
       "      <td>2018-05-31</td>\n",
       "      <td>10</td>\n",
       "      <td>37</td>\n",
       "    </tr>\n",
       "    <tr>\n",
       "      <th>2474</th>\n",
       "      <td>2018-06-01</td>\n",
       "      <td>4</td>\n",
       "      <td>1</td>\n",
       "    </tr>\n",
       "  </tbody>\n",
       "</table>\n",
       "<p>2475 rows × 3 columns</p>\n",
       "</div>"
      ],
      "text/plain": [
       "           date  source_id  buyers\n",
       "0    2017-06-01          1      14\n",
       "1    2017-06-01          2      11\n",
       "2    2017-06-01          3      33\n",
       "3    2017-06-01          4      10\n",
       "4    2017-06-01          5      13\n",
       "...         ...        ...     ...\n",
       "2470 2018-05-31          4      97\n",
       "2471 2018-05-31          5      49\n",
       "2472 2018-05-31          9       8\n",
       "2473 2018-05-31         10      37\n",
       "2474 2018-06-01          4       1\n",
       "\n",
       "[2475 rows x 3 columns]"
      ]
     },
     "execution_count": 53,
     "metadata": {},
     "output_type": "execute_result"
    }
   ],
   "source": [
    "#CÓDIGO REVISOR\n",
    "buyers_daily = (\n",
    "    orders_with_user_firsts\n",
    "    .groupby(['date','source_id'])\n",
    "    .agg(buyers=('uid','nunique'))\n",
    "    .reset_index()\n",
    ")\n",
    "buyers_daily"
   ]
  },
  {
   "cell_type": "code",
   "execution_count": 54,
   "metadata": {},
   "outputs": [
    {
     "data": {
      "text/html": [
       "<div>\n",
       "<style scoped>\n",
       "    .dataframe tbody tr th:only-of-type {\n",
       "        vertical-align: middle;\n",
       "    }\n",
       "\n",
       "    .dataframe tbody tr th {\n",
       "        vertical-align: top;\n",
       "    }\n",
       "\n",
       "    .dataframe thead th {\n",
       "        text-align: right;\n",
       "    }\n",
       "</style>\n",
       "<table border=\"1\" class=\"dataframe\">\n",
       "  <thead>\n",
       "    <tr style=\"text-align: right;\">\n",
       "      <th></th>\n",
       "      <th>source_id</th>\n",
       "      <th>cac_avg</th>\n",
       "    </tr>\n",
       "  </thead>\n",
       "  <tbody>\n",
       "    <tr>\n",
       "      <th>0</th>\n",
       "      <td>1</td>\n",
       "      <td>5.631889</td>\n",
       "    </tr>\n",
       "    <tr>\n",
       "      <th>1</th>\n",
       "      <td>2</td>\n",
       "      <td>9.457858</td>\n",
       "    </tr>\n",
       "    <tr>\n",
       "      <th>2</th>\n",
       "      <td>3</td>\n",
       "      <td>12.872329</td>\n",
       "    </tr>\n",
       "    <tr>\n",
       "      <th>3</th>\n",
       "      <td>4</td>\n",
       "      <td>6.200855</td>\n",
       "    </tr>\n",
       "    <tr>\n",
       "      <th>4</th>\n",
       "      <td>5</td>\n",
       "      <td>6.609916</td>\n",
       "    </tr>\n",
       "    <tr>\n",
       "      <th>5</th>\n",
       "      <td>7</td>\n",
       "      <td>NaN</td>\n",
       "    </tr>\n",
       "    <tr>\n",
       "      <th>6</th>\n",
       "      <td>9</td>\n",
       "      <td>4.983649</td>\n",
       "    </tr>\n",
       "    <tr>\n",
       "      <th>7</th>\n",
       "      <td>10</td>\n",
       "      <td>5.852818</td>\n",
       "    </tr>\n",
       "  </tbody>\n",
       "</table>\n",
       "</div>"
      ],
      "text/plain": [
       "   source_id    cac_avg\n",
       "0          1   5.631889\n",
       "1          2   9.457858\n",
       "2          3  12.872329\n",
       "3          4   6.200855\n",
       "4          5   6.609916\n",
       "5          7        NaN\n",
       "6          9   4.983649\n",
       "7         10   5.852818"
      ]
     },
     "execution_count": 54,
     "metadata": {},
     "output_type": "execute_result"
    }
   ],
   "source": [
    "# Cálculo del CAC diario\n",
    "cac_daily = pd.merge(buyers_daily, costs_by_source_date, on=['date', 'source_id'], how='left')\n",
    "cac_daily['cac'] = cac_daily['source_cost'] / cac_daily['buyers']\n",
    "\n",
    "# Cálculo del CAC promedio por fuente\n",
    "cac_avg = cac_daily.groupby('source_id')['cac'].mean().reset_index()\n",
    "cac_avg = cac_avg.rename(columns={'cac': 'cac_avg'})\n",
    "cac_avg"
   ]
  },
  {
   "cell_type": "markdown",
   "metadata": {},
   "source": [
    "<div class=\"alert alert-block alert-danger\">\n",
    "<b>Comentario de Reviewer v2</b> <a class=\"tocSkip\"></a>\n",
    "\n",
    "Ahora, con el dataframe buyers_daily, le unes los costos por fuente y día, para calcular el costo de haber adquirido esa cantidad de usuarios costo/buyers, lo que sería el cac diario. Luego puedes agrupar por fuente y obtener un cac promedio pro fuente. \n",
    "    \n",
    "El dataframe orders_with_user_firsts servirá para calcular el romi.\n",
    "    \n",
    "</div>"
   ]
  },
  {
   "cell_type": "markdown",
   "metadata": {},
   "source": [
    "<div class=\"alert alert-block alert-success\">\n",
    "<b>Comentario de Reviewer v3</b> <a class=\"tocSkip\"></a>\n",
    "\n",
    "Muy bien, ahora tenemos un cac para cada fuente, que es el promedio del cac a lo largo del periodo de la data.\n",
    "\n",
    "</div>"
   ]
  },
  {
   "cell_type": "markdown",
   "metadata": {},
   "source": [
    "#### ¿Cuán rentables eran las inversiones? (ROMI) "
   ]
  },
  {
   "cell_type": "code",
   "execution_count": 55,
   "metadata": {},
   "outputs": [
    {
     "data": {
      "text/html": [
       "<div>\n",
       "<style scoped>\n",
       "    .dataframe tbody tr th:only-of-type {\n",
       "        vertical-align: middle;\n",
       "    }\n",
       "\n",
       "    .dataframe tbody tr th {\n",
       "        vertical-align: top;\n",
       "    }\n",
       "\n",
       "    .dataframe thead th {\n",
       "        text-align: right;\n",
       "    }\n",
       "</style>\n",
       "<table border=\"1\" class=\"dataframe\">\n",
       "  <thead>\n",
       "    <tr style=\"text-align: right;\">\n",
       "      <th></th>\n",
       "      <th>buy_ts</th>\n",
       "      <th>revenue</th>\n",
       "      <th>uid</th>\n",
       "      <th>order_month</th>\n",
       "      <th>date</th>\n",
       "      <th>week</th>\n",
       "      <th>month</th>\n",
       "      <th>first_order_month</th>\n",
       "      <th>source_id</th>\n",
       "    </tr>\n",
       "  </thead>\n",
       "  <tbody>\n",
       "    <tr>\n",
       "      <th>0</th>\n",
       "      <td>2017-06-01</td>\n",
       "      <td>17.00</td>\n",
       "      <td>10329302124590727494</td>\n",
       "      <td>2017-06-01</td>\n",
       "      <td>2017-06-01</td>\n",
       "      <td>2017-05-29</td>\n",
       "      <td>2017-06-01</td>\n",
       "      <td>2017-06-01</td>\n",
       "      <td>1</td>\n",
       "    </tr>\n",
       "    <tr>\n",
       "      <th>1</th>\n",
       "      <td>2017-06-01</td>\n",
       "      <td>0.55</td>\n",
       "      <td>11627257723692907447</td>\n",
       "      <td>2017-06-01</td>\n",
       "      <td>2017-06-01</td>\n",
       "      <td>2017-05-29</td>\n",
       "      <td>2017-06-01</td>\n",
       "      <td>2017-06-01</td>\n",
       "      <td>2</td>\n",
       "    </tr>\n",
       "    <tr>\n",
       "      <th>2</th>\n",
       "      <td>2017-06-01</td>\n",
       "      <td>0.37</td>\n",
       "      <td>17903680561304213844</td>\n",
       "      <td>2017-06-01</td>\n",
       "      <td>2017-06-01</td>\n",
       "      <td>2017-05-29</td>\n",
       "      <td>2017-06-01</td>\n",
       "      <td>2017-06-01</td>\n",
       "      <td>2</td>\n",
       "    </tr>\n",
       "    <tr>\n",
       "      <th>3</th>\n",
       "      <td>2017-06-01</td>\n",
       "      <td>0.55</td>\n",
       "      <td>16109239769442553005</td>\n",
       "      <td>2017-06-01</td>\n",
       "      <td>2017-06-01</td>\n",
       "      <td>2017-05-29</td>\n",
       "      <td>2017-06-01</td>\n",
       "      <td>2017-06-01</td>\n",
       "      <td>2</td>\n",
       "    </tr>\n",
       "    <tr>\n",
       "      <th>4</th>\n",
       "      <td>2017-06-01</td>\n",
       "      <td>0.37</td>\n",
       "      <td>14200605875248379450</td>\n",
       "      <td>2017-06-01</td>\n",
       "      <td>2017-06-01</td>\n",
       "      <td>2017-05-29</td>\n",
       "      <td>2017-06-01</td>\n",
       "      <td>2017-06-01</td>\n",
       "      <td>3</td>\n",
       "    </tr>\n",
       "    <tr>\n",
       "      <th>...</th>\n",
       "      <td>...</td>\n",
       "      <td>...</td>\n",
       "      <td>...</td>\n",
       "      <td>...</td>\n",
       "      <td>...</td>\n",
       "      <td>...</td>\n",
       "      <td>...</td>\n",
       "      <td>...</td>\n",
       "      <td>...</td>\n",
       "    </tr>\n",
       "    <tr>\n",
       "      <th>50410</th>\n",
       "      <td>2018-05-31</td>\n",
       "      <td>4.64</td>\n",
       "      <td>12296626599487328624</td>\n",
       "      <td>2018-05-01</td>\n",
       "      <td>2018-05-31</td>\n",
       "      <td>2018-05-28</td>\n",
       "      <td>2018-05-01</td>\n",
       "      <td>2018-05-01</td>\n",
       "      <td>4</td>\n",
       "    </tr>\n",
       "    <tr>\n",
       "      <th>50411</th>\n",
       "      <td>2018-05-31</td>\n",
       "      <td>5.80</td>\n",
       "      <td>11369640365507475976</td>\n",
       "      <td>2018-05-01</td>\n",
       "      <td>2018-05-31</td>\n",
       "      <td>2018-05-28</td>\n",
       "      <td>2018-05-01</td>\n",
       "      <td>2018-05-01</td>\n",
       "      <td>10</td>\n",
       "    </tr>\n",
       "    <tr>\n",
       "      <th>50412</th>\n",
       "      <td>2018-05-31</td>\n",
       "      <td>0.30</td>\n",
       "      <td>1786462140797698849</td>\n",
       "      <td>2018-05-01</td>\n",
       "      <td>2018-05-31</td>\n",
       "      <td>2018-05-28</td>\n",
       "      <td>2018-05-01</td>\n",
       "      <td>2018-05-01</td>\n",
       "      <td>3</td>\n",
       "    </tr>\n",
       "    <tr>\n",
       "      <th>50413</th>\n",
       "      <td>2018-05-31</td>\n",
       "      <td>3.67</td>\n",
       "      <td>3993697860786194247</td>\n",
       "      <td>2018-05-01</td>\n",
       "      <td>2018-05-31</td>\n",
       "      <td>2018-05-28</td>\n",
       "      <td>2018-05-01</td>\n",
       "      <td>2018-05-01</td>\n",
       "      <td>3</td>\n",
       "    </tr>\n",
       "    <tr>\n",
       "      <th>50414</th>\n",
       "      <td>2018-06-01</td>\n",
       "      <td>3.42</td>\n",
       "      <td>83872787173869366</td>\n",
       "      <td>2018-06-01</td>\n",
       "      <td>2018-06-01</td>\n",
       "      <td>2018-05-28</td>\n",
       "      <td>2018-06-01</td>\n",
       "      <td>2018-06-01</td>\n",
       "      <td>4</td>\n",
       "    </tr>\n",
       "  </tbody>\n",
       "</table>\n",
       "<p>50415 rows × 9 columns</p>\n",
       "</div>"
      ],
      "text/plain": [
       "          buy_ts  revenue                   uid order_month       date  \\\n",
       "0     2017-06-01    17.00  10329302124590727494  2017-06-01 2017-06-01   \n",
       "1     2017-06-01     0.55  11627257723692907447  2017-06-01 2017-06-01   \n",
       "2     2017-06-01     0.37  17903680561304213844  2017-06-01 2017-06-01   \n",
       "3     2017-06-01     0.55  16109239769442553005  2017-06-01 2017-06-01   \n",
       "4     2017-06-01     0.37  14200605875248379450  2017-06-01 2017-06-01   \n",
       "...          ...      ...                   ...         ...        ...   \n",
       "50410 2018-05-31     4.64  12296626599487328624  2018-05-01 2018-05-31   \n",
       "50411 2018-05-31     5.80  11369640365507475976  2018-05-01 2018-05-31   \n",
       "50412 2018-05-31     0.30   1786462140797698849  2018-05-01 2018-05-31   \n",
       "50413 2018-05-31     3.67   3993697860786194247  2018-05-01 2018-05-31   \n",
       "50414 2018-06-01     3.42     83872787173869366  2018-06-01 2018-06-01   \n",
       "\n",
       "            week      month first_order_month  source_id  \n",
       "0     2017-05-29 2017-06-01        2017-06-01          1  \n",
       "1     2017-05-29 2017-06-01        2017-06-01          2  \n",
       "2     2017-05-29 2017-06-01        2017-06-01          2  \n",
       "3     2017-05-29 2017-06-01        2017-06-01          2  \n",
       "4     2017-05-29 2017-06-01        2017-06-01          3  \n",
       "...          ...        ...               ...        ...  \n",
       "50410 2018-05-28 2018-05-01        2018-05-01          4  \n",
       "50411 2018-05-28 2018-05-01        2018-05-01         10  \n",
       "50412 2018-05-28 2018-05-01        2018-05-01          3  \n",
       "50413 2018-05-28 2018-05-01        2018-05-01          3  \n",
       "50414 2018-05-28 2018-06-01        2018-06-01          4  \n",
       "\n",
       "[50415 rows x 9 columns]"
      ]
     },
     "execution_count": 55,
     "metadata": {},
     "output_type": "execute_result"
    }
   ],
   "source": [
    "orders_with_user_firsts"
   ]
  },
  {
   "cell_type": "code",
   "execution_count": 56,
   "metadata": {},
   "outputs": [
    {
     "data": {
      "text/html": [
       "<div>\n",
       "<style scoped>\n",
       "    .dataframe tbody tr th:only-of-type {\n",
       "        vertical-align: middle;\n",
       "    }\n",
       "\n",
       "    .dataframe tbody tr th {\n",
       "        vertical-align: top;\n",
       "    }\n",
       "\n",
       "    .dataframe thead th {\n",
       "        text-align: right;\n",
       "    }\n",
       "</style>\n",
       "<table border=\"1\" class=\"dataframe\">\n",
       "  <thead>\n",
       "    <tr style=\"text-align: right;\">\n",
       "      <th>source_id</th>\n",
       "      <th>1</th>\n",
       "      <th>2</th>\n",
       "      <th>3</th>\n",
       "      <th>4</th>\n",
       "      <th>5</th>\n",
       "      <th>9</th>\n",
       "      <th>10</th>\n",
       "    </tr>\n",
       "    <tr>\n",
       "      <th>first_order_month</th>\n",
       "      <th></th>\n",
       "      <th></th>\n",
       "      <th></th>\n",
       "      <th></th>\n",
       "      <th></th>\n",
       "      <th></th>\n",
       "      <th></th>\n",
       "    </tr>\n",
       "  </thead>\n",
       "  <tbody>\n",
       "    <tr>\n",
       "      <th>2017-06-01</th>\n",
       "      <td>5.973867</td>\n",
       "      <td>1.761570</td>\n",
       "      <td>0.443263</td>\n",
       "      <td>1.949536</td>\n",
       "      <td>1.724697</td>\n",
       "      <td>1.393233</td>\n",
       "      <td>0.433907</td>\n",
       "    </tr>\n",
       "    <tr>\n",
       "      <th>2017-07-01</th>\n",
       "      <td>3.709368</td>\n",
       "      <td>1.198418</td>\n",
       "      <td>0.570665</td>\n",
       "      <td>1.012720</td>\n",
       "      <td>1.025707</td>\n",
       "      <td>1.413005</td>\n",
       "      <td>0.623531</td>\n",
       "    </tr>\n",
       "    <tr>\n",
       "      <th>2017-08-01</th>\n",
       "      <td>3.316936</td>\n",
       "      <td>0.879116</td>\n",
       "      <td>0.476718</td>\n",
       "      <td>1.044287</td>\n",
       "      <td>1.531407</td>\n",
       "      <td>1.188937</td>\n",
       "      <td>0.966086</td>\n",
       "    </tr>\n",
       "    <tr>\n",
       "      <th>2017-09-01</th>\n",
       "      <td>1.849560</td>\n",
       "      <td>2.823341</td>\n",
       "      <td>0.535079</td>\n",
       "      <td>1.243008</td>\n",
       "      <td>3.959622</td>\n",
       "      <td>1.940184</td>\n",
       "      <td>0.450250</td>\n",
       "    </tr>\n",
       "    <tr>\n",
       "      <th>2017-10-01</th>\n",
       "      <td>1.488415</td>\n",
       "      <td>1.322451</td>\n",
       "      <td>0.444378</td>\n",
       "      <td>0.829043</td>\n",
       "      <td>0.913346</td>\n",
       "      <td>1.409626</td>\n",
       "      <td>0.486806</td>\n",
       "    </tr>\n",
       "    <tr>\n",
       "      <th>2017-11-01</th>\n",
       "      <td>1.806166</td>\n",
       "      <td>1.027701</td>\n",
       "      <td>0.387649</td>\n",
       "      <td>1.089545</td>\n",
       "      <td>0.787655</td>\n",
       "      <td>0.908239</td>\n",
       "      <td>0.868559</td>\n",
       "    </tr>\n",
       "    <tr>\n",
       "      <th>2017-12-01</th>\n",
       "      <td>0.985814</td>\n",
       "      <td>3.916112</td>\n",
       "      <td>0.368138</td>\n",
       "      <td>0.736031</td>\n",
       "      <td>0.804017</td>\n",
       "      <td>0.953017</td>\n",
       "      <td>0.680879</td>\n",
       "    </tr>\n",
       "    <tr>\n",
       "      <th>2018-01-01</th>\n",
       "      <td>1.247630</td>\n",
       "      <td>0.818827</td>\n",
       "      <td>0.354349</td>\n",
       "      <td>0.659300</td>\n",
       "      <td>0.803929</td>\n",
       "      <td>0.664975</td>\n",
       "      <td>0.544015</td>\n",
       "    </tr>\n",
       "    <tr>\n",
       "      <th>2018-02-01</th>\n",
       "      <td>1.087250</td>\n",
       "      <td>0.702405</td>\n",
       "      <td>0.329930</td>\n",
       "      <td>0.686556</td>\n",
       "      <td>0.676275</td>\n",
       "      <td>1.013266</td>\n",
       "      <td>0.443147</td>\n",
       "    </tr>\n",
       "    <tr>\n",
       "      <th>2018-03-01</th>\n",
       "      <td>2.143273</td>\n",
       "      <td>0.770712</td>\n",
       "      <td>0.372632</td>\n",
       "      <td>0.765904</td>\n",
       "      <td>0.741033</td>\n",
       "      <td>0.557675</td>\n",
       "      <td>0.603918</td>\n",
       "    </tr>\n",
       "    <tr>\n",
       "      <th>2018-04-01</th>\n",
       "      <td>0.883199</td>\n",
       "      <td>0.659240</td>\n",
       "      <td>0.462011</td>\n",
       "      <td>0.841937</td>\n",
       "      <td>0.645046</td>\n",
       "      <td>1.131281</td>\n",
       "      <td>0.418250</td>\n",
       "    </tr>\n",
       "    <tr>\n",
       "      <th>2018-05-01</th>\n",
       "      <td>0.926990</td>\n",
       "      <td>0.723737</td>\n",
       "      <td>0.299748</td>\n",
       "      <td>0.762796</td>\n",
       "      <td>0.637430</td>\n",
       "      <td>0.745939</td>\n",
       "      <td>0.618887</td>\n",
       "    </tr>\n",
       "    <tr>\n",
       "      <th>2018-06-01</th>\n",
       "      <td>NaN</td>\n",
       "      <td>NaN</td>\n",
       "      <td>NaN</td>\n",
       "      <td>0.551537</td>\n",
       "      <td>NaN</td>\n",
       "      <td>NaN</td>\n",
       "      <td>NaN</td>\n",
       "    </tr>\n",
       "  </tbody>\n",
       "</table>\n",
       "</div>"
      ],
      "text/plain": [
       "source_id                1         2         3         4         5         9   \\\n",
       "first_order_month                                                               \n",
       "2017-06-01         5.973867  1.761570  0.443263  1.949536  1.724697  1.393233   \n",
       "2017-07-01         3.709368  1.198418  0.570665  1.012720  1.025707  1.413005   \n",
       "2017-08-01         3.316936  0.879116  0.476718  1.044287  1.531407  1.188937   \n",
       "2017-09-01         1.849560  2.823341  0.535079  1.243008  3.959622  1.940184   \n",
       "2017-10-01         1.488415  1.322451  0.444378  0.829043  0.913346  1.409626   \n",
       "2017-11-01         1.806166  1.027701  0.387649  1.089545  0.787655  0.908239   \n",
       "2017-12-01         0.985814  3.916112  0.368138  0.736031  0.804017  0.953017   \n",
       "2018-01-01         1.247630  0.818827  0.354349  0.659300  0.803929  0.664975   \n",
       "2018-02-01         1.087250  0.702405  0.329930  0.686556  0.676275  1.013266   \n",
       "2018-03-01         2.143273  0.770712  0.372632  0.765904  0.741033  0.557675   \n",
       "2018-04-01         0.883199  0.659240  0.462011  0.841937  0.645046  1.131281   \n",
       "2018-05-01         0.926990  0.723737  0.299748  0.762796  0.637430  0.745939   \n",
       "2018-06-01              NaN       NaN       NaN  0.551537       NaN       NaN   \n",
       "\n",
       "source_id                10  \n",
       "first_order_month            \n",
       "2017-06-01         0.433907  \n",
       "2017-07-01         0.623531  \n",
       "2017-08-01         0.966086  \n",
       "2017-09-01         0.450250  \n",
       "2017-10-01         0.486806  \n",
       "2017-11-01         0.868559  \n",
       "2017-12-01         0.680879  \n",
       "2018-01-01         0.544015  \n",
       "2018-02-01         0.443147  \n",
       "2018-03-01         0.603918  \n",
       "2018-04-01         0.418250  \n",
       "2018-05-01         0.618887  \n",
       "2018-06-01              NaN  "
      ]
     },
     "execution_count": 56,
     "metadata": {},
     "output_type": "execute_result"
    }
   ],
   "source": [
    "# Cálculo del ROMI\n",
    "romi = (orders_with_user_firsts\n",
    "        .groupby(['first_order_month','source_id'])\n",
    "        .agg(total_rev = ('revenue','sum'),n_buyers=('uid','nunique'))\n",
    "        .reset_index()\n",
    "       )\n",
    "romi['ltv'] = romi['total_rev']/romi['n_buyers']\n",
    "romi = pd.merge(romi, cac_avg, on='source_id')\n",
    "romi['romi'] = romi['ltv']/romi['cac_avg']\n",
    "pd.pivot_table(romi, values='romi', index='first_order_month', columns='source_id') "
   ]
  },
  {
   "cell_type": "markdown",
   "metadata": {},
   "source": [
    "<div class=\"alert alert-block alert-danger\">\n",
    "<b>Comentario de Reviewer v3</b> <a class=\"tocSkip\"></a>\n",
    "\n",
    "La idea es correcta, pero el romi se calcula como ltv dividido por el cac. En este caso, primero en orders_with_user_firsts debes agrupar por cohorte y fuente, y sumar todos los revenues y contar todos los compradores del cohorte y fuente. Luego, divides ese revenue en la cantidad de compradores para calcular el ltv. Al resultado de esto le unes los costos y divides el ltv por el cac:\n",
    "    \n",
    "    \n",
    "    romi = (orders_with_user_firsts\n",
    "            .groupby(['first_order_month','source_id'])\n",
    "            .agg(total_rev = ('revenue','sum'),n_buyers=('uid','nunique'))\n",
    "            .reset_index()\n",
    "           )\n",
    "    romi['ltv'] = romi['total_rev']/romi['n_buyers']\n",
    "    romi = pd.merge(romi, cac_avg, on='source_id')\n",
    "    romi['romi'] = romi['ltv']/romi['cac_avg']\n",
    "    pd.pivot_table(romi, values='romi', index='first_order_month', columns='source_id')    \n",
    "\n",
    "</div>"
   ]
  },
  {
   "cell_type": "code",
   "execution_count": 57,
   "metadata": {},
   "outputs": [
    {
     "data": {
      "image/png": "[encoded data removed]",
      "text/plain": [
       "<Figure size 864x576 with 2 Axes>"
      ]
     },
     "metadata": {
      "needs_background": "light"
     },
     "output_type": "display_data"
    }
   ],
   "source": [
    "# Gráfico de mapa de calor\n",
    "pivot_table = pd.pivot_table(romi, values='romi', index='first_order_month', columns='source_id')\n",
    "\n",
    "# Crear el mapa de calor con Seaborn\n",
    "plt.figure(figsize=(12, 8))\n",
    "plt.title('ROMI por Fuente y Mes')\n",
    "sns.heatmap(pivot_table, annot=True, fmt=\".2f\", cmap=\"YlGnBu\", linewidths=0.5)\n",
    "\n",
    "plt.xlabel('Fuente')\n",
    "plt.ylabel('Mes del Primer Pedido')\n",
    "plt.show()"
   ]
  },
  {
   "cell_type": "markdown",
   "metadata": {},
   "source": [
    "Basándome en este análisis, Se sugiere invertir más en fuentes que muestren un LTV creciente a lo largo del tiempo y un ROMI más alto en relación con su respectivo CAC. Específicamente, las fuentes 9, 1 y 4 parecen ser las más rentables.\n",
    "Aquellas fuentes con valores bajos como las fuentes 3, 10 y 5, podrían requerir optimización o reconsideración en términos de la inversión. "
   ]
  },
  {
   "cell_type": "markdown",
   "metadata": {},
   "source": [
    "<div class=\"alert alert-block alert-danger\">\n",
    "<b>Comentario de Reviewer</b> <a class=\"tocSkip\"></a>\n",
    "\n",
    "Hay un error en esta parte, estás mostrando el ltv y no el romi. \n",
    "</div>"
   ]
  },
  {
   "cell_type": "markdown",
   "metadata": {},
   "source": [
    "<div class=\"alert alert-block alert-danger\">\n",
    "<b>Comentario de Reviewer v2</b> <a class=\"tocSkip\"></a>\n",
    "\n",
    "La idea está más o menos bien, pero tiene el problema de que el cac es esencialmente muy diferente para cada source, por lo tanto el romi debes medirlo para cada fuente. Calcula el ltv por fuente y con el cac por fuente que hay que calcular en la sección anterior obtén los romis \n",
    "    \n",
    "</div>"
   ]
  },
  {
   "cell_type": "markdown",
   "metadata": {},
   "source": [
    "<div class=\"alert alert-block alert-success\">\n",
    "<b>Comentario de Reviewer v4</b> <a class=\"tocSkip\"></a>\n",
    "\n",
    "Muy bien, corregido!\n",
    "    \n",
    "</div>"
   ]
  },
  {
   "cell_type": "markdown",
   "metadata": {},
   "source": [
    "# Conclusión"
   ]
  },
  {
   "cell_type": "markdown",
   "metadata": {},
   "source": [
    "Basándome en el análisis realizadosobre el valor del LTV, el CAC promedio por fuente y el ROMI, así como las métricas históricas de adquisición de clientes y su valor a lo largo del tiempo, detallaré a continuación mi enqfoqueÑ\n",
    "\n",
    "1. Métricas clave utilizadas:\n",
    "\n",
    "* Se enfocó en el LTV (Valor de vida del cliente), observando cómo aumenta con el tiempo para diferentes cohortes. Las fuentes con un LTV creciente a lo largo del tiempo indican una mayor rentabilidad a largo plazo.\n",
    "* El ROMI (Retorno de la inversión en marketing), que muestra cuánto retorno se obtiene por cada unidad gastada en adquisición de clientes.\n",
    "\n",
    "2. Recomendaciones para la inversión en fuentes:\n",
    "\n",
    "Fuente 9 y Fuente 1: Tienen ROMI más alto en comparación con su CAC. Ambas fuentes muestran un rendimiento sólido en términos de la inversión realizada en adquisición de clientes.\n",
    "Fuente 4: A pesar de tener un CAC razonable, muestra un ROMI significativo en varios meses.\n",
    "\n",
    "Aquellas fuentes con valores bajos como la 3, 10 y 5, podrían requerir optimización o reconsideración en términos de la inversión. "
   ]
  },
  {
   "cell_type": "markdown",
   "metadata": {},
   "source": [
    "<div class=\"alert alert-block alert-info\">\n",
    "<b>Respuesta estudiante.</b> <a class=\"tocSkip\"></a>\n",
    "    Muchas gracias Oscar por tu gran ayuda, tus recomendaciones me han ayudado a entender un poco mas este proyecto.\n",
    "</div>"
   ]
  },
  {
   "cell_type": "markdown",
   "metadata": {},
   "source": [
    "<div class=\"alert alert-block alert-success\">\n",
    "<b>Comentario de Reviewer v4</b> <a class=\"tocSkip\"></a>\n",
    "\n",
    "Las conclusiones no están mal pero tengo algunos comentarios:\n",
    "    \n",
    "- El ltv no se enfoca en rentabilidad, muestra revenue puro\n",
    "- Efectivamente, algunas fuentes no han tenido buen desempeño y es posible que sea mejor no invertir en marketing en ellas\n",
    "- Te recomiendo agregar métricas y resultados medibles para darle más fuerza a las afirmaciones de tus conclusiones.\n",
    "    \n",
    "    \n",
    "    \n",
    "</div>"
   ]
  }
 ],
 "metadata": {
  "kernelspec": {
   "display_name": "Python 3 (ipykernel)",
   "language": "python",
   "name": "python3"
  },
  "language_info": {
   "codemirror_mode": {
    "name": "ipython",
    "version": 3
   },
   "file_extension": ".py",
   "mimetype": "text/x-python",
   "name": "python",
   "nbconvert_exporter": "python",
   "pygments_lexer": "ipython3",
   "version": "3.9.5"
  },
  "toc": {
   "base_numbering": 1,
   "nav_menu": {},
   "number_sections": true,
   "sideBar": true,
   "skip_h1_title": true,
   "title_cell": "Table of Contents",
   "title_sidebar": "Contents",
   "toc_cell": true,
   "toc_position": {
    "height": "calc(100% - 180px)",
    "left": "10px",
    "top": "150px",
    "width": "304.59375px"
   },
   "toc_section_display": true,
   "toc_window_display": true
  }
 },
 "nbformat": 4,
 "nbformat_minor": 2
}
